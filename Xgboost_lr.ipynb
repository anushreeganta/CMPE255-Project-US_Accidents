{
 "cells": [
  {
   "cell_type": "code",
   "execution_count": 213,
   "id": "7f2a7270",
   "metadata": {},
   "outputs": [],
   "source": [
    "import pandas as pd\n",
    "import numpy as np\n",
    "from xgboost import cv\n",
    "import matplotlib.pyplot as plt\n",
    "import sklearn\n",
    "import xgboost\n",
    "from sklearn.linear_model import LinearRegression, Ridge,LogisticRegression\n",
    "from sklearn.model_selection import train_test_split"
   ]
  },
  {
   "cell_type": "code",
   "execution_count": 214,
   "id": "cef789db",
   "metadata": {},
   "outputs": [],
   "source": [
    "df=pd.read_csv('US_Accidents_Dec20_updated.csv')"
   ]
  },
  {
   "cell_type": "code",
   "execution_count": 215,
   "id": "0b1446a8",
   "metadata": {},
   "outputs": [
    {
     "data": {
      "text/html": [
       "<div>\n",
       "<style scoped>\n",
       "    .dataframe tbody tr th:only-of-type {\n",
       "        vertical-align: middle;\n",
       "    }\n",
       "\n",
       "    .dataframe tbody tr th {\n",
       "        vertical-align: top;\n",
       "    }\n",
       "\n",
       "    .dataframe thead th {\n",
       "        text-align: right;\n",
       "    }\n",
       "</style>\n",
       "<table border=\"1\" class=\"dataframe\">\n",
       "  <thead>\n",
       "    <tr style=\"text-align: right;\">\n",
       "      <th></th>\n",
       "      <th>ID</th>\n",
       "      <th>Severity</th>\n",
       "      <th>Start_Time</th>\n",
       "      <th>End_Time</th>\n",
       "      <th>Start_Lat</th>\n",
       "      <th>Start_Lng</th>\n",
       "      <th>End_Lat</th>\n",
       "      <th>End_Lng</th>\n",
       "      <th>Distance(mi)</th>\n",
       "      <th>Description</th>\n",
       "      <th>...</th>\n",
       "      <th>Roundabout</th>\n",
       "      <th>Station</th>\n",
       "      <th>Stop</th>\n",
       "      <th>Traffic_Calming</th>\n",
       "      <th>Traffic_Signal</th>\n",
       "      <th>Turning_Loop</th>\n",
       "      <th>Sunrise_Sunset</th>\n",
       "      <th>Civil_Twilight</th>\n",
       "      <th>Nautical_Twilight</th>\n",
       "      <th>Astronomical_Twilight</th>\n",
       "    </tr>\n",
       "  </thead>\n",
       "  <tbody>\n",
       "    <tr>\n",
       "      <th>0</th>\n",
       "      <td>A-2716600</td>\n",
       "      <td>3</td>\n",
       "      <td>2016-02-08 00:37:08</td>\n",
       "      <td>2016-02-08 06:37:08</td>\n",
       "      <td>40.10891</td>\n",
       "      <td>-83.09286</td>\n",
       "      <td>40.11206</td>\n",
       "      <td>-83.03187</td>\n",
       "      <td>3.230</td>\n",
       "      <td>Between Sawmill Rd/Exit 20 and OH-315/Olentang...</td>\n",
       "      <td>...</td>\n",
       "      <td>False</td>\n",
       "      <td>False</td>\n",
       "      <td>False</td>\n",
       "      <td>False</td>\n",
       "      <td>False</td>\n",
       "      <td>False</td>\n",
       "      <td>Night</td>\n",
       "      <td>Night</td>\n",
       "      <td>Night</td>\n",
       "      <td>Night</td>\n",
       "    </tr>\n",
       "    <tr>\n",
       "      <th>1</th>\n",
       "      <td>A-2716601</td>\n",
       "      <td>2</td>\n",
       "      <td>2016-02-08 05:56:20</td>\n",
       "      <td>2016-02-08 11:56:20</td>\n",
       "      <td>39.86542</td>\n",
       "      <td>-84.06280</td>\n",
       "      <td>39.86501</td>\n",
       "      <td>-84.04873</td>\n",
       "      <td>0.747</td>\n",
       "      <td>At OH-4/OH-235/Exit 41 - Accident.</td>\n",
       "      <td>...</td>\n",
       "      <td>False</td>\n",
       "      <td>False</td>\n",
       "      <td>False</td>\n",
       "      <td>False</td>\n",
       "      <td>False</td>\n",
       "      <td>False</td>\n",
       "      <td>Night</td>\n",
       "      <td>Night</td>\n",
       "      <td>Night</td>\n",
       "      <td>Night</td>\n",
       "    </tr>\n",
       "    <tr>\n",
       "      <th>2</th>\n",
       "      <td>A-2716602</td>\n",
       "      <td>2</td>\n",
       "      <td>2016-02-08 06:15:39</td>\n",
       "      <td>2016-02-08 12:15:39</td>\n",
       "      <td>39.10266</td>\n",
       "      <td>-84.52468</td>\n",
       "      <td>39.10209</td>\n",
       "      <td>-84.52396</td>\n",
       "      <td>0.055</td>\n",
       "      <td>At I-71/US-50/Exit 1 - Accident.</td>\n",
       "      <td>...</td>\n",
       "      <td>False</td>\n",
       "      <td>False</td>\n",
       "      <td>False</td>\n",
       "      <td>False</td>\n",
       "      <td>False</td>\n",
       "      <td>False</td>\n",
       "      <td>Night</td>\n",
       "      <td>Night</td>\n",
       "      <td>Night</td>\n",
       "      <td>Day</td>\n",
       "    </tr>\n",
       "    <tr>\n",
       "      <th>3</th>\n",
       "      <td>A-2716603</td>\n",
       "      <td>2</td>\n",
       "      <td>2016-02-08 06:15:39</td>\n",
       "      <td>2016-02-08 12:15:39</td>\n",
       "      <td>39.10148</td>\n",
       "      <td>-84.52341</td>\n",
       "      <td>39.09841</td>\n",
       "      <td>-84.52241</td>\n",
       "      <td>0.219</td>\n",
       "      <td>At I-71/US-50/Exit 1 - Accident.</td>\n",
       "      <td>...</td>\n",
       "      <td>False</td>\n",
       "      <td>False</td>\n",
       "      <td>False</td>\n",
       "      <td>False</td>\n",
       "      <td>False</td>\n",
       "      <td>False</td>\n",
       "      <td>Night</td>\n",
       "      <td>Night</td>\n",
       "      <td>Night</td>\n",
       "      <td>Day</td>\n",
       "    </tr>\n",
       "    <tr>\n",
       "      <th>4</th>\n",
       "      <td>A-2716604</td>\n",
       "      <td>2</td>\n",
       "      <td>2016-02-08 06:51:45</td>\n",
       "      <td>2016-02-08 12:51:45</td>\n",
       "      <td>41.06213</td>\n",
       "      <td>-81.53784</td>\n",
       "      <td>41.06217</td>\n",
       "      <td>-81.53547</td>\n",
       "      <td>0.123</td>\n",
       "      <td>At Dart Ave/Exit 21 - Accident.</td>\n",
       "      <td>...</td>\n",
       "      <td>False</td>\n",
       "      <td>False</td>\n",
       "      <td>False</td>\n",
       "      <td>False</td>\n",
       "      <td>False</td>\n",
       "      <td>False</td>\n",
       "      <td>Night</td>\n",
       "      <td>Night</td>\n",
       "      <td>Day</td>\n",
       "      <td>Day</td>\n",
       "    </tr>\n",
       "    <tr>\n",
       "      <th>...</th>\n",
       "      <td>...</td>\n",
       "      <td>...</td>\n",
       "      <td>...</td>\n",
       "      <td>...</td>\n",
       "      <td>...</td>\n",
       "      <td>...</td>\n",
       "      <td>...</td>\n",
       "      <td>...</td>\n",
       "      <td>...</td>\n",
       "      <td>...</td>\n",
       "      <td>...</td>\n",
       "      <td>...</td>\n",
       "      <td>...</td>\n",
       "      <td>...</td>\n",
       "      <td>...</td>\n",
       "      <td>...</td>\n",
       "      <td>...</td>\n",
       "      <td>...</td>\n",
       "      <td>...</td>\n",
       "      <td>...</td>\n",
       "      <td>...</td>\n",
       "    </tr>\n",
       "    <tr>\n",
       "      <th>1516059</th>\n",
       "      <td>A-4239402</td>\n",
       "      <td>2</td>\n",
       "      <td>2019-08-23 18:03:25</td>\n",
       "      <td>2019-08-23 18:32:01</td>\n",
       "      <td>34.00248</td>\n",
       "      <td>-117.37936</td>\n",
       "      <td>33.99888</td>\n",
       "      <td>-117.37094</td>\n",
       "      <td>0.543</td>\n",
       "      <td>At Market St - Accident.</td>\n",
       "      <td>...</td>\n",
       "      <td>False</td>\n",
       "      <td>False</td>\n",
       "      <td>False</td>\n",
       "      <td>False</td>\n",
       "      <td>False</td>\n",
       "      <td>False</td>\n",
       "      <td>Day</td>\n",
       "      <td>Day</td>\n",
       "      <td>Day</td>\n",
       "      <td>Day</td>\n",
       "    </tr>\n",
       "    <tr>\n",
       "      <th>1516060</th>\n",
       "      <td>A-4239403</td>\n",
       "      <td>2</td>\n",
       "      <td>2019-08-23 19:11:30</td>\n",
       "      <td>2019-08-23 19:38:23</td>\n",
       "      <td>32.76696</td>\n",
       "      <td>-117.14806</td>\n",
       "      <td>32.76555</td>\n",
       "      <td>-117.15363</td>\n",
       "      <td>0.338</td>\n",
       "      <td>At Camino Del Rio/Mission Center Rd - Accident.</td>\n",
       "      <td>...</td>\n",
       "      <td>False</td>\n",
       "      <td>False</td>\n",
       "      <td>False</td>\n",
       "      <td>False</td>\n",
       "      <td>False</td>\n",
       "      <td>False</td>\n",
       "      <td>Day</td>\n",
       "      <td>Day</td>\n",
       "      <td>Day</td>\n",
       "      <td>Day</td>\n",
       "    </tr>\n",
       "    <tr>\n",
       "      <th>1516061</th>\n",
       "      <td>A-4239404</td>\n",
       "      <td>2</td>\n",
       "      <td>2019-08-23 19:00:21</td>\n",
       "      <td>2019-08-23 19:28:49</td>\n",
       "      <td>33.77545</td>\n",
       "      <td>-117.84779</td>\n",
       "      <td>33.77740</td>\n",
       "      <td>-117.85727</td>\n",
       "      <td>0.561</td>\n",
       "      <td>At Glassell St/Grand Ave - Accident. in the ri...</td>\n",
       "      <td>...</td>\n",
       "      <td>False</td>\n",
       "      <td>False</td>\n",
       "      <td>False</td>\n",
       "      <td>False</td>\n",
       "      <td>False</td>\n",
       "      <td>False</td>\n",
       "      <td>Day</td>\n",
       "      <td>Day</td>\n",
       "      <td>Day</td>\n",
       "      <td>Day</td>\n",
       "    </tr>\n",
       "    <tr>\n",
       "      <th>1516062</th>\n",
       "      <td>A-4239405</td>\n",
       "      <td>2</td>\n",
       "      <td>2019-08-23 19:00:21</td>\n",
       "      <td>2019-08-23 19:29:42</td>\n",
       "      <td>33.99246</td>\n",
       "      <td>-118.40302</td>\n",
       "      <td>33.98311</td>\n",
       "      <td>-118.39565</td>\n",
       "      <td>0.772</td>\n",
       "      <td>At CA-90/Marina Fwy/Jefferson Blvd - Accident.</td>\n",
       "      <td>...</td>\n",
       "      <td>False</td>\n",
       "      <td>False</td>\n",
       "      <td>False</td>\n",
       "      <td>False</td>\n",
       "      <td>False</td>\n",
       "      <td>False</td>\n",
       "      <td>Day</td>\n",
       "      <td>Day</td>\n",
       "      <td>Day</td>\n",
       "      <td>Day</td>\n",
       "    </tr>\n",
       "    <tr>\n",
       "      <th>1516063</th>\n",
       "      <td>A-4239406</td>\n",
       "      <td>2</td>\n",
       "      <td>2019-08-23 18:52:06</td>\n",
       "      <td>2019-08-23 19:21:31</td>\n",
       "      <td>34.13393</td>\n",
       "      <td>-117.23092</td>\n",
       "      <td>34.13736</td>\n",
       "      <td>-117.23934</td>\n",
       "      <td>0.537</td>\n",
       "      <td>At Highland Ave/Arden Ave - Accident.</td>\n",
       "      <td>...</td>\n",
       "      <td>False</td>\n",
       "      <td>False</td>\n",
       "      <td>False</td>\n",
       "      <td>False</td>\n",
       "      <td>False</td>\n",
       "      <td>False</td>\n",
       "      <td>Day</td>\n",
       "      <td>Day</td>\n",
       "      <td>Day</td>\n",
       "      <td>Day</td>\n",
       "    </tr>\n",
       "  </tbody>\n",
       "</table>\n",
       "<p>1516064 rows × 47 columns</p>\n",
       "</div>"
      ],
      "text/plain": [
       "                ID  Severity           Start_Time             End_Time  \\\n",
       "0        A-2716600         3  2016-02-08 00:37:08  2016-02-08 06:37:08   \n",
       "1        A-2716601         2  2016-02-08 05:56:20  2016-02-08 11:56:20   \n",
       "2        A-2716602         2  2016-02-08 06:15:39  2016-02-08 12:15:39   \n",
       "3        A-2716603         2  2016-02-08 06:15:39  2016-02-08 12:15:39   \n",
       "4        A-2716604         2  2016-02-08 06:51:45  2016-02-08 12:51:45   \n",
       "...            ...       ...                  ...                  ...   \n",
       "1516059  A-4239402         2  2019-08-23 18:03:25  2019-08-23 18:32:01   \n",
       "1516060  A-4239403         2  2019-08-23 19:11:30  2019-08-23 19:38:23   \n",
       "1516061  A-4239404         2  2019-08-23 19:00:21  2019-08-23 19:28:49   \n",
       "1516062  A-4239405         2  2019-08-23 19:00:21  2019-08-23 19:29:42   \n",
       "1516063  A-4239406         2  2019-08-23 18:52:06  2019-08-23 19:21:31   \n",
       "\n",
       "         Start_Lat  Start_Lng   End_Lat    End_Lng  Distance(mi)  \\\n",
       "0         40.10891  -83.09286  40.11206  -83.03187         3.230   \n",
       "1         39.86542  -84.06280  39.86501  -84.04873         0.747   \n",
       "2         39.10266  -84.52468  39.10209  -84.52396         0.055   \n",
       "3         39.10148  -84.52341  39.09841  -84.52241         0.219   \n",
       "4         41.06213  -81.53784  41.06217  -81.53547         0.123   \n",
       "...            ...        ...       ...        ...           ...   \n",
       "1516059   34.00248 -117.37936  33.99888 -117.37094         0.543   \n",
       "1516060   32.76696 -117.14806  32.76555 -117.15363         0.338   \n",
       "1516061   33.77545 -117.84779  33.77740 -117.85727         0.561   \n",
       "1516062   33.99246 -118.40302  33.98311 -118.39565         0.772   \n",
       "1516063   34.13393 -117.23092  34.13736 -117.23934         0.537   \n",
       "\n",
       "                                               Description  ...  Roundabout  \\\n",
       "0        Between Sawmill Rd/Exit 20 and OH-315/Olentang...  ...       False   \n",
       "1                       At OH-4/OH-235/Exit 41 - Accident.  ...       False   \n",
       "2                         At I-71/US-50/Exit 1 - Accident.  ...       False   \n",
       "3                         At I-71/US-50/Exit 1 - Accident.  ...       False   \n",
       "4                          At Dart Ave/Exit 21 - Accident.  ...       False   \n",
       "...                                                    ...  ...         ...   \n",
       "1516059                           At Market St - Accident.  ...       False   \n",
       "1516060    At Camino Del Rio/Mission Center Rd - Accident.  ...       False   \n",
       "1516061  At Glassell St/Grand Ave - Accident. in the ri...  ...       False   \n",
       "1516062     At CA-90/Marina Fwy/Jefferson Blvd - Accident.  ...       False   \n",
       "1516063              At Highland Ave/Arden Ave - Accident.  ...       False   \n",
       "\n",
       "        Station   Stop Traffic_Calming Traffic_Signal Turning_Loop  \\\n",
       "0         False  False           False          False        False   \n",
       "1         False  False           False          False        False   \n",
       "2         False  False           False          False        False   \n",
       "3         False  False           False          False        False   \n",
       "4         False  False           False          False        False   \n",
       "...         ...    ...             ...            ...          ...   \n",
       "1516059   False  False           False          False        False   \n",
       "1516060   False  False           False          False        False   \n",
       "1516061   False  False           False          False        False   \n",
       "1516062   False  False           False          False        False   \n",
       "1516063   False  False           False          False        False   \n",
       "\n",
       "        Sunrise_Sunset Civil_Twilight Nautical_Twilight Astronomical_Twilight  \n",
       "0                Night          Night             Night                 Night  \n",
       "1                Night          Night             Night                 Night  \n",
       "2                Night          Night             Night                   Day  \n",
       "3                Night          Night             Night                   Day  \n",
       "4                Night          Night               Day                   Day  \n",
       "...                ...            ...               ...                   ...  \n",
       "1516059            Day            Day               Day                   Day  \n",
       "1516060            Day            Day               Day                   Day  \n",
       "1516061            Day            Day               Day                   Day  \n",
       "1516062            Day            Day               Day                   Day  \n",
       "1516063            Day            Day               Day                   Day  \n",
       "\n",
       "[1516064 rows x 47 columns]"
      ]
     },
     "execution_count": 215,
     "metadata": {},
     "output_type": "execute_result"
    }
   ],
   "source": [
    "df"
   ]
  },
  {
   "cell_type": "markdown",
   "id": "233fc779",
   "metadata": {},
   "source": [
    "drop columns where one category dominates\n",
    "which colums to drop in categorical?( city state county looks skewed).Definitley drop colums withnjust one category\n",
    "\n",
    "\n",
    "Covert the timestamp to a common time.\n",
    "Fill missing values\n",
    "\n"
   ]
  },
  {
   "cell_type": "code",
   "execution_count": 216,
   "id": "43e460c9",
   "metadata": {},
   "outputs": [
    {
     "name": "stdout",
     "output_type": "stream",
     "text": [
      "<class 'pandas.core.frame.DataFrame'>\n",
      "RangeIndex: 1516064 entries, 0 to 1516063\n",
      "Data columns (total 47 columns):\n",
      " #   Column                 Non-Null Count    Dtype  \n",
      "---  ------                 --------------    -----  \n",
      " 0   ID                     1516064 non-null  object \n",
      " 1   Severity               1516064 non-null  int64  \n",
      " 2   Start_Time             1516064 non-null  object \n",
      " 3   End_Time               1516064 non-null  object \n",
      " 4   Start_Lat              1516064 non-null  float64\n",
      " 5   Start_Lng              1516064 non-null  float64\n",
      " 6   End_Lat                1516064 non-null  float64\n",
      " 7   End_Lng                1516064 non-null  float64\n",
      " 8   Distance(mi)           1516064 non-null  float64\n",
      " 9   Description            1516064 non-null  object \n",
      " 10  Number                 469969 non-null   float64\n",
      " 11  Street                 1516064 non-null  object \n",
      " 12  Side                   1516064 non-null  object \n",
      " 13  City                   1515981 non-null  object \n",
      " 14  County                 1516064 non-null  object \n",
      " 15  State                  1516064 non-null  object \n",
      " 16  Zipcode                1515129 non-null  object \n",
      " 17  Country                1516064 non-null  object \n",
      " 18  Timezone               1513762 non-null  object \n",
      " 19  Airport_Code           1511816 non-null  object \n",
      " 20  Weather_Timestamp      1485800 non-null  object \n",
      " 21  Temperature(F)         1473031 non-null  float64\n",
      " 22  Wind_Chill(F)          1066748 non-null  float64\n",
      " 23  Humidity(%)            1470555 non-null  float64\n",
      " 24  Pressure(in)           1479790 non-null  float64\n",
      " 25  Visibility(mi)         1471853 non-null  float64\n",
      " 26  Wind_Direction         1474206 non-null  object \n",
      " 27  Wind_Speed(mph)        1387202 non-null  float64\n",
      " 28  Precipitation(in)      1005515 non-null  float64\n",
      " 29  Weather_Condition      1472057 non-null  object \n",
      " 30  Amenity                1516064 non-null  bool   \n",
      " 31  Bump                   1516064 non-null  bool   \n",
      " 32  Crossing               1516064 non-null  bool   \n",
      " 33  Give_Way               1516064 non-null  bool   \n",
      " 34  Junction               1516064 non-null  bool   \n",
      " 35  No_Exit                1516064 non-null  bool   \n",
      " 36  Railway                1516064 non-null  bool   \n",
      " 37  Roundabout             1516064 non-null  bool   \n",
      " 38  Station                1516064 non-null  bool   \n",
      " 39  Stop                   1516064 non-null  bool   \n",
      " 40  Traffic_Calming        1516064 non-null  bool   \n",
      " 41  Traffic_Signal         1516064 non-null  bool   \n",
      " 42  Turning_Loop           1516064 non-null  bool   \n",
      " 43  Sunrise_Sunset         1515981 non-null  object \n",
      " 44  Civil_Twilight         1515981 non-null  object \n",
      " 45  Nautical_Twilight      1515981 non-null  object \n",
      " 46  Astronomical_Twilight  1515981 non-null  object \n",
      "dtypes: bool(13), float64(13), int64(1), object(20)\n",
      "memory usage: 412.1+ MB\n"
     ]
    }
   ],
   "source": [
    "df.info()"
   ]
  },
  {
   "cell_type": "code",
   "execution_count": 217,
   "id": "f8bed9b1",
   "metadata": {},
   "outputs": [
    {
     "data": {
      "text/plain": [
       "False    1512809\n",
       "True        3255\n",
       "Name: Give_Way, dtype: int64"
      ]
     },
     "execution_count": 217,
     "metadata": {},
     "output_type": "execute_result"
    }
   ],
   "source": [
    "ac=df['Give_Way'].value_counts()\n",
    "#at=df['Astronomical_Twilight'].value_counts()\n",
    "ac"
   ]
  },
  {
   "cell_type": "code",
   "execution_count": 218,
   "id": "08c3776b",
   "metadata": {},
   "outputs": [
    {
     "data": {
      "text/plain": [
       "0.21470069865124428"
      ]
     },
     "execution_count": 218,
     "metadata": {},
     "output_type": "execute_result"
    }
   ],
   "source": [
    "100*3255/sum(ac)"
   ]
  },
  {
   "cell_type": "code",
   "execution_count": 219,
   "id": "b1bbc693",
   "metadata": {},
   "outputs": [
    {
     "data": {
      "text/plain": [
       "Los Angeles         39984\n",
       "Miami               36233\n",
       "Charlotte           22203\n",
       "Houston             20843\n",
       "Dallas              19497\n",
       "                    ...  \n",
       "Five Points             1\n",
       "North Washington        1\n",
       "Schroeder               1\n",
       "Pall Mall               1\n",
       "Closter                 1\n",
       "Name: City, Length: 10657, dtype: int64"
      ]
     },
     "execution_count": 219,
     "metadata": {},
     "output_type": "execute_result"
    }
   ],
   "source": [
    "df['City'].value_counts()"
   ]
  },
  {
   "cell_type": "code",
   "execution_count": 220,
   "id": "83518b82",
   "metadata": {},
   "outputs": [],
   "source": [
    "st=df['State'].value_counts()"
   ]
  },
  {
   "cell_type": "code",
   "execution_count": 221,
   "id": "69b70e79",
   "metadata": {},
   "outputs": [
    {
     "data": {
      "text/plain": [
       "CA    448833\n",
       "FL    153007\n",
       "OR     87484\n",
       "TX     75142\n",
       "NY     60974\n",
       "MN     52345\n",
       "VA     51198\n",
       "NC     50159\n",
       "PA     42844\n",
       "IL     41709\n",
       "MD     35320\n",
       "UT     33218\n",
       "GA     31111\n",
       "AZ     30185\n",
       "NJ     29850\n",
       "SC     28090\n",
       "MI     27775\n",
       "WA     22999\n",
       "OH     22044\n",
       "TN     21874\n",
       "CO     19809\n",
       "LA     19250\n",
       "MO     16949\n",
       "CT     15194\n",
       "IN     11736\n",
       "AL      9375\n",
       "WI      7919\n",
       "MA      6121\n",
       "KY      5671\n",
       "OK      5592\n",
       "KS      5146\n",
       "IA      4780\n",
       "AR      4373\n",
       "ID      4061\n",
       "NH      3826\n",
       "DC      3788\n",
       "RI      3766\n",
       "NV      3681\n",
       "MT      3306\n",
       "WV      3242\n",
       "MS      2790\n",
       "DE      2331\n",
       "ME      2202\n",
       "NE      2178\n",
       "NM      1467\n",
       "ND       455\n",
       "VT       352\n",
       "WY       330\n",
       "SD       213\n",
       "Name: State, dtype: int64"
      ]
     },
     "execution_count": 221,
     "metadata": {},
     "output_type": "execute_result"
    }
   ],
   "source": [
    "st"
   ]
  },
  {
   "cell_type": "code",
   "execution_count": 222,
   "id": "1f1cf00e",
   "metadata": {},
   "outputs": [
    {
     "data": {
      "text/plain": [
       "0.00014049538805749624"
      ]
     },
     "execution_count": 222,
     "metadata": {},
     "output_type": "execute_result"
    }
   ],
   "source": [
    "213/sum(st)"
   ]
  },
  {
   "cell_type": "code",
   "execution_count": null,
   "id": "b8961a82",
   "metadata": {},
   "outputs": [],
   "source": []
  },
  {
   "cell_type": "markdown",
   "id": "35500ff1",
   "metadata": {},
   "source": [
    "Getting all the categorical columns"
   ]
  },
  {
   "cell_type": "code",
   "execution_count": 223,
   "id": "0d469f0f",
   "metadata": {},
   "outputs": [],
   "source": [
    "cat_col=df.select_dtypes(['object','bool']).columns\n"
   ]
  },
  {
   "cell_type": "code",
   "execution_count": 224,
   "id": "86e8b7cb",
   "metadata": {},
   "outputs": [
    {
     "data": {
      "text/plain": [
       "Index(['ID', 'Start_Time', 'End_Time', 'Description', 'Street', 'Side', 'City',\n",
       "       'County', 'State', 'Zipcode', 'Country', 'Timezone', 'Airport_Code',\n",
       "       'Weather_Timestamp', 'Wind_Direction', 'Weather_Condition', 'Amenity',\n",
       "       'Bump', 'Crossing', 'Give_Way', 'Junction', 'No_Exit', 'Railway',\n",
       "       'Roundabout', 'Station', 'Stop', 'Traffic_Calming', 'Traffic_Signal',\n",
       "       'Turning_Loop', 'Sunrise_Sunset', 'Civil_Twilight', 'Nautical_Twilight',\n",
       "       'Astronomical_Twilight'],\n",
       "      dtype='object')"
      ]
     },
     "execution_count": 224,
     "metadata": {},
     "output_type": "execute_result"
    }
   ],
   "source": [
    "cat_col"
   ]
  },
  {
   "cell_type": "markdown",
   "id": "f9cbd1b9",
   "metadata": {},
   "source": [
    "ID is irreleveant so removing it from list of categorical columns. Start time and end time is also removed because\n",
    "they are going to be treated as time"
   ]
  },
  {
   "cell_type": "code",
   "execution_count": 225,
   "id": "8320dc10",
   "metadata": {},
   "outputs": [],
   "source": [
    "cat_col=cat_col[4:]"
   ]
  },
  {
   "cell_type": "code",
   "execution_count": 226,
   "id": "4fdf5011",
   "metadata": {},
   "outputs": [
    {
     "data": {
      "text/plain": [
       "Index(['Street', 'Side', 'City', 'County', 'State', 'Zipcode', 'Country',\n",
       "       'Timezone', 'Airport_Code', 'Weather_Timestamp', 'Wind_Direction',\n",
       "       'Weather_Condition', 'Amenity', 'Bump', 'Crossing', 'Give_Way',\n",
       "       'Junction', 'No_Exit', 'Railway', 'Roundabout', 'Station', 'Stop',\n",
       "       'Traffic_Calming', 'Traffic_Signal', 'Turning_Loop', 'Sunrise_Sunset',\n",
       "       'Civil_Twilight', 'Nautical_Twilight', 'Astronomical_Twilight'],\n",
       "      dtype='object')"
      ]
     },
     "execution_count": 226,
     "metadata": {},
     "output_type": "execute_result"
    }
   ],
   "source": [
    "cat_col"
   ]
  },
  {
   "cell_type": "markdown",
   "id": "b902b940",
   "metadata": {},
   "source": [
    "Filtering the categorical columsn and selecting only those columns thst have total number of classes between\n",
    "2 and 50."
   ]
  },
  {
   "cell_type": "code",
   "execution_count": 227,
   "id": "92fa57e7",
   "metadata": {},
   "outputs": [],
   "source": [
    "cat_col_selected=[]\n",
    "for i in cat_col:\n",
    "    x=df[i].value_counts()\n",
    "    if(len(x)>=2 and len(x)<50 and i!='Wind_Direction'):\n",
    "        cat_col_selected.append(i)\n",
    "        \n",
    "        "
   ]
  },
  {
   "cell_type": "code",
   "execution_count": 228,
   "id": "5cfeb19e",
   "metadata": {},
   "outputs": [
    {
     "data": {
      "text/plain": [
       "['Side',\n",
       " 'State',\n",
       " 'Timezone',\n",
       " 'Amenity',\n",
       " 'Bump',\n",
       " 'Crossing',\n",
       " 'Give_Way',\n",
       " 'Junction',\n",
       " 'No_Exit',\n",
       " 'Railway',\n",
       " 'Roundabout',\n",
       " 'Station',\n",
       " 'Stop',\n",
       " 'Traffic_Calming',\n",
       " 'Traffic_Signal',\n",
       " 'Sunrise_Sunset',\n",
       " 'Civil_Twilight',\n",
       " 'Nautical_Twilight',\n",
       " 'Astronomical_Twilight']"
      ]
     },
     "execution_count": 228,
     "metadata": {},
     "output_type": "execute_result"
    }
   ],
   "source": [
    "cat_col_selected"
   ]
  },
  {
   "cell_type": "code",
   "execution_count": null,
   "id": "c4a9639b",
   "metadata": {},
   "outputs": [],
   "source": []
  },
  {
   "cell_type": "code",
   "execution_count": null,
   "id": "432f9ccb",
   "metadata": {},
   "outputs": [],
   "source": []
  },
  {
   "cell_type": "code",
   "execution_count": 229,
   "id": "cec0d931",
   "metadata": {},
   "outputs": [],
   "source": [
    "#Is weather cobdition useful?  Wind_direction has to be preprocessed before encoding\n",
    "# so cat_col_selected with Wind_direction should be categorical( city, county or state required?)"
   ]
  },
  {
   "cell_type": "code",
   "execution_count": 230,
   "id": "3804a909",
   "metadata": {},
   "outputs": [],
   "source": [
    "#Covert time stamps to proper time using timezone column\n"
   ]
  },
  {
   "cell_type": "code",
   "execution_count": 231,
   "id": "0aac4259",
   "metadata": {},
   "outputs": [
    {
     "data": {
      "text/plain": [
       "US/Eastern     587961\n",
       "US/Pacific     564358\n",
       "US/Central     265204\n",
       "US/Mountain     96239\n",
       "Name: Timezone, dtype: int64"
      ]
     },
     "execution_count": 231,
     "metadata": {},
     "output_type": "execute_result"
    }
   ],
   "source": [
    "df['Timezone'].value_counts()"
   ]
  },
  {
   "cell_type": "markdown",
   "id": "85be28b3",
   "metadata": {},
   "source": [
    "filling the missing values in time zone attribute with the most occuring one."
   ]
  },
  {
   "cell_type": "code",
   "execution_count": 232,
   "id": "8dc578ae",
   "metadata": {},
   "outputs": [],
   "source": [
    "def most_occur(x):\n",
    "    if(x.name in ['Timezone']):\n",
    "        return x.fillna(x.value_counts().index[0])\n",
    "    else:\n",
    "        return x\n",
    "\n",
    "df=df.apply(most_occur)\n"
   ]
  },
  {
   "cell_type": "markdown",
   "id": "0d89fef7",
   "metadata": {},
   "source": [
    "Preprocessing step for timezone attribute: US/Eastern is converted into E ; US/Pacific into P and so on. This is done dynamically"
   ]
  },
  {
   "cell_type": "code",
   "execution_count": 233,
   "id": "bca12471",
   "metadata": {},
   "outputs": [],
   "source": [
    "def preprocess_timezone(x):\n",
    "    ans=x.split('/')[1][0]\n",
    "    #print('here')\n",
    "    return ans\n",
    "\n",
    "df['Timezone']=df['Timezone'].apply(preprocess_timezone)\n",
    "\n",
    "\n",
    "    "
   ]
  },
  {
   "cell_type": "code",
   "execution_count": 234,
   "id": "4a26c6c2",
   "metadata": {},
   "outputs": [],
   "source": [
    "#test='US/Eastern'\n",
    "#test.split('/')[1][0]"
   ]
  },
  {
   "cell_type": "code",
   "execution_count": null,
   "id": "d4eb8eb3",
   "metadata": {},
   "outputs": [],
   "source": []
  },
  {
   "cell_type": "code",
   "execution_count": 235,
   "id": "80e022a9",
   "metadata": {},
   "outputs": [
    {
     "data": {
      "text/plain": [
       "0          E\n",
       "1          E\n",
       "2          E\n",
       "3          E\n",
       "4          E\n",
       "          ..\n",
       "1516059    P\n",
       "1516060    P\n",
       "1516061    P\n",
       "1516062    P\n",
       "1516063    P\n",
       "Name: Timezone, Length: 1516064, dtype: object"
      ]
     },
     "execution_count": 235,
     "metadata": {},
     "output_type": "execute_result"
    }
   ],
   "source": [
    "df['Timezone']"
   ]
  },
  {
   "cell_type": "code",
   "execution_count": 236,
   "id": "478a0745",
   "metadata": {},
   "outputs": [],
   "source": [
    "#df['Start_Time']"
   ]
  },
  {
   "cell_type": "code",
   "execution_count": 237,
   "id": "7d549730",
   "metadata": {},
   "outputs": [
    {
     "data": {
      "text/plain": [
       "int"
      ]
     },
     "execution_count": 237,
     "metadata": {},
     "output_type": "execute_result"
    }
   ],
   "source": [
    "#test='2016-02-08 00:37:08'\n",
    "#date=test.split(' ')[0]\n",
    "#time=test.split(' ')[1]\n",
    "#date.split('-')\n",
    "from datetime import datetime,timedelta\n",
    "\n",
    "dt=datetime.fromisoformat('2016-02-08')\n",
    "type(dt.weekday())"
   ]
  },
  {
   "cell_type": "markdown",
   "id": "5aabf4cb",
   "metadata": {},
   "source": [
    "Preproces the start_time and end_time attributes. Splittig the start time into start_day and start_month. Start_month is month. Start_day is the day of the week.(0-Sunday, 1-Monday and so on). Same preprocessing step applied to end_time as well"
   ]
  },
  {
   "cell_type": "code",
   "execution_count": 238,
   "id": "3ab26fdb",
   "metadata": {},
   "outputs": [],
   "source": [
    "#from datetime import datetime,timedelta\n",
    "\n",
    "def date_from_timestamp(x):\n",
    "    dt=x.split(' ')[0]\n",
    "    DT=datetime.fromisoformat(dt)\n",
    "    return [ int(dt.split('-')[1]),DT.weekday() ]\n",
    "\n",
    "start_date=df['Start_Time'].apply(date_from_timestamp)\n",
    "df['start_month']=list(zip(*start_date))[0]\n",
    "df['start_day']=list(zip(*start_date))[1]\n"
   ]
  },
  {
   "cell_type": "code",
   "execution_count": 239,
   "id": "40f30a7c",
   "metadata": {},
   "outputs": [
    {
     "data": {
      "text/plain": [
       "0          2\n",
       "1          2\n",
       "2          2\n",
       "3          2\n",
       "4          2\n",
       "          ..\n",
       "1516059    8\n",
       "1516060    8\n",
       "1516061    8\n",
       "1516062    8\n",
       "1516063    8\n",
       "Name: start_month, Length: 1516064, dtype: int64"
      ]
     },
     "execution_count": 239,
     "metadata": {},
     "output_type": "execute_result"
    }
   ],
   "source": [
    "df['start_month']"
   ]
  },
  {
   "cell_type": "code",
   "execution_count": 240,
   "id": "52647fa2",
   "metadata": {},
   "outputs": [],
   "source": [
    "#df['start_day'][0:40]"
   ]
  },
  {
   "cell_type": "code",
   "execution_count": 241,
   "id": "bd9ef7e9",
   "metadata": {},
   "outputs": [],
   "source": [
    "end_date=df['End_Time'].apply(date_from_timestamp)\n",
    "df['end_month']=list(zip(*end_date))[0]\n",
    "df['end_day']=list(zip(*end_date))[1]"
   ]
  },
  {
   "cell_type": "code",
   "execution_count": 242,
   "id": "b41df2a1",
   "metadata": {},
   "outputs": [
    {
     "data": {
      "text/plain": [
       "0          2\n",
       "1          2\n",
       "2          2\n",
       "3          2\n",
       "4          2\n",
       "          ..\n",
       "1516059    8\n",
       "1516060    8\n",
       "1516061    8\n",
       "1516062    8\n",
       "1516063    8\n",
       "Name: end_month, Length: 1516064, dtype: int64"
      ]
     },
     "execution_count": 242,
     "metadata": {},
     "output_type": "execute_result"
    }
   ],
   "source": [
    "df['end_month']"
   ]
  },
  {
   "cell_type": "code",
   "execution_count": null,
   "id": "edc7b54f",
   "metadata": {},
   "outputs": [],
   "source": []
  },
  {
   "cell_type": "code",
   "execution_count": 243,
   "id": "3ac95a44",
   "metadata": {},
   "outputs": [
    {
     "data": {
      "text/plain": [
       "0          2016-02-08 00:37:08\n",
       "1          2016-02-08 05:56:20\n",
       "2          2016-02-08 06:15:39\n",
       "3          2016-02-08 06:15:39\n",
       "4          2016-02-08 06:51:45\n",
       "                  ...         \n",
       "1516059    2019-08-23 18:03:25\n",
       "1516060    2019-08-23 19:11:30\n",
       "1516061    2019-08-23 19:00:21\n",
       "1516062    2019-08-23 19:00:21\n",
       "1516063    2019-08-23 18:52:06\n",
       "Name: Start_Time, Length: 1516064, dtype: object"
      ]
     },
     "execution_count": 243,
     "metadata": {},
     "output_type": "execute_result"
    }
   ],
   "source": [
    "df['Start_Time']"
   ]
  },
  {
   "cell_type": "code",
   "execution_count": 244,
   "id": "36bd421f",
   "metadata": {},
   "outputs": [],
   "source": [
    "from datetime import datetime,timedelta"
   ]
  },
  {
   "cell_type": "code",
   "execution_count": 245,
   "id": "c00be499",
   "metadata": {},
   "outputs": [
    {
     "data": {
      "text/plain": [
       "0"
      ]
     },
     "execution_count": 245,
     "metadata": {},
     "output_type": "execute_result"
    }
   ],
   "source": [
    "dt=datetime.fromisoformat('2016-02-08')\n",
    "dt.weekday()"
   ]
  },
  {
   "cell_type": "code",
   "execution_count": 246,
   "id": "8887d3ff",
   "metadata": {},
   "outputs": [],
   "source": [
    "#te='2016-02-08 00:37:08'\n",
    "#dt=datetime.fromisoformat(te)"
   ]
  },
  {
   "cell_type": "code",
   "execution_count": 247,
   "id": "d7e89c06",
   "metadata": {},
   "outputs": [
    {
     "data": {
      "text/plain": [
       "0          2016-02-08 00:37:08\n",
       "1          2016-02-08 05:56:20\n",
       "2          2016-02-08 06:15:39\n",
       "3          2016-02-08 06:15:39\n",
       "4          2016-02-08 06:51:45\n",
       "                  ...         \n",
       "1516059    2019-08-23 18:03:25\n",
       "1516060    2019-08-23 19:11:30\n",
       "1516061    2019-08-23 19:00:21\n",
       "1516062    2019-08-23 19:00:21\n",
       "1516063    2019-08-23 18:52:06\n",
       "Name: Start_Time, Length: 1516064, dtype: object"
      ]
     },
     "execution_count": 247,
     "metadata": {},
     "output_type": "execute_result"
    }
   ],
   "source": [
    "df['Start_Time']"
   ]
  },
  {
   "cell_type": "code",
   "execution_count": 248,
   "id": "a83f59f9",
   "metadata": {},
   "outputs": [],
   "source": [
    "dt=datetime.fromisoformat('2016-02-14')"
   ]
  },
  {
   "cell_type": "code",
   "execution_count": null,
   "id": "bd2d3148",
   "metadata": {},
   "outputs": [],
   "source": []
  },
  {
   "cell_type": "code",
   "execution_count": null,
   "id": "732b6b07",
   "metadata": {},
   "outputs": [],
   "source": []
  },
  {
   "cell_type": "markdown",
   "id": "75542201",
   "metadata": {},
   "source": [
    "Considering the hours part of the time"
   ]
  },
  {
   "cell_type": "code",
   "execution_count": 249,
   "id": "d8bb6704",
   "metadata": {},
   "outputs": [],
   "source": [
    "def conv_time(x):\n",
    "    tm=x.split(' ')[1]\n",
    "    #tm=tm[0:19]\n",
    "    return int(tm.split(':')[0])\n",
    "\n",
    "df['start_hours']=df['Start_Time'].apply(conv_time)\n",
    "df['end_hours']=df['End_Time'].apply(conv_time)\n"
   ]
  },
  {
   "cell_type": "code",
   "execution_count": 250,
   "id": "22e70bce",
   "metadata": {},
   "outputs": [
    {
     "data": {
      "text/plain": [
       "0           0\n",
       "1           5\n",
       "2           6\n",
       "3           6\n",
       "4           6\n",
       "           ..\n",
       "1516059    18\n",
       "1516060    19\n",
       "1516061    19\n",
       "1516062    19\n",
       "1516063    18\n",
       "Name: start_hours, Length: 1516064, dtype: int64"
      ]
     },
     "execution_count": 250,
     "metadata": {},
     "output_type": "execute_result"
    }
   ],
   "source": [
    "df['start_hours']"
   ]
  },
  {
   "cell_type": "code",
   "execution_count": 251,
   "id": "4a44c7e2",
   "metadata": {},
   "outputs": [],
   "source": [
    "#df['Start_Time'][0][0:19]"
   ]
  },
  {
   "cell_type": "markdown",
   "id": "c923d5ce",
   "metadata": {},
   "source": [
    "Selecting all continuous attribiutes of the dataset"
   ]
  },
  {
   "cell_type": "code",
   "execution_count": 252,
   "id": "546d2d1e",
   "metadata": {},
   "outputs": [],
   "source": [
    "cont_cols=list(df.select_dtypes(['int64','float64']).columns)\n",
    "#cont_cols=cont_cols+['start_hours','end_hours']\n",
    "cont_cols.remove('Number')\n"
   ]
  },
  {
   "cell_type": "code",
   "execution_count": 253,
   "id": "2f4abf1b",
   "metadata": {},
   "outputs": [
    {
     "data": {
      "text/plain": [
       "['Severity',\n",
       " 'Start_Lat',\n",
       " 'Start_Lng',\n",
       " 'End_Lat',\n",
       " 'End_Lng',\n",
       " 'Distance(mi)',\n",
       " 'Temperature(F)',\n",
       " 'Wind_Chill(F)',\n",
       " 'Humidity(%)',\n",
       " 'Pressure(in)',\n",
       " 'Visibility(mi)',\n",
       " 'Wind_Speed(mph)',\n",
       " 'Precipitation(in)',\n",
       " 'start_month',\n",
       " 'start_day',\n",
       " 'end_month',\n",
       " 'end_day',\n",
       " 'start_hours',\n",
       " 'end_hours']"
      ]
     },
     "execution_count": 253,
     "metadata": {},
     "output_type": "execute_result"
    }
   ],
   "source": [
    "cont_cols"
   ]
  },
  {
   "cell_type": "markdown",
   "id": "d4e0366d",
   "metadata": {},
   "source": [
    "Filling the missing values with mean of that attribute"
   ]
  },
  {
   "cell_type": "code",
   "execution_count": 254,
   "id": "17c53080",
   "metadata": {},
   "outputs": [],
   "source": [
    "#nan_cols=df[cont_cols].isna().any()\n",
    "#cols_nan=df.columns[nan_cols].tolist()\n",
    "\n",
    "def fill_avg(x):\n",
    "    if(x.name in cont_cols):\n",
    "        return x.fillna(x.mean())\n",
    "    else:\n",
    "        return x"
   ]
  },
  {
   "cell_type": "code",
   "execution_count": null,
   "id": "4e065d0a",
   "metadata": {},
   "outputs": [],
   "source": []
  },
  {
   "cell_type": "code",
   "execution_count": 255,
   "id": "6f265add",
   "metadata": {},
   "outputs": [],
   "source": [
    "df1=df.apply(fill_avg)"
   ]
  },
  {
   "cell_type": "code",
   "execution_count": null,
   "id": "783b4b05",
   "metadata": {},
   "outputs": [],
   "source": []
  },
  {
   "cell_type": "code",
   "execution_count": 256,
   "id": "7790ef23",
   "metadata": {},
   "outputs": [],
   "source": [
    "COLS=cont_cols+cat_col_selected\n",
    "df1=df1[COLS]"
   ]
  },
  {
   "cell_type": "markdown",
   "id": "9efc2ed3",
   "metadata": {},
   "source": [
    "In case of categorical attributes, filling the missing values with most occuring ones"
   ]
  },
  {
   "cell_type": "code",
   "execution_count": 257,
   "id": "2c90b0dd",
   "metadata": {},
   "outputs": [],
   "source": [
    "c_col=list(df1.select_dtypes(['bool','object']).columns)\n",
    "\n",
    "def most_occur(x):\n",
    "    if(x.name in c_col):\n",
    "        return x.fillna(x.value_counts().index[0])\n",
    "    else:\n",
    "        return x\n",
    "\n",
    "df1=df1.apply(most_occur)"
   ]
  },
  {
   "cell_type": "code",
   "execution_count": null,
   "id": "f6262d3c",
   "metadata": {},
   "outputs": [],
   "source": []
  },
  {
   "cell_type": "code",
   "execution_count": 258,
   "id": "30e3f8c3",
   "metadata": {},
   "outputs": [
    {
     "data": {
      "text/plain": [
       "(1516064, 38)"
      ]
     },
     "execution_count": 258,
     "metadata": {},
     "output_type": "execute_result"
    }
   ],
   "source": [
    "df1.shape"
   ]
  },
  {
   "cell_type": "code",
   "execution_count": 259,
   "id": "7805ac09",
   "metadata": {},
   "outputs": [],
   "source": [
    "df1[c_col]=df1[c_col].apply(lambda x: pd.factorize(x)[0])"
   ]
  },
  {
   "cell_type": "code",
   "execution_count": 260,
   "id": "8091f829",
   "metadata": {},
   "outputs": [],
   "source": [
    "\n",
    "#X_train,X_test,y_train,y_test=train_test_split(df1.iloc[:,1:],df1.iloc[:,0],test_size=0.2,random_state=2)"
   ]
  },
  {
   "cell_type": "code",
   "execution_count": 261,
   "id": "82447422",
   "metadata": {},
   "outputs": [],
   "source": [
    "#X_train.shape,X_test.shape,y_train.shape,y_test.shape"
   ]
  },
  {
   "cell_type": "code",
   "execution_count": null,
   "id": "d307c993",
   "metadata": {},
   "outputs": [],
   "source": []
  },
  {
   "cell_type": "markdown",
   "id": "20091a6b",
   "metadata": {},
   "source": [
    "Applying linear Regression by using all columns selected so far"
   ]
  },
  {
   "cell_type": "code",
   "execution_count": 269,
   "id": "890ee8dc",
   "metadata": {},
   "outputs": [],
   "source": [
    "X_train,X_test,y_train,y_test=train_test_split(df1.loc[:,df1.columns!='Distance(mi)'],df1.iloc[:,5],test_size=0.2,random_state=2)\n",
    "\n"
   ]
  },
  {
   "cell_type": "code",
   "execution_count": 270,
   "id": "a21a54b6",
   "metadata": {},
   "outputs": [
    {
     "data": {
      "text/plain": [
       "701381     0.258\n",
       "810665     0.000\n",
       "285049     0.077\n",
       "62952      0.036\n",
       "903900     0.000\n",
       "           ...  \n",
       "961799     1.704\n",
       "1133010    0.000\n",
       "1486358    0.000\n",
       "203245     0.488\n",
       "100879     0.962\n",
       "Name: Distance(mi), Length: 1212851, dtype: float64"
      ]
     },
     "execution_count": 270,
     "metadata": {},
     "output_type": "execute_result"
    }
   ],
   "source": [
    "y_train"
   ]
  },
  {
   "cell_type": "code",
   "execution_count": 271,
   "id": "64e78c98",
   "metadata": {},
   "outputs": [],
   "source": [
    "linreg = LinearRegression(normalize=True)"
   ]
  },
  {
   "cell_type": "code",
   "execution_count": 272,
   "id": "0d653970",
   "metadata": {},
   "outputs": [],
   "source": [
    "linreg.fit(X_train,y_train)\n",
    "ypred=linreg.predict(X_test)"
   ]
  },
  {
   "cell_type": "code",
   "execution_count": 273,
   "id": "8cccdbb2",
   "metadata": {},
   "outputs": [
    {
     "data": {
      "text/plain": [
       "2.6666815485254802"
      ]
     },
     "execution_count": 273,
     "metadata": {},
     "output_type": "execute_result"
    }
   ],
   "source": [
    "from sklearn.metrics import r2_score,mean_squared_error\n",
    "mean_squared_error(y_test,ypred)"
   ]
  },
  {
   "cell_type": "code",
   "execution_count": 280,
   "id": "9a2f0649",
   "metadata": {},
   "outputs": [],
   "source": [
    "#ypred"
   ]
  },
  {
   "cell_type": "code",
   "execution_count": 279,
   "id": "acaed938",
   "metadata": {},
   "outputs": [],
   "source": [
    "#y_test"
   ]
  },
  {
   "cell_type": "code",
   "execution_count": 278,
   "id": "4d4f387f",
   "metadata": {},
   "outputs": [
    {
     "data": {
      "text/plain": [
       "0.05005950500105116"
      ]
     },
     "execution_count": 278,
     "metadata": {},
     "output_type": "execute_result"
    }
   ],
   "source": [
    "r2_score(y_test,ypred)"
   ]
  },
  {
   "cell_type": "markdown",
   "id": "4ed6fe99",
   "metadata": {},
   "source": [
    "Using SelectKbest method provided by sklearn library to get insights about the attributes which could be useful for predicting Distance"
   ]
  },
  {
   "cell_type": "code",
   "execution_count": 311,
   "id": "6af327b3",
   "metadata": {},
   "outputs": [],
   "source": [
    "#df1.info()"
   ]
  },
  {
   "cell_type": "code",
   "execution_count": 312,
   "id": "897a5117",
   "metadata": {},
   "outputs": [],
   "source": [
    "from sklearn.feature_selection import SelectKBest,f_regression,chi2,RFE,SelectFromModel\n",
    "from sklearn.linear_model import LinearRegression\n",
    "best=SelectKBest(score_func=f_regression,k=30)"
   ]
  },
  {
   "cell_type": "code",
   "execution_count": 313,
   "id": "a5856048",
   "metadata": {},
   "outputs": [],
   "source": [
    "x1=best.fit(df1.loc[:,df1.columns!='Distance(mi)'],df1['Distance(mi)'])\n",
    "#print(best.transform(df.iloc[:,0:7]))\n",
    "scores_df=pd.DataFrame(x1.scores_)"
   ]
  },
  {
   "cell_type": "code",
   "execution_count": 314,
   "id": "c0d64c3e",
   "metadata": {},
   "outputs": [
    {
     "data": {
      "text/plain": [
       "Index(['Severity', 'Start_Lat', 'Start_Lng', 'End_Lat', 'End_Lng',\n",
       "       'Temperature(F)', 'Wind_Chill(F)', 'Humidity(%)', 'Pressure(in)',\n",
       "       'Visibility(mi)', 'Wind_Speed(mph)', 'Precipitation(in)', 'start_month',\n",
       "       'start_day', 'end_month', 'end_day', 'start_hours', 'end_hours', 'Side',\n",
       "       'State', 'Timezone', 'Amenity', 'Bump', 'Crossing', 'Give_Way',\n",
       "       'Junction', 'No_Exit', 'Railway', 'Roundabout', 'Station', 'Stop',\n",
       "       'Traffic_Calming', 'Traffic_Signal', 'Sunrise_Sunset', 'Civil_Twilight',\n",
       "       'Nautical_Twilight', 'Astronomical_Twilight'],\n",
       "      dtype='object')"
      ]
     },
     "execution_count": 314,
     "metadata": {},
     "output_type": "execute_result"
    }
   ],
   "source": [
    "df1.loc[:,df1.columns!='Distance(mi)'].columns\n",
    "#df1.columns!='Distance(mi)'"
   ]
  },
  {
   "cell_type": "code",
   "execution_count": 315,
   "id": "768d5428",
   "metadata": {},
   "outputs": [],
   "source": [
    "#scores_df"
   ]
  },
  {
   "cell_type": "code",
   "execution_count": 316,
   "id": "bc345442",
   "metadata": {},
   "outputs": [],
   "source": [
    "col=pd.DataFrame(df1.loc[:,df1.columns!='Distance(mi)'].columns)\n",
    "DF=pd.concat([col,scores_df],axis=1)"
   ]
  },
  {
   "cell_type": "code",
   "execution_count": null,
   "id": "8ef7554c",
   "metadata": {},
   "outputs": [],
   "source": []
  },
  {
   "cell_type": "code",
   "execution_count": 317,
   "id": "875fc4d6",
   "metadata": {},
   "outputs": [],
   "source": [
    "DF.columns=['Attribute','Score']\n",
    "DF=DF.sort_values('Score',ascending=False)"
   ]
  },
  {
   "cell_type": "code",
   "execution_count": 318,
   "id": "c2a3a554",
   "metadata": {},
   "outputs": [
    {
     "data": {
      "text/html": [
       "<div>\n",
       "<style scoped>\n",
       "    .dataframe tbody tr th:only-of-type {\n",
       "        vertical-align: middle;\n",
       "    }\n",
       "\n",
       "    .dataframe tbody tr th {\n",
       "        vertical-align: top;\n",
       "    }\n",
       "\n",
       "    .dataframe thead th {\n",
       "        text-align: right;\n",
       "    }\n",
       "</style>\n",
       "<table border=\"1\" class=\"dataframe\">\n",
       "  <thead>\n",
       "    <tr style=\"text-align: right;\">\n",
       "      <th></th>\n",
       "      <th>Attribute</th>\n",
       "      <th>Score</th>\n",
       "    </tr>\n",
       "  </thead>\n",
       "  <tbody>\n",
       "    <tr>\n",
       "      <th>0</th>\n",
       "      <td>Severity</td>\n",
       "      <td>36276.656740</td>\n",
       "    </tr>\n",
       "    <tr>\n",
       "      <th>32</th>\n",
       "      <td>Traffic_Signal</td>\n",
       "      <td>14545.450560</td>\n",
       "    </tr>\n",
       "    <tr>\n",
       "      <th>2</th>\n",
       "      <td>Start_Lng</td>\n",
       "      <td>10367.136155</td>\n",
       "    </tr>\n",
       "    <tr>\n",
       "      <th>4</th>\n",
       "      <td>End_Lng</td>\n",
       "      <td>10362.314705</td>\n",
       "    </tr>\n",
       "    <tr>\n",
       "      <th>18</th>\n",
       "      <td>Side</td>\n",
       "      <td>7963.948903</td>\n",
       "    </tr>\n",
       "    <tr>\n",
       "      <th>23</th>\n",
       "      <td>Crossing</td>\n",
       "      <td>6849.411239</td>\n",
       "    </tr>\n",
       "    <tr>\n",
       "      <th>6</th>\n",
       "      <td>Wind_Chill(F)</td>\n",
       "      <td>4984.009104</td>\n",
       "    </tr>\n",
       "    <tr>\n",
       "      <th>19</th>\n",
       "      <td>State</td>\n",
       "      <td>4022.617638</td>\n",
       "    </tr>\n",
       "    <tr>\n",
       "      <th>5</th>\n",
       "      <td>Temperature(F)</td>\n",
       "      <td>2842.884233</td>\n",
       "    </tr>\n",
       "    <tr>\n",
       "      <th>3</th>\n",
       "      <td>End_Lat</td>\n",
       "      <td>2610.424550</td>\n",
       "    </tr>\n",
       "    <tr>\n",
       "      <th>1</th>\n",
       "      <td>Start_Lat</td>\n",
       "      <td>2603.494998</td>\n",
       "    </tr>\n",
       "    <tr>\n",
       "      <th>14</th>\n",
       "      <td>end_month</td>\n",
       "      <td>2460.709191</td>\n",
       "    </tr>\n",
       "    <tr>\n",
       "      <th>12</th>\n",
       "      <td>start_month</td>\n",
       "      <td>2400.637061</td>\n",
       "    </tr>\n",
       "    <tr>\n",
       "      <th>29</th>\n",
       "      <td>Station</td>\n",
       "      <td>2338.514832</td>\n",
       "    </tr>\n",
       "    <tr>\n",
       "      <th>7</th>\n",
       "      <td>Humidity(%)</td>\n",
       "      <td>2271.988113</td>\n",
       "    </tr>\n",
       "    <tr>\n",
       "      <th>36</th>\n",
       "      <td>Astronomical_Twilight</td>\n",
       "      <td>2227.754425</td>\n",
       "    </tr>\n",
       "    <tr>\n",
       "      <th>35</th>\n",
       "      <td>Nautical_Twilight</td>\n",
       "      <td>2182.101997</td>\n",
       "    </tr>\n",
       "    <tr>\n",
       "      <th>33</th>\n",
       "      <td>Sunrise_Sunset</td>\n",
       "      <td>1933.942307</td>\n",
       "    </tr>\n",
       "    <tr>\n",
       "      <th>34</th>\n",
       "      <td>Civil_Twilight</td>\n",
       "      <td>1933.770512</td>\n",
       "    </tr>\n",
       "    <tr>\n",
       "      <th>17</th>\n",
       "      <td>end_hours</td>\n",
       "      <td>1383.870794</td>\n",
       "    </tr>\n",
       "    <tr>\n",
       "      <th>21</th>\n",
       "      <td>Amenity</td>\n",
       "      <td>839.858638</td>\n",
       "    </tr>\n",
       "    <tr>\n",
       "      <th>9</th>\n",
       "      <td>Visibility(mi)</td>\n",
       "      <td>534.454740</td>\n",
       "    </tr>\n",
       "    <tr>\n",
       "      <th>27</th>\n",
       "      <td>Railway</td>\n",
       "      <td>520.361164</td>\n",
       "    </tr>\n",
       "    <tr>\n",
       "      <th>25</th>\n",
       "      <td>Junction</td>\n",
       "      <td>507.446590</td>\n",
       "    </tr>\n",
       "    <tr>\n",
       "      <th>8</th>\n",
       "      <td>Pressure(in)</td>\n",
       "      <td>420.209321</td>\n",
       "    </tr>\n",
       "    <tr>\n",
       "      <th>10</th>\n",
       "      <td>Wind_Speed(mph)</td>\n",
       "      <td>361.308875</td>\n",
       "    </tr>\n",
       "    <tr>\n",
       "      <th>30</th>\n",
       "      <td>Stop</td>\n",
       "      <td>224.618392</td>\n",
       "    </tr>\n",
       "    <tr>\n",
       "      <th>20</th>\n",
       "      <td>Timezone</td>\n",
       "      <td>187.612181</td>\n",
       "    </tr>\n",
       "    <tr>\n",
       "      <th>26</th>\n",
       "      <td>No_Exit</td>\n",
       "      <td>66.023031</td>\n",
       "    </tr>\n",
       "    <tr>\n",
       "      <th>15</th>\n",
       "      <td>end_day</td>\n",
       "      <td>53.190380</td>\n",
       "    </tr>\n",
       "    <tr>\n",
       "      <th>13</th>\n",
       "      <td>start_day</td>\n",
       "      <td>27.240308</td>\n",
       "    </tr>\n",
       "    <tr>\n",
       "      <th>31</th>\n",
       "      <td>Traffic_Calming</td>\n",
       "      <td>21.105370</td>\n",
       "    </tr>\n",
       "    <tr>\n",
       "      <th>22</th>\n",
       "      <td>Bump</td>\n",
       "      <td>10.186513</td>\n",
       "    </tr>\n",
       "    <tr>\n",
       "      <th>16</th>\n",
       "      <td>start_hours</td>\n",
       "      <td>9.599092</td>\n",
       "    </tr>\n",
       "    <tr>\n",
       "      <th>28</th>\n",
       "      <td>Roundabout</td>\n",
       "      <td>4.972935</td>\n",
       "    </tr>\n",
       "    <tr>\n",
       "      <th>11</th>\n",
       "      <td>Precipitation(in)</td>\n",
       "      <td>3.681536</td>\n",
       "    </tr>\n",
       "    <tr>\n",
       "      <th>24</th>\n",
       "      <td>Give_Way</td>\n",
       "      <td>1.987406</td>\n",
       "    </tr>\n",
       "  </tbody>\n",
       "</table>\n",
       "</div>"
      ],
      "text/plain": [
       "                Attribute         Score\n",
       "0                Severity  36276.656740\n",
       "32         Traffic_Signal  14545.450560\n",
       "2               Start_Lng  10367.136155\n",
       "4                 End_Lng  10362.314705\n",
       "18                   Side   7963.948903\n",
       "23               Crossing   6849.411239\n",
       "6           Wind_Chill(F)   4984.009104\n",
       "19                  State   4022.617638\n",
       "5          Temperature(F)   2842.884233\n",
       "3                 End_Lat   2610.424550\n",
       "1               Start_Lat   2603.494998\n",
       "14              end_month   2460.709191\n",
       "12            start_month   2400.637061\n",
       "29                Station   2338.514832\n",
       "7             Humidity(%)   2271.988113\n",
       "36  Astronomical_Twilight   2227.754425\n",
       "35      Nautical_Twilight   2182.101997\n",
       "33         Sunrise_Sunset   1933.942307\n",
       "34         Civil_Twilight   1933.770512\n",
       "17              end_hours   1383.870794\n",
       "21                Amenity    839.858638\n",
       "9          Visibility(mi)    534.454740\n",
       "27                Railway    520.361164\n",
       "25               Junction    507.446590\n",
       "8            Pressure(in)    420.209321\n",
       "10        Wind_Speed(mph)    361.308875\n",
       "30                   Stop    224.618392\n",
       "20               Timezone    187.612181\n",
       "26                No_Exit     66.023031\n",
       "15                end_day     53.190380\n",
       "13              start_day     27.240308\n",
       "31        Traffic_Calming     21.105370\n",
       "22                   Bump     10.186513\n",
       "16            start_hours      9.599092\n",
       "28             Roundabout      4.972935\n",
       "11      Precipitation(in)      3.681536\n",
       "24               Give_Way      1.987406"
      ]
     },
     "execution_count": 318,
     "metadata": {},
     "output_type": "execute_result"
    }
   ],
   "source": [
    "DF"
   ]
  },
  {
   "cell_type": "code",
   "execution_count": 319,
   "id": "d6d46482",
   "metadata": {},
   "outputs": [],
   "source": [
    "#final_cols=DF.iloc[-30:,0]"
   ]
  },
  {
   "cell_type": "code",
   "execution_count": 320,
   "id": "49bd9e09",
   "metadata": {},
   "outputs": [],
   "source": [
    "#final_cols"
   ]
  },
  {
   "cell_type": "markdown",
   "id": "53dc617e",
   "metadata": {},
   "source": [
    "fine-tuning the top k attributes for a linear regression model"
   ]
  },
  {
   "cell_type": "code",
   "execution_count": 321,
   "id": "fc274926",
   "metadata": {},
   "outputs": [
    {
     "name": "stdout",
     "output_type": "stream",
     "text": [
      "5\n",
      "8\n",
      "12\n",
      "15\n",
      "18\n",
      "20\n",
      "25\n",
      "30\n",
      "35\n"
     ]
    }
   ],
   "source": [
    "from sklearn.model_selection import cross_val_score\n",
    "from sklearn.metrics import mean_squared_error\n",
    "possible_cols=[5,8,12,15,18,20,25,30,35]\n",
    "x=[]\n",
    "y=[]\n",
    "X_train,X_test,y_train,y_test=train_test_split(df1.loc[:,df1.columns!='Distance(mi)'],df1.iloc[:,5],test_size=0.2,random_state=2)\n",
    "for k in possible_cols:\n",
    "    final_cols=DF.iloc[0:k,0]\n",
    "    train_final=X_train[final_cols.tolist()]\n",
    "    linreg = LinearRegression(normalize=True)\n",
    "    score=cross_val_score(linreg,train_final,y_train,cv=10,scoring='r2')\n",
    "    #x.append(cvxg['test-rmse-mean'].mean())\n",
    "    x.append(k)\n",
    "    y.append(score.mean())\n",
    "    print(k)"
   ]
  },
  {
   "cell_type": "code",
   "execution_count": 322,
   "id": "1d6b7761",
   "metadata": {},
   "outputs": [
    {
     "data": {
      "text/plain": [
       "Text(0, 0.5, 'r^2 score')"
      ]
     },
     "execution_count": 322,
     "metadata": {},
     "output_type": "execute_result"
    },
    {
     "data": {
      "image/png": "[encoded data removed]",
      "text/plain": [
       "<Figure size 432x288 with 1 Axes>"
      ]
     },
     "metadata": {
      "needs_background": "light"
     },
     "output_type": "display_data"
    }
   ],
   "source": [
    "#import sklearn\n",
    "#sklearn.metrics.SCORERS.keys()\n",
    "\n",
    "#neg_mean_squared_error\n",
    "\n",
    "plt.plot(x,y)\n",
    "plt.xlabel(\"top-k features\")\n",
    "plt.ylabel(\"r^2 score\")\n",
    "#plt.xticks(x,x)"
   ]
  },
  {
   "cell_type": "markdown",
   "id": "daca09c1",
   "metadata": {},
   "source": [
    "<b> Plot for Linear regression top-k features vs R2 score for Distance target varible</b>"
   ]
  },
  {
   "cell_type": "code",
   "execution_count": 323,
   "id": "bfb18e93",
   "metadata": {},
   "outputs": [],
   "source": [
    "from sklearn.metrics import mean_squared_error\n",
    "final_cols=DF.iloc[0:25,0]\n",
    "train_final=X_train[final_cols.tolist()]\n",
    "LR = LinearRegression(normalize=True)\n",
    "X_test=X_test[final_cols.tolist()]\n",
    "\n",
    "linreg.fit(train_final,y_train)\n",
    "ypred=linreg.predict(X_test)\n",
    "\n"
   ]
  },
  {
   "cell_type": "markdown",
   "id": "35c142db",
   "metadata": {},
   "source": [
    "RMSE of the best linear regression model"
   ]
  },
  {
   "cell_type": "code",
   "execution_count": 324,
   "id": "ec60e2a4",
   "metadata": {},
   "outputs": [
    {
     "name": "stdout",
     "output_type": "stream",
     "text": [
      "1.6334902488415388\n"
     ]
    }
   ],
   "source": [
    "lr_dist=mean_squared_error(ypred,y_test,squared=False)\n",
    "print(lr_dist)"
   ]
  },
  {
   "cell_type": "markdown",
   "id": "7db40193",
   "metadata": {},
   "source": [
    "Using the preprocessed dataset and using num_boost_round=20 to arrive at ideal max_depth and eta parameters for a Xgboost model"
   ]
  },
  {
   "cell_type": "code",
   "execution_count": 119,
   "id": "b7261075",
   "metadata": {},
   "outputs": [],
   "source": [
    "X_train,X_test,y_train,y_test=train_test_split(df1.loc[:,df1.columns!='Distance(mi)'],df1.loc[:,df1.columns=='Distance(mi)'],test_size=0.2,random_state=2)\n",
    "train=xgboost.DMatrix(X_train,label=y_train)\n",
    "test=xgboost.DMatrix(X_test,label=y_test)\n",
    "max_depth=[13,15,16,17]\n",
    "eta=[0.7,0.8,0.6]\n",
    "P={}\n",
    "best=-10000\n",
    "for i in max_depth:\n",
    "    for j in eta:\n",
    "        param={'max_depth':i,'eta':j,'objective':'reg:squarederror'}\n",
    "        bt=xgboost.train(param,train,20)\n",
    "        pred=bt.predict(test)\n",
    "        #print(\"HERE\")\n",
    "        if(r2_score(y_test,pred)>best):\n",
    "            best=r2_score(y_test,pred)\n",
    "            P=param"
   ]
  },
  {
   "cell_type": "code",
   "execution_count": 120,
   "id": "00304b79",
   "metadata": {},
   "outputs": [
    {
     "data": {
      "text/plain": [
       "{'max_depth': 15, 'eta': 0.7, 'objective': 'reg:squarederror'}"
      ]
     },
     "execution_count": 120,
     "metadata": {},
     "output_type": "execute_result"
    }
   ],
   "source": [
    "P"
   ]
  },
  {
   "cell_type": "markdown",
   "id": "e90da3ed",
   "metadata": {},
   "source": [
    "fine-tuning the top k attributes for a Xgboost regression model by using the ideal max_depth and and eta paramter from previos step"
   ]
  },
  {
   "cell_type": "code",
   "execution_count": 325,
   "id": "a65b1a21",
   "metadata": {},
   "outputs": [
    {
     "name": "stdout",
     "output_type": "stream",
     "text": [
      "5\n",
      "8\n",
      "12\n",
      "15\n",
      "18\n",
      "20\n",
      "25\n",
      "30\n",
      "35\n"
     ]
    }
   ],
   "source": [
    "from sklearn.model_selection import cross_val_score\n",
    "possible_cols=[5,8,12,15,18,20,25,30,35]\n",
    "x=[]\n",
    "y=[]\n",
    "X_train,X_test,y_train,y_test=train_test_split(df1.loc[:,df1.columns!='Distance(mi)'],df1.loc[:,df1.columns=='Distance(mi)'],test_size=0.2,random_state=2)\n",
    "for k in possible_cols:\n",
    "    final_cols=DF.iloc[0:k,0]\n",
    "    train_final=X_train[final_cols.tolist()]\n",
    "    train=xgboost.DMatrix(train_final,label=y_train)\n",
    "    #test=xgboost.DMatrix(X_test,label=y_test)\n",
    "    #param={'max_depth':15,'eta':0.7,'objective':'reg:squarederror'}\n",
    "    #bt=xgboost.train(param,train,20)\n",
    "    #pred=bt.predict(test)\n",
    "    #r2_score(y_test,pred)\n",
    "    param={'max_depth':15,'eta':0.7,'objective':'reg:squarederror'}\n",
    "    cvxg=cv(dtrain=train,params=param,nfold=5,num_boost_round=10,metrics=\"rmse\")\n",
    "    #x.append(cvxg['test-rmse-mean'].mean())\n",
    "    x.append(k)\n",
    "    y.append(cvxg['test-rmse-mean'].mean())\n",
    "    print(k)\n"
   ]
  },
  {
   "cell_type": "code",
   "execution_count": null,
   "id": "ba581d2d",
   "metadata": {},
   "outputs": [],
   "source": []
  },
  {
   "cell_type": "code",
   "execution_count": 326,
   "id": "9fe08cc7",
   "metadata": {},
   "outputs": [
    {
     "data": {
      "text/plain": [
       "Text(0, 0.5, 'root mean squared error')"
      ]
     },
     "execution_count": 326,
     "metadata": {},
     "output_type": "execute_result"
    },
    {
     "data": {
      "image/png": "[encoded data removed]",
      "text/plain": [
       "<Figure size 432x288 with 1 Axes>"
      ]
     },
     "metadata": {
      "needs_background": "light"
     },
     "output_type": "display_data"
    }
   ],
   "source": [
    "plt.plot(x,y)\n",
    "plt.xlabel(\"top-k features\")\n",
    "plt.ylabel(\"root mean squared error\")"
   ]
  },
  {
   "cell_type": "markdown",
   "id": "e0ce269d",
   "metadata": {},
   "source": [
    "<b>Plot for Xgboost top-k features vs RMSE for Distance(mi) target variable</b>"
   ]
  },
  {
   "cell_type": "code",
   "execution_count": 327,
   "id": "40989d81",
   "metadata": {},
   "outputs": [],
   "source": [
    "#final_cols=DF.iloc[0:5,0]\n",
    "#train_final=df1[final_cols.tolist()]\n",
    "#X_train,X_test,y_train,y_test=train_test_split(train_final,df1.iloc[:,5],test_size=0.2,random_state=2)\n",
    "#train=xgboost.DMatrix(X_train,label=y_train)\n",
    "#test=xgboost.DMatrix(X_test,label=y_test)\n",
    "#param={'max_depth':15,'eta':0.7,'objective':'reg:squarederror'}\n",
    "#bt=xgboost.train(param,train,80)\n",
    "#pred=bt.predict(test)\n",
    "#r2_score(y_test,pred)\n",
    "#cvxg=cv(dtrain=train,params=param,nfold=5,num_boost_round=10,metrics=\"rmse\")\n",
    "#x.append(cvxg['test-rmse-mean'].mean())\n",
    "#y.append()"
   ]
  },
  {
   "cell_type": "code",
   "execution_count": 328,
   "id": "6c565d04",
   "metadata": {},
   "outputs": [],
   "source": [
    "#r2_score(y_test,pred),mean_squared_error(pred,y_test)"
   ]
  },
  {
   "cell_type": "code",
   "execution_count": 329,
   "id": "326d726f",
   "metadata": {},
   "outputs": [],
   "source": [
    "#r2_score(y_test,pred),mean_squared_error(pred,y_test)"
   ]
  },
  {
   "cell_type": "markdown",
   "id": "a3a0448e",
   "metadata": {},
   "source": [
    "Using the ideal k value from the last plot, selecting the appropriate number of trees for the Xgboost"
   ]
  },
  {
   "cell_type": "code",
   "execution_count": 330,
   "id": "c0ccd1af",
   "metadata": {},
   "outputs": [
    {
     "name": "stdout",
     "output_type": "stream",
     "text": [
      "20\n",
      "40\n",
      "60\n",
      "80\n",
      "100\n",
      "120\n"
     ]
    }
   ],
   "source": [
    "num_iter=[20,40,60,80,100,120]\n",
    "x=[]\n",
    "y=[]\n",
    "error=[]\n",
    "final_cols=DF.iloc[0:5,0]\n",
    "train_final=df1[final_cols.tolist()]\n",
    "X_train,X_test,y_train,y_test=train_test_split(train_final,df1.iloc[:,5],test_size=0.2,random_state=2)\n",
    "train=xgboost.DMatrix(X_train,label=y_train)\n",
    "test=xgboost.DMatrix(X_test,label=y_test)\n",
    "param={'max_depth':15,'eta':0.7,'objective':'reg:squarederror'}\n",
    "for i in num_iter:\n",
    "    bt=xgboost.train(param,train,i)\n",
    "    pred=bt.predict(test)\n",
    "    x.append(i)\n",
    "    y.append(r2_score(y_test,pred))\n",
    "    error.append(mean_squared_error(pred,y_test,squared=False))\n",
    "    \n",
    "    print(i)"
   ]
  },
  {
   "cell_type": "code",
   "execution_count": 331,
   "id": "ae459a65",
   "metadata": {},
   "outputs": [
    {
     "data": {
      "text/plain": [
       "Text(0, 0.5, 'r2 score')"
      ]
     },
     "execution_count": 331,
     "metadata": {},
     "output_type": "execute_result"
    },
    {
     "data": {
      "image/png": "[encoded data removed]",
      "text/plain": [
       "<Figure size 432x288 with 1 Axes>"
      ]
     },
     "metadata": {
      "needs_background": "light"
     },
     "output_type": "display_data"
    }
   ],
   "source": [
    "plt.plot(x,y)\n",
    "plt.xlabel(\"number of boost_round\")\n",
    "plt.ylabel(\"r2 score\")"
   ]
  },
  {
   "cell_type": "markdown",
   "id": "01fdb21a",
   "metadata": {},
   "source": [
    "<b>Plot for Xgboost num_boost_round vs R^2 for Distance(mi) target variable</b>"
   ]
  },
  {
   "cell_type": "code",
   "execution_count": 332,
   "id": "ec681645",
   "metadata": {},
   "outputs": [
    {
     "data": {
      "text/plain": [
       "Text(0, 0.5, 'root mean squared error')"
      ]
     },
     "execution_count": 332,
     "metadata": {},
     "output_type": "execute_result"
    },
    {
     "data": {
      "image/png": "[encoded data removed]",
      "text/plain": [
       "<Figure size 432x288 with 1 Axes>"
      ]
     },
     "metadata": {
      "needs_background": "light"
     },
     "output_type": "display_data"
    }
   ],
   "source": [
    "plt.plot(x,error)\n",
    "plt.xlabel(\"number of boost_round\")\n",
    "plt.ylabel(\"root mean squared error\")"
   ]
  },
  {
   "cell_type": "markdown",
   "id": "b0db557d",
   "metadata": {},
   "source": [
    "<b>Plot for Xgboost num_boost_round vs RMSE for Distance(mi) target variable</b>"
   ]
  },
  {
   "cell_type": "markdown",
   "id": "42104fca",
   "metadata": {},
   "source": [
    "RMSE of the best Xgboost regression model"
   ]
  },
  {
   "cell_type": "code",
   "execution_count": 333,
   "id": "6ac19905",
   "metadata": {},
   "outputs": [
    {
     "name": "stdout",
     "output_type": "stream",
     "text": [
      "0.9023941729544065\n"
     ]
    }
   ],
   "source": [
    "xg_dist=error[-3]\n",
    "print(xg_dist)"
   ]
  },
  {
   "cell_type": "markdown",
   "id": "26a648f4",
   "metadata": {},
   "source": [
    "<b>Predicting severity the same way as did above, first by getting insight about which attributes are useful to predict severity and then applying linear regression and Xgboost<b>"
   ]
  },
  {
   "cell_type": "code",
   "execution_count": null,
   "id": "16eab357",
   "metadata": {},
   "outputs": [],
   "source": []
  },
  {
   "cell_type": "code",
   "execution_count": 334,
   "id": "e151f9e3",
   "metadata": {},
   "outputs": [],
   "source": [
    "x2=best.fit(df1.loc[:,df1.columns!='Severity'],df1['Severity'])\n",
    "#print(best.transform(df.iloc[:,0:7]))\n",
    "scores_df=pd.DataFrame(x2.scores_)\n",
    "col=pd.DataFrame(df1.loc[:,df1.columns!='Severity'].columns)\n",
    "DF1=pd.concat([col,scores_df],axis=1)\n"
   ]
  },
  {
   "cell_type": "code",
   "execution_count": 335,
   "id": "62964812",
   "metadata": {},
   "outputs": [],
   "source": [
    "DF1.columns=['Attribute','Score']\n",
    "DF1=DF1.sort_values('Score',ascending=False)"
   ]
  },
  {
   "cell_type": "code",
   "execution_count": 336,
   "id": "c520f1b3",
   "metadata": {},
   "outputs": [
    {
     "data": {
      "text/html": [
       "<div>\n",
       "<style scoped>\n",
       "    .dataframe tbody tr th:only-of-type {\n",
       "        vertical-align: middle;\n",
       "    }\n",
       "\n",
       "    .dataframe tbody tr th {\n",
       "        vertical-align: top;\n",
       "    }\n",
       "\n",
       "    .dataframe thead th {\n",
       "        text-align: right;\n",
       "    }\n",
       "</style>\n",
       "<table border=\"1\" class=\"dataframe\">\n",
       "  <thead>\n",
       "    <tr style=\"text-align: right;\">\n",
       "      <th></th>\n",
       "      <th>Attribute</th>\n",
       "      <th>Score</th>\n",
       "    </tr>\n",
       "  </thead>\n",
       "  <tbody>\n",
       "    <tr>\n",
       "      <th>3</th>\n",
       "      <td>End_Lng</td>\n",
       "      <td>50471.042056</td>\n",
       "    </tr>\n",
       "    <tr>\n",
       "      <th>1</th>\n",
       "      <td>Start_Lng</td>\n",
       "      <td>50469.286796</td>\n",
       "    </tr>\n",
       "    <tr>\n",
       "      <th>4</th>\n",
       "      <td>Distance(mi)</td>\n",
       "      <td>36276.656740</td>\n",
       "    </tr>\n",
       "    <tr>\n",
       "      <th>12</th>\n",
       "      <td>start_month</td>\n",
       "      <td>24902.229501</td>\n",
       "    </tr>\n",
       "    <tr>\n",
       "      <th>14</th>\n",
       "      <td>end_month</td>\n",
       "      <td>24816.227524</td>\n",
       "    </tr>\n",
       "    <tr>\n",
       "      <th>2</th>\n",
       "      <td>End_Lat</td>\n",
       "      <td>9455.594024</td>\n",
       "    </tr>\n",
       "    <tr>\n",
       "      <th>0</th>\n",
       "      <td>Start_Lat</td>\n",
       "      <td>9453.988254</td>\n",
       "    </tr>\n",
       "    <tr>\n",
       "      <th>6</th>\n",
       "      <td>Wind_Chill(F)</td>\n",
       "      <td>7478.358947</td>\n",
       "    </tr>\n",
       "    <tr>\n",
       "      <th>10</th>\n",
       "      <td>Wind_Speed(mph)</td>\n",
       "      <td>5394.534362</td>\n",
       "    </tr>\n",
       "    <tr>\n",
       "      <th>8</th>\n",
       "      <td>Pressure(in)</td>\n",
       "      <td>4587.063242</td>\n",
       "    </tr>\n",
       "    <tr>\n",
       "      <th>23</th>\n",
       "      <td>Crossing</td>\n",
       "      <td>4363.716900</td>\n",
       "    </tr>\n",
       "    <tr>\n",
       "      <th>7</th>\n",
       "      <td>Humidity(%)</td>\n",
       "      <td>3300.844392</td>\n",
       "    </tr>\n",
       "    <tr>\n",
       "      <th>32</th>\n",
       "      <td>Traffic_Signal</td>\n",
       "      <td>2782.495002</td>\n",
       "    </tr>\n",
       "    <tr>\n",
       "      <th>20</th>\n",
       "      <td>Timezone</td>\n",
       "      <td>1282.483147</td>\n",
       "    </tr>\n",
       "    <tr>\n",
       "      <th>18</th>\n",
       "      <td>Side</td>\n",
       "      <td>1167.086049</td>\n",
       "    </tr>\n",
       "    <tr>\n",
       "      <th>19</th>\n",
       "      <td>State</td>\n",
       "      <td>923.353599</td>\n",
       "    </tr>\n",
       "    <tr>\n",
       "      <th>25</th>\n",
       "      <td>Junction</td>\n",
       "      <td>726.448482</td>\n",
       "    </tr>\n",
       "    <tr>\n",
       "      <th>36</th>\n",
       "      <td>Astronomical_Twilight</td>\n",
       "      <td>716.513828</td>\n",
       "    </tr>\n",
       "    <tr>\n",
       "      <th>35</th>\n",
       "      <td>Nautical_Twilight</td>\n",
       "      <td>407.514099</td>\n",
       "    </tr>\n",
       "    <tr>\n",
       "      <th>5</th>\n",
       "      <td>Temperature(F)</td>\n",
       "      <td>330.529219</td>\n",
       "    </tr>\n",
       "    <tr>\n",
       "      <th>34</th>\n",
       "      <td>Civil_Twilight</td>\n",
       "      <td>309.364645</td>\n",
       "    </tr>\n",
       "    <tr>\n",
       "      <th>13</th>\n",
       "      <td>start_day</td>\n",
       "      <td>284.914622</td>\n",
       "    </tr>\n",
       "    <tr>\n",
       "      <th>16</th>\n",
       "      <td>start_hours</td>\n",
       "      <td>274.878457</td>\n",
       "    </tr>\n",
       "    <tr>\n",
       "      <th>29</th>\n",
       "      <td>Station</td>\n",
       "      <td>232.077590</td>\n",
       "    </tr>\n",
       "    <tr>\n",
       "      <th>33</th>\n",
       "      <td>Sunrise_Sunset</td>\n",
       "      <td>221.417806</td>\n",
       "    </tr>\n",
       "    <tr>\n",
       "      <th>15</th>\n",
       "      <td>end_day</td>\n",
       "      <td>200.632133</td>\n",
       "    </tr>\n",
       "    <tr>\n",
       "      <th>11</th>\n",
       "      <td>Precipitation(in)</td>\n",
       "      <td>182.308141</td>\n",
       "    </tr>\n",
       "    <tr>\n",
       "      <th>24</th>\n",
       "      <td>Give_Way</td>\n",
       "      <td>99.239520</td>\n",
       "    </tr>\n",
       "    <tr>\n",
       "      <th>9</th>\n",
       "      <td>Visibility(mi)</td>\n",
       "      <td>57.984710</td>\n",
       "    </tr>\n",
       "    <tr>\n",
       "      <th>27</th>\n",
       "      <td>Railway</td>\n",
       "      <td>33.449788</td>\n",
       "    </tr>\n",
       "    <tr>\n",
       "      <th>17</th>\n",
       "      <td>end_hours</td>\n",
       "      <td>9.781216</td>\n",
       "    </tr>\n",
       "    <tr>\n",
       "      <th>22</th>\n",
       "      <td>Bump</td>\n",
       "      <td>8.884443</td>\n",
       "    </tr>\n",
       "    <tr>\n",
       "      <th>21</th>\n",
       "      <td>Amenity</td>\n",
       "      <td>5.231358</td>\n",
       "    </tr>\n",
       "    <tr>\n",
       "      <th>26</th>\n",
       "      <td>No_Exit</td>\n",
       "      <td>2.331585</td>\n",
       "    </tr>\n",
       "    <tr>\n",
       "      <th>31</th>\n",
       "      <td>Traffic_Calming</td>\n",
       "      <td>1.132647</td>\n",
       "    </tr>\n",
       "    <tr>\n",
       "      <th>28</th>\n",
       "      <td>Roundabout</td>\n",
       "      <td>0.532815</td>\n",
       "    </tr>\n",
       "    <tr>\n",
       "      <th>30</th>\n",
       "      <td>Stop</td>\n",
       "      <td>0.110976</td>\n",
       "    </tr>\n",
       "  </tbody>\n",
       "</table>\n",
       "</div>"
      ],
      "text/plain": [
       "                Attribute         Score\n",
       "3                 End_Lng  50471.042056\n",
       "1               Start_Lng  50469.286796\n",
       "4            Distance(mi)  36276.656740\n",
       "12            start_month  24902.229501\n",
       "14              end_month  24816.227524\n",
       "2                 End_Lat   9455.594024\n",
       "0               Start_Lat   9453.988254\n",
       "6           Wind_Chill(F)   7478.358947\n",
       "10        Wind_Speed(mph)   5394.534362\n",
       "8            Pressure(in)   4587.063242\n",
       "23               Crossing   4363.716900\n",
       "7             Humidity(%)   3300.844392\n",
       "32         Traffic_Signal   2782.495002\n",
       "20               Timezone   1282.483147\n",
       "18                   Side   1167.086049\n",
       "19                  State    923.353599\n",
       "25               Junction    726.448482\n",
       "36  Astronomical_Twilight    716.513828\n",
       "35      Nautical_Twilight    407.514099\n",
       "5          Temperature(F)    330.529219\n",
       "34         Civil_Twilight    309.364645\n",
       "13              start_day    284.914622\n",
       "16            start_hours    274.878457\n",
       "29                Station    232.077590\n",
       "33         Sunrise_Sunset    221.417806\n",
       "15                end_day    200.632133\n",
       "11      Precipitation(in)    182.308141\n",
       "24               Give_Way     99.239520\n",
       "9          Visibility(mi)     57.984710\n",
       "27                Railway     33.449788\n",
       "17              end_hours      9.781216\n",
       "22                   Bump      8.884443\n",
       "21                Amenity      5.231358\n",
       "26                No_Exit      2.331585\n",
       "31        Traffic_Calming      1.132647\n",
       "28             Roundabout      0.532815\n",
       "30                   Stop      0.110976"
      ]
     },
     "execution_count": 336,
     "metadata": {},
     "output_type": "execute_result"
    }
   ],
   "source": [
    "DF1"
   ]
  },
  {
   "cell_type": "code",
   "execution_count": 337,
   "id": "df50fe69",
   "metadata": {},
   "outputs": [
    {
     "name": "stdout",
     "output_type": "stream",
     "text": [
      "5\n",
      "8\n",
      "12\n",
      "15\n",
      "18\n",
      "20\n",
      "25\n",
      "30\n",
      "35\n"
     ]
    }
   ],
   "source": [
    "from sklearn.model_selection import cross_val_score\n",
    "possible_cols=[5,8,12,15,18,20,25,30,35]\n",
    "x=[]\n",
    "y=[]\n",
    "X_train,X_test,y_train,y_test=train_test_split(df1.loc[:,df1.columns!='Severity'],df1.loc[:,df1.columns=='Severity'],test_size=0.2,random_state=2)\n",
    "for k in possible_cols:\n",
    "    final_cols=DF1.iloc[0:k,0]\n",
    "    train_final=X_train[final_cols.tolist()]\n",
    "    linreg = LinearRegression(normalize=True)\n",
    "    score=cross_val_score(linreg,train_final,y_train,cv=10,scoring='r2')\n",
    "    #x.append(cvxg['test-rmse-mean'].mean())\n",
    "    x.append(k)\n",
    "    y.append(score.mean())\n",
    "    print(k)"
   ]
  },
  {
   "cell_type": "code",
   "execution_count": 338,
   "id": "46e2f149",
   "metadata": {},
   "outputs": [
    {
     "data": {
      "text/plain": [
       "Text(0, 0.5, 'r2 score')"
      ]
     },
     "execution_count": 338,
     "metadata": {},
     "output_type": "execute_result"
    },
    {
     "data": {
      "image/png": "[encoded data removed]",
      "text/plain": [
       "<Figure size 432x288 with 1 Axes>"
      ]
     },
     "metadata": {
      "needs_background": "light"
     },
     "output_type": "display_data"
    }
   ],
   "source": [
    "plt.plot(x,y)\n",
    "plt.xlabel(\"top-k features\")\n",
    "plt.ylabel(\"r2 score\")"
   ]
  },
  {
   "cell_type": "markdown",
   "id": "f71e6795",
   "metadata": {},
   "source": [
    "<b>Plot for Linear regression top-k features vs R2 score for Severity target variable</b>"
   ]
  },
  {
   "cell_type": "code",
   "execution_count": 339,
   "id": "3c82ebf3",
   "metadata": {},
   "outputs": [],
   "source": [
    "final_cols=DF1.iloc[0:25,0]\n",
    "train_final=X_train[final_cols.tolist()]\n",
    "LR = LinearRegression(normalize=True)\n",
    "X_test=X_test[final_cols.tolist()]\n",
    "\n",
    "linreg.fit(train_final,y_train)\n",
    "ypred=linreg.predict(X_test)\n"
   ]
  },
  {
   "cell_type": "code",
   "execution_count": null,
   "id": "c10815d7",
   "metadata": {},
   "outputs": [],
   "source": []
  },
  {
   "cell_type": "markdown",
   "id": "2276fa78",
   "metadata": {},
   "source": [
    "The best linear regression model for severity"
   ]
  },
  {
   "cell_type": "code",
   "execution_count": 340,
   "id": "a77126a5",
   "metadata": {},
   "outputs": [
    {
     "name": "stdout",
     "output_type": "stream",
     "text": [
      "0.579452143925054\n"
     ]
    }
   ],
   "source": [
    "lr_sev=mean_squared_error(ypred,y_test,squared=False)\n",
    "print(lr_sev)"
   ]
  },
  {
   "cell_type": "markdown",
   "id": "4c81b802",
   "metadata": {},
   "source": [
    "Using the preprocessed dataset and num_boost_round=20 to arrive at ideal max_depth and eta parameters"
   ]
  },
  {
   "cell_type": "code",
   "execution_count": 100,
   "id": "818dbc88",
   "metadata": {},
   "outputs": [],
   "source": [
    "X_train,X_test,y_train,y_test=train_test_split(df1.loc[:,df1.columns!='Severity'],df1.loc[:,df1.columns=='Severity'],test_size=0.2,random_state=2)\n",
    "train=xgboost.DMatrix(X_train,label=y_train)\n",
    "test=xgboost.DMatrix(X_test,label=y_test)\n",
    "max_depth=[13,15,16,17,18]\n",
    "eta=[0.5,0.7,0.8,0.6]\n",
    "P={}\n",
    "best=-10000\n",
    "for i in max_depth:\n",
    "    for j in eta:\n",
    "        param={'max_depth':i,'eta':j,'objective':'reg:squarederror'}\n",
    "        bt=xgboost.train(param,train,20)\n",
    "        pred=bt.predict(test)\n",
    "        #print(\"HERE\")\n",
    "        if(r2_score(y_test,pred)>best):\n",
    "            best=r2_score(y_test,pred)\n",
    "            P=param\n",
    " \n"
   ]
  },
  {
   "cell_type": "code",
   "execution_count": 101,
   "id": "68d416f5",
   "metadata": {},
   "outputs": [
    {
     "data": {
      "text/plain": [
       "0.4447037765602998"
      ]
     },
     "execution_count": 101,
     "metadata": {},
     "output_type": "execute_result"
    }
   ],
   "source": [
    "best"
   ]
  },
  {
   "cell_type": "code",
   "execution_count": 102,
   "id": "24e48ab7",
   "metadata": {},
   "outputs": [
    {
     "data": {
      "text/plain": [
       "{'max_depth': 18, 'eta': 0.5, 'objective': 'reg:squarederror'}"
      ]
     },
     "execution_count": 102,
     "metadata": {},
     "output_type": "execute_result"
    }
   ],
   "source": [
    "P"
   ]
  },
  {
   "cell_type": "code",
   "execution_count": 111,
   "id": "1c6f18e7",
   "metadata": {},
   "outputs": [],
   "source": [
    "P={'max_depth': 18, 'eta': 0.5, 'objective': 'reg:squarederror'}"
   ]
  },
  {
   "cell_type": "markdown",
   "id": "05c293d7",
   "metadata": {},
   "source": [
    "fine tuning the Xgboost model for top-k attributes. The model used the ideal values for max_depth and eta from previous steps"
   ]
  },
  {
   "cell_type": "code",
   "execution_count": 341,
   "id": "8ce9cf84",
   "metadata": {},
   "outputs": [
    {
     "name": "stdout",
     "output_type": "stream",
     "text": [
      "10\n",
      "15\n",
      "18\n",
      "20\n",
      "23\n",
      "25\n",
      "27\n",
      "30\n",
      "32\n",
      "35\n"
     ]
    }
   ],
   "source": [
    "from sklearn.model_selection import cross_val_score\n",
    "possible_cols=[10,15,18,20,23,25,27,30,32,35]\n",
    "x=[]\n",
    "y=[]\n",
    "X_train,X_test,y_train,y_test=train_test_split(df1.loc[:,df1.columns!='Severity'],df1.loc[:,df1.columns=='Severity'],test_size=0.2,random_state=2)\n",
    "for k in possible_cols:\n",
    "    final_cols=DF1.iloc[0:k,0]\n",
    "    train_final=X_train[final_cols.tolist()]\n",
    "    train=xgboost.DMatrix(train_final,label=y_train)\n",
    "    #test=xgboost.DMatrix(X_test,label=y_test)\n",
    "    #param={'max_depth':15,'eta':0.7,'objective':'reg:squarederror'}\n",
    "    #bt=xgboost.train(param,train,20)\n",
    "    #pred=bt.predict(test)\n",
    "    #r2_score(y_test,pred)\n",
    "    #param={'max_depth':15,'eta':0.7,'objective':'reg:squarederror'}\n",
    "    cvxg=cv(dtrain=train,params=P,nfold=5,num_boost_round=10,metrics=\"rmse\")\n",
    "    #x.append(cvxg['test-rmse-mean'].mean())\n",
    "    x.append(k)\n",
    "    y.append(cvxg['test-rmse-mean'].mean())\n",
    "    print(k)\n"
   ]
  },
  {
   "cell_type": "code",
   "execution_count": 104,
   "id": "64a58acd",
   "metadata": {},
   "outputs": [
    {
     "data": {
      "text/plain": [
       "Text(0, 0.5, 'root mean squared error')"
      ]
     },
     "execution_count": 104,
     "metadata": {},
     "output_type": "execute_result"
    },
    {
     "data": {
      "image/png": "[encoded data removed]",
      "text/plain": [
       "<Figure size 432x288 with 1 Axes>"
      ]
     },
     "metadata": {
      "needs_background": "light"
     },
     "output_type": "display_data"
    }
   ],
   "source": [
    "plt.plot(x,y)\n",
    "plt.xlabel(\"top-k features\")\n",
    "plt.ylabel(\"root mean squared error\")"
   ]
  },
  {
   "cell_type": "markdown",
   "id": "64fbb18d",
   "metadata": {},
   "source": [
    "<b>Plot for Xgboost regression top-k features vs RMSE  for Severity target variable</b>"
   ]
  },
  {
   "cell_type": "code",
   "execution_count": 405,
   "id": "9bafea32",
   "metadata": {},
   "outputs": [
    {
     "data": {
      "text/plain": [
       "[0.5977342400000001,\n",
       " 0.56879368,\n",
       " 0.56716968,\n",
       " 0.56593472,\n",
       " 0.55930336,\n",
       " 0.5596376999999999,\n",
       " 0.5529517599999999,\n",
       " 0.551371,\n",
       " 0.5502472]"
      ]
     },
     "execution_count": 405,
     "metadata": {},
     "output_type": "execute_result"
    }
   ],
   "source": [
    "y"
   ]
  },
  {
   "cell_type": "code",
   "execution_count": 112,
   "id": "644534c2",
   "metadata": {},
   "outputs": [
    {
     "name": "stdout",
     "output_type": "stream",
     "text": [
      "20\n",
      "40\n",
      "60\n",
      "80\n",
      "100\n",
      "120\n"
     ]
    }
   ],
   "source": [
    "num_iter=[20,40,60,80,100,120]\n",
    "x=[]\n",
    "y=[]\n",
    "err=[]\n",
    "final_cols=DF1.iloc[0:23,0]\n",
    "train_final=df1[final_cols.tolist()]\n",
    "X_train,X_test,y_train,y_test=train_test_split(train_final,df1.loc[:,df1.columns=='Severity'],test_size=0.2,random_state=2)\n",
    "train=xgboost.DMatrix(X_train,label=y_train)\n",
    "test=xgboost.DMatrix(X_test,label=y_test)\n",
    "#param=P\n",
    "for i in num_iter:\n",
    "    bt=xgboost.train(P,train,i)\n",
    "    pred=bt.predict(test)\n",
    "    x.append(i)\n",
    "    y.append(r2_score(y_test,pred))\n",
    "    err.append(mean_squared_error(y_test,pred,squared=False))\n",
    "    print(i)"
   ]
  },
  {
   "cell_type": "code",
   "execution_count": 113,
   "id": "76703e7d",
   "metadata": {},
   "outputs": [
    {
     "data": {
      "text/plain": [
       "Text(0, 0.5, 'r2 score')"
      ]
     },
     "execution_count": 113,
     "metadata": {},
     "output_type": "execute_result"
    },
    {
     "data": {
      "image/png": "[encoded data removed]",
      "text/plain": [
       "<Figure size 432x288 with 1 Axes>"
      ]
     },
     "metadata": {
      "needs_background": "light"
     },
     "output_type": "display_data"
    }
   ],
   "source": [
    "plt.plot(x,y)\n",
    "plt.xlabel(\"number of boost_round\")\n",
    "plt.ylabel(\"r2 score\")"
   ]
  },
  {
   "cell_type": "markdown",
   "id": "0a4448b9",
   "metadata": {},
   "source": [
    "<b>Plot for Xgboost num_boost_round vs R^2 for Severity target variable</b>"
   ]
  },
  {
   "cell_type": "code",
   "execution_count": 114,
   "id": "9a23e94c",
   "metadata": {},
   "outputs": [
    {
     "data": {
      "text/plain": [
       "Text(0, 0.5, 'root mean squared error')"
      ]
     },
     "execution_count": 114,
     "metadata": {},
     "output_type": "execute_result"
    },
    {
     "data": {
      "image/png": "[encoded data removed]",
      "text/plain": [
       "<Figure size 432x288 with 1 Axes>"
      ]
     },
     "metadata": {
      "needs_background": "light"
     },
     "output_type": "display_data"
    }
   ],
   "source": [
    "plt.plot(x,err)\n",
    "plt.xlabel(\"number of boost_round\")\n",
    "plt.ylabel(\"root mean squared error\")"
   ]
  },
  {
   "cell_type": "markdown",
   "id": "0aaa63ae",
   "metadata": {},
   "source": [
    "<b>Plot for Xgboost num_boost_round vs RMSE for Severity target variable</b>"
   ]
  },
  {
   "cell_type": "markdown",
   "id": "299ce9db",
   "metadata": {},
   "source": [
    "The Xgboost model with the best RMSE:"
   ]
  },
  {
   "cell_type": "code",
   "execution_count": 212,
   "id": "0519a661",
   "metadata": {},
   "outputs": [
    {
     "name": "stdout",
     "output_type": "stream",
     "text": [
      "0.4587096785375308\n"
     ]
    }
   ],
   "source": [
    "xg_sev=err[1]\n",
    "print(xg_sev)"
   ]
  },
  {
   "cell_type": "code",
   "execution_count": 342,
   "id": "d0d6cba5",
   "metadata": {},
   "outputs": [
    {
     "name": "stdout",
     "output_type": "stream",
     "text": [
      "<class 'pandas.core.frame.DataFrame'>\n",
      "RangeIndex: 1516064 entries, 0 to 1516063\n",
      "Data columns (total 38 columns):\n",
      " #   Column                 Non-Null Count    Dtype  \n",
      "---  ------                 --------------    -----  \n",
      " 0   Severity               1516064 non-null  int64  \n",
      " 1   Start_Lat              1516064 non-null  float64\n",
      " 2   Start_Lng              1516064 non-null  float64\n",
      " 3   End_Lat                1516064 non-null  float64\n",
      " 4   End_Lng                1516064 non-null  float64\n",
      " 5   Distance(mi)           1516064 non-null  float64\n",
      " 6   Temperature(F)         1516064 non-null  float64\n",
      " 7   Wind_Chill(F)          1516064 non-null  float64\n",
      " 8   Humidity(%)            1516064 non-null  float64\n",
      " 9   Pressure(in)           1516064 non-null  float64\n",
      " 10  Visibility(mi)         1516064 non-null  float64\n",
      " 11  Wind_Speed(mph)        1516064 non-null  float64\n",
      " 12  Precipitation(in)      1516064 non-null  float64\n",
      " 13  start_month            1516064 non-null  int64  \n",
      " 14  start_day              1516064 non-null  int64  \n",
      " 15  end_month              1516064 non-null  int64  \n",
      " 16  end_day                1516064 non-null  int64  \n",
      " 17  start_hours            1516064 non-null  int64  \n",
      " 18  end_hours              1516064 non-null  int64  \n",
      " 19  Side                   1516064 non-null  int64  \n",
      " 20  State                  1516064 non-null  int64  \n",
      " 21  Timezone               1516064 non-null  int64  \n",
      " 22  Amenity                1516064 non-null  int64  \n",
      " 23  Bump                   1516064 non-null  int64  \n",
      " 24  Crossing               1516064 non-null  int64  \n",
      " 25  Give_Way               1516064 non-null  int64  \n",
      " 26  Junction               1516064 non-null  int64  \n",
      " 27  No_Exit                1516064 non-null  int64  \n",
      " 28  Railway                1516064 non-null  int64  \n",
      " 29  Roundabout             1516064 non-null  int64  \n",
      " 30  Station                1516064 non-null  int64  \n",
      " 31  Stop                   1516064 non-null  int64  \n",
      " 32  Traffic_Calming        1516064 non-null  int64  \n",
      " 33  Traffic_Signal         1516064 non-null  int64  \n",
      " 34  Sunrise_Sunset         1516064 non-null  int64  \n",
      " 35  Civil_Twilight         1516064 non-null  int64  \n",
      " 36  Nautical_Twilight      1516064 non-null  int64  \n",
      " 37  Astronomical_Twilight  1516064 non-null  int64  \n",
      "dtypes: float64(12), int64(26)\n",
      "memory usage: 439.5 MB\n"
     ]
    }
   ],
   "source": [
    "df1.info()"
   ]
  },
  {
   "cell_type": "code",
   "execution_count": null,
   "id": "bccea62e",
   "metadata": {},
   "outputs": [],
   "source": []
  },
  {
   "cell_type": "code",
   "execution_count": null,
   "id": "98acf286",
   "metadata": {},
   "outputs": [],
   "source": []
  }
 ],
 "metadata": {
  "kernelspec": {
   "display_name": "Python 3",
   "language": "python",
   "name": "python3"
  },
  "language_info": {
   "codemirror_mode": {
    "name": "ipython",
    "version": 3
   },
   "file_extension": ".py",
   "mimetype": "text/x-python",
   "name": "python",
   "nbconvert_exporter": "python",
   "pygments_lexer": "ipython3",
   "version": "3.8.8"
  }
 },
 "nbformat": 4,
 "nbformat_minor": 5
}
