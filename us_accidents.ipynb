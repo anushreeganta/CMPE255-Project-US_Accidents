{
  "nbformat": 4,
  "nbformat_minor": 5,
  "metadata": {
    "colab": {
      "name": "us_accidents.ipynb",
      "provenance": []
    },
    "kernelspec": {
      "display_name": "Python 3",
      "language": "python",
      "name": "python3"
    },
    "language_info": {
      "codemirror_mode": {
        "name": "ipython",
        "version": 3
      },
      "file_extension": ".py",
      "mimetype": "text/x-python",
      "name": "python",
      "nbconvert_exporter": "python",
      "pygments_lexer": "ipython3",
      "version": "3.6.5"
    }
  },
  "cells": [
    {
      "cell_type": "code",
      "metadata": {
        "id": "2cbaeb84"
      },
      "source": [
        "import pandas as pd\n",
        "import numpy as np\n",
        "from sklearn.linear_model  import LogisticRegression\n",
        "from sklearn import tree\n",
        "from sklearn.ensemble  import RandomForestClassifier\n",
        "from sklearn import tree\n",
        "from sklearn.metrics import accuracy_score\n",
        "from sklearn.metrics import f1_score,precision_score,r2_score,mean_squared_error"
      ],
      "id": "2cbaeb84",
      "execution_count": 1,
      "outputs": []
    },
    {
      "cell_type": "code",
      "metadata": {
        "id": "5447d45d"
      },
      "source": [
        "df=pd.read_csv('US_Accidents_Dec20_updated.csv')"
      ],
      "id": "5447d45d",
      "execution_count": 2,
      "outputs": []
    },
    {
      "cell_type": "code",
      "metadata": {
        "colab": {
          "base_uri": "https://localhost:8080/",
          "height": 895
        },
        "id": "70ebcd92",
        "outputId": "6947d151-7c48-4d40-9cf4-10a9a24cccd9"
      },
      "source": [
        "df"
      ],
      "id": "70ebcd92",
      "execution_count": null,
      "outputs": [
        {
          "data": {
            "text/html": [
              "<div>\n",
              "<style scoped>\n",
              "    .dataframe tbody tr th:only-of-type {\n",
              "        vertical-align: middle;\n",
              "    }\n",
              "\n",
              "    .dataframe tbody tr th {\n",
              "        vertical-align: top;\n",
              "    }\n",
              "\n",
              "    .dataframe thead th {\n",
              "        text-align: right;\n",
              "    }\n",
              "</style>\n",
              "<table border=\"1\" class=\"dataframe\">\n",
              "  <thead>\n",
              "    <tr style=\"text-align: right;\">\n",
              "      <th></th>\n",
              "      <th>ID</th>\n",
              "      <th>Severity</th>\n",
              "      <th>Start_Time</th>\n",
              "      <th>End_Time</th>\n",
              "      <th>Start_Lat</th>\n",
              "      <th>Start_Lng</th>\n",
              "      <th>End_Lat</th>\n",
              "      <th>End_Lng</th>\n",
              "      <th>Distance(mi)</th>\n",
              "      <th>Description</th>\n",
              "      <th>...</th>\n",
              "      <th>Roundabout</th>\n",
              "      <th>Station</th>\n",
              "      <th>Stop</th>\n",
              "      <th>Traffic_Calming</th>\n",
              "      <th>Traffic_Signal</th>\n",
              "      <th>Turning_Loop</th>\n",
              "      <th>Sunrise_Sunset</th>\n",
              "      <th>Civil_Twilight</th>\n",
              "      <th>Nautical_Twilight</th>\n",
              "      <th>Astronomical_Twilight</th>\n",
              "    </tr>\n",
              "  </thead>\n",
              "  <tbody>\n",
              "    <tr>\n",
              "      <th>0</th>\n",
              "      <td>A-2716600</td>\n",
              "      <td>3</td>\n",
              "      <td>2016-02-08 00:37:08</td>\n",
              "      <td>2016-02-08 06:37:08</td>\n",
              "      <td>40.10891</td>\n",
              "      <td>-83.09286</td>\n",
              "      <td>40.11206</td>\n",
              "      <td>-83.03187</td>\n",
              "      <td>3.230</td>\n",
              "      <td>Between Sawmill Rd/Exit 20 and OH-315/Olentang...</td>\n",
              "      <td>...</td>\n",
              "      <td>False</td>\n",
              "      <td>False</td>\n",
              "      <td>False</td>\n",
              "      <td>False</td>\n",
              "      <td>False</td>\n",
              "      <td>False</td>\n",
              "      <td>Night</td>\n",
              "      <td>Night</td>\n",
              "      <td>Night</td>\n",
              "      <td>Night</td>\n",
              "    </tr>\n",
              "    <tr>\n",
              "      <th>1</th>\n",
              "      <td>A-2716601</td>\n",
              "      <td>2</td>\n",
              "      <td>2016-02-08 05:56:20</td>\n",
              "      <td>2016-02-08 11:56:20</td>\n",
              "      <td>39.86542</td>\n",
              "      <td>-84.06280</td>\n",
              "      <td>39.86501</td>\n",
              "      <td>-84.04873</td>\n",
              "      <td>0.747</td>\n",
              "      <td>At OH-4/OH-235/Exit 41 - Accident.</td>\n",
              "      <td>...</td>\n",
              "      <td>False</td>\n",
              "      <td>False</td>\n",
              "      <td>False</td>\n",
              "      <td>False</td>\n",
              "      <td>False</td>\n",
              "      <td>False</td>\n",
              "      <td>Night</td>\n",
              "      <td>Night</td>\n",
              "      <td>Night</td>\n",
              "      <td>Night</td>\n",
              "    </tr>\n",
              "    <tr>\n",
              "      <th>2</th>\n",
              "      <td>A-2716602</td>\n",
              "      <td>2</td>\n",
              "      <td>2016-02-08 06:15:39</td>\n",
              "      <td>2016-02-08 12:15:39</td>\n",
              "      <td>39.10266</td>\n",
              "      <td>-84.52468</td>\n",
              "      <td>39.10209</td>\n",
              "      <td>-84.52396</td>\n",
              "      <td>0.055</td>\n",
              "      <td>At I-71/US-50/Exit 1 - Accident.</td>\n",
              "      <td>...</td>\n",
              "      <td>False</td>\n",
              "      <td>False</td>\n",
              "      <td>False</td>\n",
              "      <td>False</td>\n",
              "      <td>False</td>\n",
              "      <td>False</td>\n",
              "      <td>Night</td>\n",
              "      <td>Night</td>\n",
              "      <td>Night</td>\n",
              "      <td>Day</td>\n",
              "    </tr>\n",
              "    <tr>\n",
              "      <th>3</th>\n",
              "      <td>A-2716603</td>\n",
              "      <td>2</td>\n",
              "      <td>2016-02-08 06:15:39</td>\n",
              "      <td>2016-02-08 12:15:39</td>\n",
              "      <td>39.10148</td>\n",
              "      <td>-84.52341</td>\n",
              "      <td>39.09841</td>\n",
              "      <td>-84.52241</td>\n",
              "      <td>0.219</td>\n",
              "      <td>At I-71/US-50/Exit 1 - Accident.</td>\n",
              "      <td>...</td>\n",
              "      <td>False</td>\n",
              "      <td>False</td>\n",
              "      <td>False</td>\n",
              "      <td>False</td>\n",
              "      <td>False</td>\n",
              "      <td>False</td>\n",
              "      <td>Night</td>\n",
              "      <td>Night</td>\n",
              "      <td>Night</td>\n",
              "      <td>Day</td>\n",
              "    </tr>\n",
              "    <tr>\n",
              "      <th>4</th>\n",
              "      <td>A-2716604</td>\n",
              "      <td>2</td>\n",
              "      <td>2016-02-08 06:51:45</td>\n",
              "      <td>2016-02-08 12:51:45</td>\n",
              "      <td>41.06213</td>\n",
              "      <td>-81.53784</td>\n",
              "      <td>41.06217</td>\n",
              "      <td>-81.53547</td>\n",
              "      <td>0.123</td>\n",
              "      <td>At Dart Ave/Exit 21 - Accident.</td>\n",
              "      <td>...</td>\n",
              "      <td>False</td>\n",
              "      <td>False</td>\n",
              "      <td>False</td>\n",
              "      <td>False</td>\n",
              "      <td>False</td>\n",
              "      <td>False</td>\n",
              "      <td>Night</td>\n",
              "      <td>Night</td>\n",
              "      <td>Day</td>\n",
              "      <td>Day</td>\n",
              "    </tr>\n",
              "    <tr>\n",
              "      <th>...</th>\n",
              "      <td>...</td>\n",
              "      <td>...</td>\n",
              "      <td>...</td>\n",
              "      <td>...</td>\n",
              "      <td>...</td>\n",
              "      <td>...</td>\n",
              "      <td>...</td>\n",
              "      <td>...</td>\n",
              "      <td>...</td>\n",
              "      <td>...</td>\n",
              "      <td>...</td>\n",
              "      <td>...</td>\n",
              "      <td>...</td>\n",
              "      <td>...</td>\n",
              "      <td>...</td>\n",
              "      <td>...</td>\n",
              "      <td>...</td>\n",
              "      <td>...</td>\n",
              "      <td>...</td>\n",
              "      <td>...</td>\n",
              "      <td>...</td>\n",
              "    </tr>\n",
              "    <tr>\n",
              "      <th>1516059</th>\n",
              "      <td>A-4239402</td>\n",
              "      <td>2</td>\n",
              "      <td>2019-08-23 18:03:25</td>\n",
              "      <td>2019-08-23 18:32:01</td>\n",
              "      <td>34.00248</td>\n",
              "      <td>-117.37936</td>\n",
              "      <td>33.99888</td>\n",
              "      <td>-117.37094</td>\n",
              "      <td>0.543</td>\n",
              "      <td>At Market St - Accident.</td>\n",
              "      <td>...</td>\n",
              "      <td>False</td>\n",
              "      <td>False</td>\n",
              "      <td>False</td>\n",
              "      <td>False</td>\n",
              "      <td>False</td>\n",
              "      <td>False</td>\n",
              "      <td>Day</td>\n",
              "      <td>Day</td>\n",
              "      <td>Day</td>\n",
              "      <td>Day</td>\n",
              "    </tr>\n",
              "    <tr>\n",
              "      <th>1516060</th>\n",
              "      <td>A-4239403</td>\n",
              "      <td>2</td>\n",
              "      <td>2019-08-23 19:11:30</td>\n",
              "      <td>2019-08-23 19:38:23</td>\n",
              "      <td>32.76696</td>\n",
              "      <td>-117.14806</td>\n",
              "      <td>32.76555</td>\n",
              "      <td>-117.15363</td>\n",
              "      <td>0.338</td>\n",
              "      <td>At Camino Del Rio/Mission Center Rd - Accident.</td>\n",
              "      <td>...</td>\n",
              "      <td>False</td>\n",
              "      <td>False</td>\n",
              "      <td>False</td>\n",
              "      <td>False</td>\n",
              "      <td>False</td>\n",
              "      <td>False</td>\n",
              "      <td>Day</td>\n",
              "      <td>Day</td>\n",
              "      <td>Day</td>\n",
              "      <td>Day</td>\n",
              "    </tr>\n",
              "    <tr>\n",
              "      <th>1516061</th>\n",
              "      <td>A-4239404</td>\n",
              "      <td>2</td>\n",
              "      <td>2019-08-23 19:00:21</td>\n",
              "      <td>2019-08-23 19:28:49</td>\n",
              "      <td>33.77545</td>\n",
              "      <td>-117.84779</td>\n",
              "      <td>33.77740</td>\n",
              "      <td>-117.85727</td>\n",
              "      <td>0.561</td>\n",
              "      <td>At Glassell St/Grand Ave - Accident. in the ri...</td>\n",
              "      <td>...</td>\n",
              "      <td>False</td>\n",
              "      <td>False</td>\n",
              "      <td>False</td>\n",
              "      <td>False</td>\n",
              "      <td>False</td>\n",
              "      <td>False</td>\n",
              "      <td>Day</td>\n",
              "      <td>Day</td>\n",
              "      <td>Day</td>\n",
              "      <td>Day</td>\n",
              "    </tr>\n",
              "    <tr>\n",
              "      <th>1516062</th>\n",
              "      <td>A-4239405</td>\n",
              "      <td>2</td>\n",
              "      <td>2019-08-23 19:00:21</td>\n",
              "      <td>2019-08-23 19:29:42</td>\n",
              "      <td>33.99246</td>\n",
              "      <td>-118.40302</td>\n",
              "      <td>33.98311</td>\n",
              "      <td>-118.39565</td>\n",
              "      <td>0.772</td>\n",
              "      <td>At CA-90/Marina Fwy/Jefferson Blvd - Accident.</td>\n",
              "      <td>...</td>\n",
              "      <td>False</td>\n",
              "      <td>False</td>\n",
              "      <td>False</td>\n",
              "      <td>False</td>\n",
              "      <td>False</td>\n",
              "      <td>False</td>\n",
              "      <td>Day</td>\n",
              "      <td>Day</td>\n",
              "      <td>Day</td>\n",
              "      <td>Day</td>\n",
              "    </tr>\n",
              "    <tr>\n",
              "      <th>1516063</th>\n",
              "      <td>A-4239406</td>\n",
              "      <td>2</td>\n",
              "      <td>2019-08-23 18:52:06</td>\n",
              "      <td>2019-08-23 19:21:31</td>\n",
              "      <td>34.13393</td>\n",
              "      <td>-117.23092</td>\n",
              "      <td>34.13736</td>\n",
              "      <td>-117.23934</td>\n",
              "      <td>0.537</td>\n",
              "      <td>At Highland Ave/Arden Ave - Accident.</td>\n",
              "      <td>...</td>\n",
              "      <td>False</td>\n",
              "      <td>False</td>\n",
              "      <td>False</td>\n",
              "      <td>False</td>\n",
              "      <td>False</td>\n",
              "      <td>False</td>\n",
              "      <td>Day</td>\n",
              "      <td>Day</td>\n",
              "      <td>Day</td>\n",
              "      <td>Day</td>\n",
              "    </tr>\n",
              "  </tbody>\n",
              "</table>\n",
              "<p>1516064 rows × 47 columns</p>\n",
              "</div>"
            ],
            "text/plain": [
              "                ID  Severity           Start_Time             End_Time  \\\n",
              "0        A-2716600         3  2016-02-08 00:37:08  2016-02-08 06:37:08   \n",
              "1        A-2716601         2  2016-02-08 05:56:20  2016-02-08 11:56:20   \n",
              "2        A-2716602         2  2016-02-08 06:15:39  2016-02-08 12:15:39   \n",
              "3        A-2716603         2  2016-02-08 06:15:39  2016-02-08 12:15:39   \n",
              "4        A-2716604         2  2016-02-08 06:51:45  2016-02-08 12:51:45   \n",
              "...            ...       ...                  ...                  ...   \n",
              "1516059  A-4239402         2  2019-08-23 18:03:25  2019-08-23 18:32:01   \n",
              "1516060  A-4239403         2  2019-08-23 19:11:30  2019-08-23 19:38:23   \n",
              "1516061  A-4239404         2  2019-08-23 19:00:21  2019-08-23 19:28:49   \n",
              "1516062  A-4239405         2  2019-08-23 19:00:21  2019-08-23 19:29:42   \n",
              "1516063  A-4239406         2  2019-08-23 18:52:06  2019-08-23 19:21:31   \n",
              "\n",
              "         Start_Lat  Start_Lng   End_Lat    End_Lng  Distance(mi)  \\\n",
              "0         40.10891  -83.09286  40.11206  -83.03187         3.230   \n",
              "1         39.86542  -84.06280  39.86501  -84.04873         0.747   \n",
              "2         39.10266  -84.52468  39.10209  -84.52396         0.055   \n",
              "3         39.10148  -84.52341  39.09841  -84.52241         0.219   \n",
              "4         41.06213  -81.53784  41.06217  -81.53547         0.123   \n",
              "...            ...        ...       ...        ...           ...   \n",
              "1516059   34.00248 -117.37936  33.99888 -117.37094         0.543   \n",
              "1516060   32.76696 -117.14806  32.76555 -117.15363         0.338   \n",
              "1516061   33.77545 -117.84779  33.77740 -117.85727         0.561   \n",
              "1516062   33.99246 -118.40302  33.98311 -118.39565         0.772   \n",
              "1516063   34.13393 -117.23092  34.13736 -117.23934         0.537   \n",
              "\n",
              "                                               Description  ...  Roundabout  \\\n",
              "0        Between Sawmill Rd/Exit 20 and OH-315/Olentang...  ...       False   \n",
              "1                       At OH-4/OH-235/Exit 41 - Accident.  ...       False   \n",
              "2                         At I-71/US-50/Exit 1 - Accident.  ...       False   \n",
              "3                         At I-71/US-50/Exit 1 - Accident.  ...       False   \n",
              "4                          At Dart Ave/Exit 21 - Accident.  ...       False   \n",
              "...                                                    ...  ...         ...   \n",
              "1516059                           At Market St - Accident.  ...       False   \n",
              "1516060    At Camino Del Rio/Mission Center Rd - Accident.  ...       False   \n",
              "1516061  At Glassell St/Grand Ave - Accident. in the ri...  ...       False   \n",
              "1516062     At CA-90/Marina Fwy/Jefferson Blvd - Accident.  ...       False   \n",
              "1516063              At Highland Ave/Arden Ave - Accident.  ...       False   \n",
              "\n",
              "        Station   Stop Traffic_Calming Traffic_Signal Turning_Loop  \\\n",
              "0         False  False           False          False        False   \n",
              "1         False  False           False          False        False   \n",
              "2         False  False           False          False        False   \n",
              "3         False  False           False          False        False   \n",
              "4         False  False           False          False        False   \n",
              "...         ...    ...             ...            ...          ...   \n",
              "1516059   False  False           False          False        False   \n",
              "1516060   False  False           False          False        False   \n",
              "1516061   False  False           False          False        False   \n",
              "1516062   False  False           False          False        False   \n",
              "1516063   False  False           False          False        False   \n",
              "\n",
              "        Sunrise_Sunset Civil_Twilight Nautical_Twilight Astronomical_Twilight  \n",
              "0                Night          Night             Night                 Night  \n",
              "1                Night          Night             Night                 Night  \n",
              "2                Night          Night             Night                   Day  \n",
              "3                Night          Night             Night                   Day  \n",
              "4                Night          Night               Day                   Day  \n",
              "...                ...            ...               ...                   ...  \n",
              "1516059            Day            Day               Day                   Day  \n",
              "1516060            Day            Day               Day                   Day  \n",
              "1516061            Day            Day               Day                   Day  \n",
              "1516062            Day            Day               Day                   Day  \n",
              "1516063            Day            Day               Day                   Day  \n",
              "\n",
              "[1516064 rows x 47 columns]"
            ]
          },
          "execution_count": 3,
          "metadata": {},
          "output_type": "execute_result"
        }
      ]
    },
    {
      "cell_type": "code",
      "metadata": {
        "colab": {
          "base_uri": "https://localhost:8080/"
        },
        "id": "13491bee",
        "outputId": "b7d1a3b3-ee2b-4557-ced5-41a16bcae088"
      },
      "source": [
        "df.info()"
      ],
      "id": "13491bee",
      "execution_count": null,
      "outputs": [
        {
          "name": "stdout",
          "output_type": "stream",
          "text": [
            "<class 'pandas.core.frame.DataFrame'>\n",
            "RangeIndex: 1516064 entries, 0 to 1516063\n",
            "Data columns (total 47 columns):\n",
            " #   Column                 Non-Null Count    Dtype  \n",
            "---  ------                 --------------    -----  \n",
            " 0   ID                     1516064 non-null  object \n",
            " 1   Severity               1516064 non-null  int64  \n",
            " 2   Start_Time             1516064 non-null  object \n",
            " 3   End_Time               1516064 non-null  object \n",
            " 4   Start_Lat              1516064 non-null  float64\n",
            " 5   Start_Lng              1516064 non-null  float64\n",
            " 6   End_Lat                1516064 non-null  float64\n",
            " 7   End_Lng                1516064 non-null  float64\n",
            " 8   Distance(mi)           1516064 non-null  float64\n",
            " 9   Description            1516064 non-null  object \n",
            " 10  Number                 469969 non-null   float64\n",
            " 11  Street                 1516064 non-null  object \n",
            " 12  Side                   1516064 non-null  object \n",
            " 13  City                   1515981 non-null  object \n",
            " 14  County                 1516064 non-null  object \n",
            " 15  State                  1516064 non-null  object \n",
            " 16  Zipcode                1515129 non-null  object \n",
            " 17  Country                1516064 non-null  object \n",
            " 18  Timezone               1513762 non-null  object \n",
            " 19  Airport_Code           1511816 non-null  object \n",
            " 20  Weather_Timestamp      1485800 non-null  object \n",
            " 21  Temperature(F)         1473031 non-null  float64\n",
            " 22  Wind_Chill(F)          1066748 non-null  float64\n",
            " 23  Humidity(%)            1470555 non-null  float64\n",
            " 24  Pressure(in)           1479790 non-null  float64\n",
            " 25  Visibility(mi)         1471853 non-null  float64\n",
            " 26  Wind_Direction         1474206 non-null  object \n",
            " 27  Wind_Speed(mph)        1387202 non-null  float64\n",
            " 28  Precipitation(in)      1005515 non-null  float64\n",
            " 29  Weather_Condition      1472057 non-null  object \n",
            " 30  Amenity                1516064 non-null  bool   \n",
            " 31  Bump                   1516064 non-null  bool   \n",
            " 32  Crossing               1516064 non-null  bool   \n",
            " 33  Give_Way               1516064 non-null  bool   \n",
            " 34  Junction               1516064 non-null  bool   \n",
            " 35  No_Exit                1516064 non-null  bool   \n",
            " 36  Railway                1516064 non-null  bool   \n",
            " 37  Roundabout             1516064 non-null  bool   \n",
            " 38  Station                1516064 non-null  bool   \n",
            " 39  Stop                   1516064 non-null  bool   \n",
            " 40  Traffic_Calming        1516064 non-null  bool   \n",
            " 41  Traffic_Signal         1516064 non-null  bool   \n",
            " 42  Turning_Loop           1516064 non-null  bool   \n",
            " 43  Sunrise_Sunset         1515981 non-null  object \n",
            " 44  Civil_Twilight         1515981 non-null  object \n",
            " 45  Nautical_Twilight      1515981 non-null  object \n",
            " 46  Astronomical_Twilight  1515981 non-null  object \n",
            "dtypes: bool(13), float64(13), int64(1), object(20)\n",
            "memory usage: 412.1+ MB\n"
          ]
        }
      ]
    },
    {
      "cell_type": "markdown",
      "metadata": {
        "id": "6wo0qurQhyyR"
      },
      "source": [
        "# Data Preprocessing"
      ],
      "id": "6wo0qurQhyyR"
    },
    {
      "cell_type": "code",
      "metadata": {
        "colab": {
          "base_uri": "https://localhost:8080/"
        },
        "id": "f1LRq233hov2",
        "outputId": "997b6fa8-a983-417c-d4ad-eb9aa45da838"
      },
      "source": [
        "print(\"Number of rows:\", len(df.index))\n",
        "df.drop_duplicates(inplace=True)\n",
        "print(\"Number of rows after drop of duplicates:\", len(df.index))"
      ],
      "id": "f1LRq233hov2",
      "execution_count": null,
      "outputs": [
        {
          "name": "stdout",
          "output_type": "stream",
          "text": [
            "Number of rows: 1516064\n",
            "Number of rows after drop of duplicates: 1516064\n"
          ]
        }
      ]
    },
    {
      "cell_type": "code",
      "metadata": {
        "colab": {
          "base_uri": "https://localhost:8080/"
        },
        "id": "a740a1de",
        "outputId": "c70e71b6-abec-4495-df66-9107fef05788"
      },
      "source": [
        "#check all unique weather condition values\n",
        "unique_weather = df[\"Weather_Condition\"].unique()\n",
        "\n",
        "print(len(unique_weather))\n",
        "print(unique_weather)"
      ],
      "id": "a740a1de",
      "execution_count": null,
      "outputs": [
        {
          "name": "stdout",
          "output_type": "stream",
          "text": [
            "117\n",
            "['Light Rain' 'Overcast' 'Mostly Cloudy' 'Snow' 'Light Snow' 'Cloudy' nan\n",
            " 'Scattered Clouds' 'Clear' 'Partly Cloudy' 'Light Freezing Drizzle'\n",
            " 'Light Drizzle' 'Haze' 'Rain' 'Heavy Rain' 'Fair' 'Drizzle' 'Fog'\n",
            " 'Thunderstorms and Rain' 'Patches of Fog' 'Light Thunderstorms and Rain'\n",
            " 'Mist' 'Rain Showers' 'Light Rain Showers' 'Heavy Drizzle' 'Smoke'\n",
            " 'Light Freezing Fog' 'Light Freezing Rain' 'Blowing Snow'\n",
            " 'Heavy Thunderstorms and Rain' 'Heavy Snow' 'Snow Grains' 'Squalls'\n",
            " 'Light Fog' 'Shallow Fog' 'Thunderstorm' 'Light Ice Pellets' 'Thunder'\n",
            " 'Thunder in the Vicinity' 'Fair / Windy' 'Light Rain with Thunder'\n",
            " 'Heavy Thunderstorms and Snow' 'Light Snow Showers' 'Cloudy / Windy'\n",
            " 'Ice Pellets' 'N/A Precipitation' 'Light Thunderstorms and Snow'\n",
            " 'T-Storm' 'Rain / Windy' 'Wintry Mix' 'Partly Cloudy / Windy'\n",
            " 'Heavy T-Storm' 'Sand' 'Light Rain / Windy' 'Widespread Dust'\n",
            " 'Mostly Cloudy / Windy' 'Blowing Dust / Windy' 'Blowing Dust'\n",
            " 'Volcanic Ash' 'Freezing Rain / Windy' 'Small Hail' 'Wintry Mix / Windy'\n",
            " 'Light Snow / Windy' 'Heavy Ice Pellets' 'Heavy Snow / Windy'\n",
            " 'Heavy Rain / Windy' 'Heavy T-Storm / Windy' 'Fog / Windy' 'Dust Whirls'\n",
            " 'Showers in the Vicinity' 'Funnel Cloud' 'Haze / Windy'\n",
            " 'Light Rain Shower' 'Smoke / Windy' 'Light Drizzle / Windy'\n",
            " 'Snow / Windy' 'Partial Fog' 'Light Freezing Rain / Windy' 'Sleet'\n",
            " 'Blowing Snow / Windy' 'Snow and Sleet' 'Snow and Sleet / Windy'\n",
            " 'Squalls / Windy' 'Light Sleet / Windy' 'Freezing Drizzle'\n",
            " 'Freezing Rain' 'Thunder / Windy' 'Drizzle and Fog' 'Light Sleet'\n",
            " 'Thunder / Wintry Mix / Windy' 'Mist / Windy' 'Light Snow and Sleet'\n",
            " 'Rain Shower' 'Sleet / Windy' 'T-Storm / Windy'\n",
            " 'Light Snow and Sleet / Windy' 'Patches of Fog / Windy' 'Drizzle / Windy'\n",
            " 'Sand / Dust Whirls Nearby' 'Light Rain Shower / Windy'\n",
            " 'Heavy Rain Shower' 'Thunder and Hail' 'Drifting Snow'\n",
            " 'Light Snow Shower' 'Sand / Dust Whirlwinds' 'Heavy Blowing Snow' 'Hail'\n",
            " 'Heavy Freezing Drizzle' 'Low Drifting Snow' 'Light Blowing Snow'\n",
            " 'Heavy Rain Showers' 'Light Haze' 'Heavy Thunderstorms with Small Hail'\n",
            " 'Light Snow with Thunder' 'Heavy Snow with Thunder'\n",
            " 'Thunder and Hail / Windy' 'Tornado']\n"
          ]
        }
      ]
    },
    {
      "cell_type": "code",
      "metadata": {
        "colab": {
          "base_uri": "https://localhost:8080/"
        },
        "id": "d2fcefcf",
        "outputId": "401ab633-1fd8-4de7-b780-8720a085b451"
      },
      "source": [
        "# grouping weather_condition similar words \n",
        "df.loc[df[\"Weather_Condition\"].str.contains(\"Thunder|T-Storm\", na=False), \"Weather_Condition\"] = \"Thunderstorm\"\n",
        "df.loc[df[\"Weather_Condition\"].str.contains(\"Snow|Sleet|Wintry\", na=False), \"Weather_Condition\"] = \"Snow\"\n",
        "df.loc[df[\"Weather_Condition\"].str.contains(\"Rain|Drizzle|Shower\", na=False), \"Weather_Condition\"] = \"Rain\"\n",
        "df.loc[df[\"Weather_Condition\"].str.contains(\"Wind|Squalls\", na=False), \"Weather_Condition\"] = \"Windy\"\n",
        "df.loc[df[\"Weather_Condition\"].str.contains(\"Hail|Pellets\", na=False), \"Weather_Condition\"] = \"Hail\"\n",
        "df.loc[df[\"Weather_Condition\"].str.contains(\"Fair\", na=False), \"Weather_Condition\"] = \"Clear\"\n",
        "df.loc[df[\"Weather_Condition\"].str.contains(\"Cloud|Overcast\", na=False), \"Weather_Condition\"] = \"Cloudy\"\n",
        "df.loc[df[\"Weather_Condition\"].str.contains(\"Mist|Haze|Fog\", na=False), \"Weather_Condition\"] = \"Fog\"\n",
        "df.loc[df[\"Weather_Condition\"].str.contains(\"Sand|Dust\", na=False), \"Weather_Condition\"] = \"Sand\"\n",
        "df.loc[df[\"Weather_Condition\"].str.contains(\"Smoke|Volcanic Ash\", na=False), \"Weather_Condition\"] = \"Smoke\"\n",
        "df.loc[df[\"Weather_Condition\"].str.contains(\"N/A Precipitation\", na=False), \"Weather_Condition\"] = np.nan\n",
        "\n",
        "print(len(df[\"Weather_Condition\"].unique()))\n",
        "print(df[\"Weather_Condition\"].unique())"
      ],
      "id": "d2fcefcf",
      "execution_count": 3,
      "outputs": [
        {
          "output_type": "stream",
          "name": "stdout",
          "text": [
            "12\n",
            "['Rain' 'Cloudy' 'Snow' nan 'Clear' 'Fog' 'Thunderstorm' 'Smoke' 'Windy'\n",
            " 'Hail' 'Sand' 'Tornado']\n"
          ]
        }
      ]
    },
    {
      "cell_type": "code",
      "metadata": {
        "colab": {
          "base_uri": "https://localhost:8080/"
        },
        "id": "92f42ca3",
        "outputId": "7eafc44a-ec8c-4edc-e22b-45cb47c891da"
      },
      "source": [
        "#check all unique wind_direction  values\n",
        "print(len(df[\"Wind_Direction\"].unique()))\n",
        "df['Wind_Direction'].unique()"
      ],
      "id": "92f42ca3",
      "execution_count": 4,
      "outputs": [
        {
          "output_type": "stream",
          "name": "stdout",
          "text": [
            "25\n"
          ]
        },
        {
          "output_type": "execute_result",
          "data": {
            "text/plain": [
              "array(['SW', 'Calm', 'WSW', 'WNW', 'West', 'NNW', 'South', 'W', 'NW',\n",
              "       'North', 'SSE', 'SSW', 'ESE', 'SE', nan, 'East', 'Variable', 'NNE',\n",
              "       'NE', 'ENE', 'CALM', 'S', 'VAR', 'N', 'E'], dtype=object)"
            ]
          },
          "metadata": {},
          "execution_count": 4
        }
      ]
    },
    {
      "cell_type": "code",
      "metadata": {
        "colab": {
          "base_uri": "https://localhost:8080/"
        },
        "id": "88d59aae",
        "outputId": "bba3d565-4fc7-492e-bc3b-b9ec216891dc"
      },
      "source": [
        "# grouping Wind_Direction similar words \n",
        "df.loc[df[\"Wind_Direction\"] == \"CALM\", \"Wind_Direction\"] = \"Calm\"\n",
        "df.loc[df[\"Wind_Direction\"] == \"VAR\", \"Wind_Direction\"] = \"Variable\"\n",
        "df.loc[df[\"Wind_Direction\"] == \"East\", \"Wind_Direction\"] = \"E\"\n",
        "df.loc[df[\"Wind_Direction\"] == \"North\", \"Wind_Direction\"] = \"N\"\n",
        "df.loc[df[\"Wind_Direction\"] == \"South\", \"Wind_Direction\"] = \"S\"\n",
        "df.loc[df[\"Wind_Direction\"] == \"West\", \"Wind_Direction\"] = \"W\"\n",
        "\n",
        "df[\"Wind_Direction\"] = df[\"Wind_Direction\"].map(lambda x : x if len(x) != 3 else x[1:], na_action=\"ignore\")\n",
        "print(len(df[\"Wind_Direction\"].unique()))\n",
        "df[\"Wind_Direction\"].unique()"
      ],
      "id": "88d59aae",
      "execution_count": 5,
      "outputs": [
        {
          "output_type": "stream",
          "name": "stdout",
          "text": [
            "11\n"
          ]
        },
        {
          "output_type": "execute_result",
          "data": {
            "text/plain": [
              "array(['SW', 'Calm', 'NW', 'W', 'S', 'N', 'SE', nan, 'E', 'Variable',\n",
              "       'NE'], dtype=object)"
            ]
          },
          "metadata": {},
          "execution_count": 5
        }
      ]
    },
    {
      "cell_type": "code",
      "metadata": {
        "colab": {
          "base_uri": "https://localhost:8080/",
          "height": 868
        },
        "id": "7e5596ef",
        "outputId": "7be4497a-7363-47c4-c463-20fb9619a32a"
      },
      "source": [
        "# Display the Missing Values in Data :\n",
        "print(\"Data : \")\n",
        "display(df.isnull().sum())"
      ],
      "id": "7e5596ef",
      "execution_count": 6,
      "outputs": [
        {
          "output_type": "stream",
          "name": "stdout",
          "text": [
            "Data : \n"
          ]
        },
        {
          "output_type": "display_data",
          "data": {
            "text/plain": [
              "ID                             0\n",
              "Severity                       0\n",
              "Start_Time                     0\n",
              "End_Time                       0\n",
              "Start_Lat                      0\n",
              "Start_Lng                      0\n",
              "End_Lat                        0\n",
              "End_Lng                        0\n",
              "Distance(mi)                   0\n",
              "Description                    0\n",
              "Number                   1046095\n",
              "Street                         0\n",
              "Side                           0\n",
              "City                          83\n",
              "County                         0\n",
              "State                          0\n",
              "Zipcode                      935\n",
              "Country                        0\n",
              "Timezone                    2302\n",
              "Airport_Code                4248\n",
              "Weather_Timestamp          30264\n",
              "Temperature(F)             43033\n",
              "Wind_Chill(F)             449316\n",
              "Humidity(%)                45509\n",
              "Pressure(in)               36274\n",
              "Visibility(mi)             44211\n",
              "Wind_Direction             41858\n",
              "Wind_Speed(mph)           128862\n",
              "Precipitation(in)         510549\n",
              "Weather_Condition          44410\n",
              "Amenity                        0\n",
              "Bump                           0\n",
              "Crossing                       0\n",
              "Give_Way                       0\n",
              "Junction                       0\n",
              "No_Exit                        0\n",
              "Railway                        0\n",
              "Roundabout                     0\n",
              "Station                        0\n",
              "Stop                           0\n",
              "Traffic_Calming                0\n",
              "Traffic_Signal                 0\n",
              "Turning_Loop                   0\n",
              "Sunrise_Sunset                83\n",
              "Civil_Twilight                83\n",
              "Nautical_Twilight             83\n",
              "Astronomical_Twilight         83\n",
              "dtype: int64"
            ]
          },
          "metadata": {}
        }
      ]
    },
    {
      "cell_type": "code",
      "metadata": {
        "id": "d1e162c2"
      },
      "source": [
        "#parse dates and times - changing Start_Time,End_Time,Weather_Timestamp column to to Y-m-d H-M-S format\n",
        "import datetime\n",
        "df['datetime_start_parsed'] = pd.to_datetime(df['Start_Time'], format=\"%Y-%m-%d %H:%M:%S\")\n",
        "df['datetime_end_parsed'] = pd.to_datetime(df['End_Time'], format=\"%Y-%m-%d %H:%M:%S\")\n",
        "df['datetime_weathertime_parsed'] = pd.to_datetime(df['Weather_Timestamp'], format=\"%Y-%m-%d %H:%M:%S\")"
      ],
      "id": "d1e162c2",
      "execution_count": 7,
      "outputs": []
    },
    {
      "cell_type": "code",
      "metadata": {
        "colab": {
          "base_uri": "https://localhost:8080/"
        },
        "id": "5619bda2",
        "outputId": "ef0be5d9-9bfd-4942-a51e-2d25c3e5f841"
      },
      "source": [
        "df.columns"
      ],
      "id": "5619bda2",
      "execution_count": null,
      "outputs": [
        {
          "data": {
            "text/plain": [
              "Index(['ID', 'Severity', 'Start_Time', 'End_Time', 'Start_Lat', 'Start_Lng',\n",
              "       'End_Lat', 'End_Lng', 'Distance(mi)', 'Description', 'Number', 'Street',\n",
              "       'Side', 'City', 'County', 'State', 'Zipcode', 'Country', 'Timezone',\n",
              "       'Airport_Code', 'Weather_Timestamp', 'Temperature(F)', 'Wind_Chill(F)',\n",
              "       'Humidity(%)', 'Pressure(in)', 'Visibility(mi)', 'Wind_Direction',\n",
              "       'Wind_Speed(mph)', 'Precipitation(in)', 'Weather_Condition', 'Amenity',\n",
              "       'Bump', 'Crossing', 'Give_Way', 'Junction', 'No_Exit', 'Railway',\n",
              "       'Roundabout', 'Station', 'Stop', 'Traffic_Calming', 'Traffic_Signal',\n",
              "       'Turning_Loop', 'Sunrise_Sunset', 'Civil_Twilight', 'Nautical_Twilight',\n",
              "       'Astronomical_Twilight', 'datetime_start_parsed', 'datetime_end_parsed',\n",
              "       'datetime_weathertime_parsed'],\n",
              "      dtype='object')"
            ]
          },
          "execution_count": 12,
          "metadata": {},
          "output_type": "execute_result"
        }
      ]
    },
    {
      "cell_type": "code",
      "metadata": {
        "id": "7af9b9b1"
      },
      "source": [
        "#categorized variables based on numerical, categoric, and datetime\n",
        "#description is excluded\n",
        "\n",
        "numerical = [\n",
        "       'Start_Lat', 'Start_Lng',\n",
        "       'End_Lat', 'End_Lng', 'Distance(mi)','Number','Temperature(F)', 'Wind_Chill(F)',\n",
        "       'Humidity(%)', 'Pressure(in)', 'Visibility(mi)','Wind_Speed(mph)', 'Precipitation(in)'\n",
        "]\n",
        "\n",
        "categorical = [\n",
        "    'Severity','Street', 'Side', 'City', 'Zipcode', 'County', 'State','Country','Timezone','Airport_Code','Wind_Direction','Weather_Condition', 'Amenity',\n",
        "       'Bump', 'Crossing', 'Give_Way', 'Junction', 'No_Exit', 'Railway',\n",
        "       'Roundabout', 'Station', 'Stop', 'Traffic_Calming', 'Traffic_Signal',\n",
        "       'Turning_Loop', 'Sunrise_Sunset', 'Civil_Twilight', 'Nautical_Twilight',\n",
        "       'Astronomical_Twilight'\n",
        "]\n",
        "\n",
        "datetime = [\n",
        "        'datetime_start_parsed', 'datetime_end_parsed', 'datetime_weathertime_parsed'\n",
        "]"
      ],
      "id": "7af9b9b1",
      "execution_count": 8,
      "outputs": []
    },
    {
      "cell_type": "code",
      "metadata": {
        "id": "9cb2edf4"
      },
      "source": [
        "#replace space with most common entry\n",
        "df.Side = df.Side.replace(' ','R')"
      ],
      "id": "9cb2edf4",
      "execution_count": 9,
      "outputs": []
    },
    {
      "cell_type": "code",
      "metadata": {
        "id": "6096ad89"
      },
      "source": [
        "#remove start/end/weather time (already parsed)  and remove Number which has 65% null values\n",
        "df = df.drop(['ID','Start_Time','End_Time', 'Weather_Timestamp','Number'], axis=1)"
      ],
      "id": "6096ad89",
      "execution_count": 10,
      "outputs": []
    },
    {
      "cell_type": "code",
      "metadata": {
        "id": "1f8bc844"
      },
      "source": [
        "#remove Number from numerical array\n",
        "numerical.remove('Number')"
      ],
      "id": "1f8bc844",
      "execution_count": 11,
      "outputs": []
    },
    {
      "cell_type": "code",
      "metadata": {
        "id": "48363cf9"
      },
      "source": [
        "#replace N/A Precipitation with NaN to be imputed with most frequent\n",
        "df.Weather_Condition = df.Weather_Condition.replace('N/A Precipitation', np.NaN)"
      ],
      "id": "48363cf9",
      "execution_count": 12,
      "outputs": []
    },
    {
      "cell_type": "code",
      "metadata": {
        "id": "44d4f126"
      },
      "source": [
        "tznullindex = np.array(df[df.Timezone.isna()].index)\n",
        "tznulllatlng = df.loc[tznullindex, ['Start_Lat','Start_Lng']]"
      ],
      "id": "44d4f126",
      "execution_count": 13,
      "outputs": []
    },
    {
      "cell_type": "code",
      "metadata": {
        "colab": {
          "base_uri": "https://localhost:8080/"
        },
        "id": "7d3dfa84",
        "outputId": "f137b9d9-cdc5-4fe6-889b-bf8d37c3c06c"
      },
      "source": [
        "pip install timezonefinder"
      ],
      "id": "7d3dfa84",
      "execution_count": 14,
      "outputs": [
        {
          "output_type": "stream",
          "name": "stdout",
          "text": [
            "Collecting timezonefinder\n",
            "  Downloading timezonefinder-5.2.0-py36.py37.py38-none-any.whl (43.0 MB)\n",
            "\u001b[K     |████████████████████████████████| 43.0 MB 1.2 MB/s \n",
            "\u001b[?25hRequirement already satisfied: numpy>=1.16 in /usr/local/lib/python3.7/dist-packages (from timezonefinder) (1.19.5)\n",
            "Installing collected packages: timezonefinder\n",
            "Successfully installed timezonefinder-5.2.0\n"
          ]
        }
      ]
    },
    {
      "cell_type": "code",
      "metadata": {
        "id": "67c7dc64"
      },
      "source": [
        "#fill in missing time zones\n",
        "from timezonefinder import TimezoneFinder\n",
        "obj = TimezoneFinder()\n",
        "for i in tznullindex:\n",
        "    timezone = obj.timezone_at(lng=tznulllatlng.loc[i,'Start_Lng'], lat=tznulllatlng.loc[i,'Start_Lat'])\n",
        "    df.loc[i,'Timezone'] = timezone"
      ],
      "id": "67c7dc64",
      "execution_count": 15,
      "outputs": []
    },
    {
      "cell_type": "code",
      "metadata": {
        "colab": {
          "base_uri": "https://localhost:8080/"
        },
        "id": "f9a0cb39",
        "outputId": "365c8420-f035-42ee-a392-23439198f1bb"
      },
      "source": [
        "df['Timezone'].value_counts()"
      ],
      "id": "f9a0cb39",
      "execution_count": null,
      "outputs": [
        {
          "data": {
            "text/plain": [
              "US/Eastern             587961\n",
              "US/Pacific             564358\n",
              "US/Central             265204\n",
              "US/Mountain             96239\n",
              "America/Los_Angeles      1292\n",
              "America/New_York          725\n",
              "America/Denver            204\n",
              "America/Chicago            68\n",
              "America/Phoenix            13\n",
              "Name: Timezone, dtype: int64"
            ]
          },
          "execution_count": 21,
          "metadata": {},
          "output_type": "execute_result"
        }
      ]
    },
    {
      "cell_type": "code",
      "metadata": {
        "id": "6d2537c8"
      },
      "source": [
        "def most_occur(x):\n",
        "    if(x.name in ['Timezone']):\n",
        "        return x.fillna(x.value_counts().index[0])\n",
        "    else:\n",
        "        return x\n",
        "\n",
        "df=df.apply(most_occur)"
      ],
      "id": "6d2537c8",
      "execution_count": 16,
      "outputs": []
    },
    {
      "cell_type": "code",
      "metadata": {
        "id": "a3b94963"
      },
      "source": [
        "def preprocess_timezone(x):\n",
        "    ans=x.split('/')[1][0]\n",
        "    #print('here')\n",
        "    return ans\n",
        "\n",
        "df['Timezone']=df['Timezone'].apply(preprocess_timezone)"
      ],
      "id": "a3b94963",
      "execution_count": 17,
      "outputs": []
    },
    {
      "cell_type": "code",
      "metadata": {
        "colab": {
          "base_uri": "https://localhost:8080/"
        },
        "id": "37cd9a6d",
        "outputId": "19a15f52-0c8d-4263-f57b-b8add6db11da"
      },
      "source": [
        "df['Timezone']"
      ],
      "id": "37cd9a6d",
      "execution_count": null,
      "outputs": [
        {
          "data": {
            "text/plain": [
              "0          E\n",
              "1          E\n",
              "2          E\n",
              "3          E\n",
              "4          E\n",
              "          ..\n",
              "1516059    P\n",
              "1516060    P\n",
              "1516061    P\n",
              "1516062    P\n",
              "1516063    P\n",
              "Name: Timezone, Length: 1516064, dtype: object"
            ]
          },
          "execution_count": 24,
          "metadata": {},
          "output_type": "execute_result"
        }
      ]
    },
    {
      "cell_type": "code",
      "metadata": {
        "colab": {
          "base_uri": "https://localhost:8080/"
        },
        "id": "f7d92c3f",
        "outputId": "56ff1cdb-8d9e-4b2a-9a21-1b7869b06845"
      },
      "source": [
        "print('{}: {} ({}%)'.format('Timezone',pd.isnull(df['Timezone']).sum(),(pd.isnull(df['Timezone']).sum()/len(df))*100))"
      ],
      "id": "f7d92c3f",
      "execution_count": null,
      "outputs": [
        {
          "name": "stdout",
          "output_type": "stream",
          "text": [
            "Timezone: 0 (0.0%)\n"
          ]
        }
      ]
    },
    {
      "cell_type": "code",
      "metadata": {
        "id": "fb855e90"
      },
      "source": [
        "#determine index then lat/lng for missing city, zipcode, and timezone data\n",
        "citynullindex = np.array(df[df.City.isna()].index)\n",
        "citynulllatlng = df.loc[citynullindex, ['Start_Lat','Start_Lng']]\n",
        "\n",
        "zipnullindex = np.array(df[df.Zipcode.isna()].index)\n",
        "zipnulllatlng = df.loc[zipnullindex, ['Start_Lat','Start_Lng']]\n",
        "\n",
        "acnullindex = np.array(df[df.Airport_Code.isna()].index)\n",
        "\n",
        "tznullindex = np.array(df[df.Timezone.isna()].index)\n",
        "tznulllatlng = df.loc[tznullindex, ['Start_Lat','Start_Lng']]"
      ],
      "id": "fb855e90",
      "execution_count": 18,
      "outputs": []
    },
    {
      "cell_type": "code",
      "metadata": {
        "colab": {
          "base_uri": "https://localhost:8080/"
        },
        "id": "e50a67a8",
        "outputId": "36c5f957-94bb-41f5-b3c6-65edd640085a"
      },
      "source": [
        "pip install geopy"
      ],
      "id": "e50a67a8",
      "execution_count": 19,
      "outputs": [
        {
          "output_type": "stream",
          "name": "stdout",
          "text": [
            "Requirement already satisfied: geopy in /usr/local/lib/python3.7/dist-packages (1.17.0)\n",
            "Requirement already satisfied: geographiclib<2,>=1.49 in /usr/local/lib/python3.7/dist-packages (from geopy) (1.52)\n"
          ]
        }
      ]
    },
    {
      "cell_type": "code",
      "metadata": {
        "id": "6b1d7808"
      },
      "source": [
        "#initialize Nominatim for finding missing cities and zipcodes based on lat/lng\n",
        "from geopy.geocoders import Nominatim\n",
        "geolocator = Nominatim(user_agent=\"geoapiExercises\")"
      ],
      "id": "6b1d7808",
      "execution_count": 20,
      "outputs": []
    },
    {
      "cell_type": "code",
      "metadata": {
        "id": "22b8ae69"
      },
      "source": [
        "#fill in missing cities\n",
        "for i in citynullindex:\n",
        "    location = geolocator.reverse(citynulllatlng.loc[i,'Start_Lat'].astype('str')+\",\"+citynulllatlng.loc[i,'Start_Lng'].astype('str'))\n",
        "    address = location.raw['address']\n",
        "    city = address.get('city', '')\n",
        "    df.loc[i,'City'] = city\n",
        "    \n",
        "#fill in missing zipcodes\n",
        "for i in zipnullindex:\n",
        "    location = geolocator.reverse(zipnulllatlng.loc[i,'Start_Lat'].astype('str')+\",\"+zipnulllatlng.loc[i,'Start_Lng'].astype('str'))\n",
        "    address = location.raw['address']\n",
        "    zipcode = address.get('postcode')\n",
        "    df.loc[i,'Zipcode'] = zipcode\n",
        "    #if cannot locate zipcode with geolocator, fill in zipcode mode for the state\n",
        "    if zipcode == None:\n",
        "        df.loc[i,'Zipcode'] = df[df['State'] == df.loc[i,'State']]['Zipcode'].mode(dropna=True)[0]"
      ],
      "id": "22b8ae69",
      "execution_count": 21,
      "outputs": []
    },
    {
      "cell_type": "code",
      "metadata": {
        "id": "79a0fac8"
      },
      "source": [
        "#make all zipcodes 5 digit                           \n",
        "zipcodes = pd.DataFrame(df[[not a for a in df['Zipcode'].isna()]]['Zipcode'].str[:5])\n",
        "zipindex = np.array(df[df.Zipcode.notnull()].index)\n",
        "df.loc[zipindex,'Zipcode'] = zipcodes.loc[:,'Zipcode']"
      ],
      "id": "79a0fac8",
      "execution_count": 22,
      "outputs": []
    },
    {
      "cell_type": "code",
      "metadata": {
        "id": "b7d92780"
      },
      "source": [
        "#replace missing airport_code data with most common airport_code for each state\n",
        "ac_states = pd.DataFrame(df.loc[acnullindex,'State'].unique(), columns=['State'])\n",
        "for i in range(0,len(ac_states)):\n",
        "    ac_states.loc[i,'Mode'] = df[df.State == ac_states.loc[i,'State']]['Airport_Code'].mode(dropna=True)[0]\n",
        "for i in acnullindex:\n",
        "    df.loc[i,'Airport_Code'] = ac_states[ac_states['State'] == df.loc[i,'State']]['Mode'].tolist()[0]"
      ],
      "id": "b7d92780",
      "execution_count": 23,
      "outputs": []
    },
    {
      "cell_type": "code",
      "metadata": {
        "id": "63a4f384"
      },
      "source": [
        "#replace missing wind chill data with temperature\n",
        "wcnull = np.array(df[np.isnan(df['Wind_Chill(F)'])].index)\n",
        "df.loc[wcnull,'Wind_Chill(F)'] = df.loc[i,'Temperature(F)']"
      ],
      "id": "63a4f384",
      "execution_count": 24,
      "outputs": []
    },
    {
      "cell_type": "code",
      "metadata": {
        "id": "5d7180cf"
      },
      "source": [
        "#replace missing temperature data with wind chill\n",
        "tempnull = np.array(df[np.isnan(df['Temperature(F)'])].index)\n",
        "df.loc[wcnull,'Temperature(F)'] = df.loc[i,'Wind_Chill(F)']"
      ],
      "id": "5d7180cf",
      "execution_count": 25,
      "outputs": []
    },
    {
      "cell_type": "code",
      "metadata": {
        "id": "b67c6765"
      },
      "source": [
        "#replace missing data for when the weather was collected based on end time of the accident\n",
        "weathertimenull = np.array(df[np.isnan(df.datetime_weathertime_parsed)].index)\n",
        "df.loc[weathertimenull,'datetime_weathertime_parsed'] = df.loc[weathertimenull,'datetime_end_parsed']"
      ],
      "id": "b67c6765",
      "execution_count": 26,
      "outputs": []
    },
    {
      "cell_type": "code",
      "metadata": {
        "id": "b48607c2"
      },
      "source": [
        "#variables to impute with median or mode strategy\n",
        "median_impute = ['Temperature(F)','Wind_Chill(F)','Humidity(%)','Pressure(in)','Visibility(mi)','Wind_Speed(mph)','Precipitation(in)']\n",
        "mode_impute = ['Wind_Direction','Weather_Condition','Sunrise_Sunset','Civil_Twilight', 'Nautical_Twilight','Astronomical_Twilight']"
      ],
      "id": "b48607c2",
      "execution_count": 27,
      "outputs": []
    },
    {
      "cell_type": "code",
      "metadata": {
        "id": "7435f006"
      },
      "source": [
        "#mode impute (SimpleImputer for loop is too slow)\n",
        "wdnull = np.array(df[df.Wind_Direction.isna()].index)\n",
        "df.loc[wdnull,'Wind_Direction'] = 'CALM'\n",
        "\n",
        "wcnull = np.array(df[df.Weather_Condition.isna()].index)\n",
        "df.loc[wcnull,'Weather_Condition'] = 'Fair'\n",
        "\n",
        "ssnull = np.array(df[df.Sunrise_Sunset.isna()].index)\n",
        "df.loc[ssnull,'Sunrise_Sunset'] = 'Day'\n",
        "\n",
        "ctnull = np.array(df[df.Civil_Twilight.isna()].index)\n",
        "df.loc[ssnull,'Civil_Twilight'] = 'Day'\n",
        "\n",
        "ntnull = np.array(df[df.Nautical_Twilight.isna()].index)\n",
        "df.loc[ssnull,'Nautical_Twilight'] = 'Day'\n",
        "\n",
        "atnull = np.array(df[df.Astronomical_Twilight.isna()].index)\n",
        "df.loc[atnull,'Astronomical_Twilight'] = 'Day'"
      ],
      "id": "7435f006",
      "execution_count": 28,
      "outputs": []
    },
    {
      "cell_type": "code",
      "metadata": {
        "colab": {
          "base_uri": "https://localhost:8080/"
        },
        "id": "d1d27618",
        "outputId": "ca5c47e9-7733-49d3-b8a8-5d55df967930"
      },
      "source": [
        "#impute variables with median values\n",
        "import numpy as np\n",
        "from sklearn.impute import SimpleImputer\n",
        "\n",
        "imputer1 = SimpleImputer(missing_values=np.nan, strategy='median')\n",
        "df_median_fit = imputer1.fit_transform(df[median_impute])\n",
        "df_median = imputer1.transform(df_median_fit)\n",
        "\n",
        "df[median_impute] = pd.DataFrame(df_median)"
      ],
      "id": "d1d27618",
      "execution_count": 29,
      "outputs": [
        {
          "output_type": "stream",
          "name": "stderr",
          "text": [
            "/usr/local/lib/python3.7/dist-packages/sklearn/base.py:446: UserWarning: X does not have valid feature names, but SimpleImputer was fitted with feature names\n",
            "  \"X does not have valid feature names, but\"\n"
          ]
        }
      ]
    },
    {
      "cell_type": "code",
      "metadata": {
        "colab": {
          "base_uri": "https://localhost:8080/"
        },
        "id": "8e785494",
        "outputId": "7b1266f7-fc10-41e2-959e-c8ebde83f7dd"
      },
      "source": [
        "#print number and percentage of null entries per variable\n",
        "print('Null values per variable')\n",
        "for column in df.columns:\n",
        "    print('{}: {} ({}%)'.format(column,pd.isnull(df[column]).sum(),(pd.isnull(df[column]).sum()/len(df))*100))"
      ],
      "id": "8e785494",
      "execution_count": 30,
      "outputs": [
        {
          "output_type": "stream",
          "name": "stdout",
          "text": [
            "Null values per variable\n",
            "Severity: 0 (0.0%)\n",
            "Start_Lat: 0 (0.0%)\n",
            "Start_Lng: 0 (0.0%)\n",
            "End_Lat: 0 (0.0%)\n",
            "End_Lng: 0 (0.0%)\n",
            "Distance(mi): 0 (0.0%)\n",
            "Description: 0 (0.0%)\n",
            "Street: 0 (0.0%)\n",
            "Side: 0 (0.0%)\n",
            "City: 0 (0.0%)\n",
            "County: 0 (0.0%)\n",
            "State: 0 (0.0%)\n",
            "Zipcode: 0 (0.0%)\n",
            "Country: 0 (0.0%)\n",
            "Timezone: 0 (0.0%)\n",
            "Airport_Code: 0 (0.0%)\n",
            "Temperature(F): 0 (0.0%)\n",
            "Wind_Chill(F): 0 (0.0%)\n",
            "Humidity(%): 0 (0.0%)\n",
            "Pressure(in): 0 (0.0%)\n",
            "Visibility(mi): 0 (0.0%)\n",
            "Wind_Direction: 0 (0.0%)\n",
            "Wind_Speed(mph): 0 (0.0%)\n",
            "Precipitation(in): 0 (0.0%)\n",
            "Weather_Condition: 0 (0.0%)\n",
            "Amenity: 0 (0.0%)\n",
            "Bump: 0 (0.0%)\n",
            "Crossing: 0 (0.0%)\n",
            "Give_Way: 0 (0.0%)\n",
            "Junction: 0 (0.0%)\n",
            "No_Exit: 0 (0.0%)\n",
            "Railway: 0 (0.0%)\n",
            "Roundabout: 0 (0.0%)\n",
            "Station: 0 (0.0%)\n",
            "Stop: 0 (0.0%)\n",
            "Traffic_Calming: 0 (0.0%)\n",
            "Traffic_Signal: 0 (0.0%)\n",
            "Turning_Loop: 0 (0.0%)\n",
            "Sunrise_Sunset: 0 (0.0%)\n",
            "Civil_Twilight: 0 (0.0%)\n",
            "Nautical_Twilight: 0 (0.0%)\n",
            "Astronomical_Twilight: 0 (0.0%)\n",
            "datetime_start_parsed: 0 (0.0%)\n",
            "datetime_end_parsed: 0 (0.0%)\n",
            "datetime_weathertime_parsed: 0 (0.0%)\n"
          ]
        }
      ]
    },
    {
      "cell_type": "code",
      "metadata": {
        "id": "3982e97b"
      },
      "source": [
        "#seperate variables with dates and times into seperate columns\n",
        "for col in datetime:\n",
        "    df['{} day'.format(col)] = df[col].dt.day\n",
        "    df['{} month'.format(col)] = df[col].dt.month\n",
        "    df['{} year'.format(col)] = df[col].dt.year\n",
        "    df['{} hour'.format(col)] = df[col].dt.hour\n",
        "    df['{} minute'.format(col)] = df[col].dt.minute\n",
        "    df['{} second'.format(col)] = df[col].dt.second\n",
        "    numerical.append('{} day'.format(col))\n",
        "    numerical.append('{} month'.format(col))\n",
        "    numerical.append('{} year'.format(col))\n",
        "    numerical.append('{} hour'.format(col))\n",
        "    numerical.append('{} minute'.format(col))\n",
        "    numerical.append('{} second'.format(col))\n",
        "\n",
        "#remove datetime columns from dataframe     \n",
        "df = df.drop(datetime, axis=1)"
      ],
      "id": "3982e97b",
      "execution_count": 31,
      "outputs": []
    },
    {
      "cell_type": "code",
      "metadata": {
        "colab": {
          "base_uri": "https://localhost:8080/"
        },
        "id": "cc3b3263",
        "outputId": "984306da-abbd-433c-c250-a80f957877fa"
      },
      "source": [
        "df.info()"
      ],
      "id": "cc3b3263",
      "execution_count": null,
      "outputs": [
        {
          "name": "stdout",
          "output_type": "stream",
          "text": [
            "<class 'pandas.core.frame.DataFrame'>\n",
            "Int64Index: 1516064 entries, 0 to 1516063\n",
            "Data columns (total 60 columns):\n",
            " #   Column                              Non-Null Count    Dtype  \n",
            "---  ------                              --------------    -----  \n",
            " 0   Severity                            1516064 non-null  int64  \n",
            " 1   Start_Lat                           1516064 non-null  float64\n",
            " 2   Start_Lng                           1516064 non-null  float64\n",
            " 3   End_Lat                             1516064 non-null  float64\n",
            " 4   End_Lng                             1516064 non-null  float64\n",
            " 5   Distance(mi)                        1516064 non-null  float64\n",
            " 6   Description                         1516064 non-null  object \n",
            " 7   Street                              1516064 non-null  object \n",
            " 8   Side                                1516064 non-null  object \n",
            " 9   City                                1516064 non-null  object \n",
            " 10  County                              1516064 non-null  object \n",
            " 11  State                               1516064 non-null  object \n",
            " 12  Zipcode                             1516064 non-null  object \n",
            " 13  Country                             1516064 non-null  object \n",
            " 14  Timezone                            1516064 non-null  object \n",
            " 15  Airport_Code                        1516064 non-null  object \n",
            " 16  Temperature(F)                      1516064 non-null  float64\n",
            " 17  Wind_Chill(F)                       1516064 non-null  float64\n",
            " 18  Humidity(%)                         1516064 non-null  float64\n",
            " 19  Pressure(in)                        1516064 non-null  float64\n",
            " 20  Visibility(mi)                      1516064 non-null  float64\n",
            " 21  Wind_Direction                      1516064 non-null  object \n",
            " 22  Wind_Speed(mph)                     1516064 non-null  float64\n",
            " 23  Precipitation(in)                   1516064 non-null  float64\n",
            " 24  Weather_Condition                   1516064 non-null  object \n",
            " 25  Amenity                             1516064 non-null  bool   \n",
            " 26  Bump                                1516064 non-null  bool   \n",
            " 27  Crossing                            1516064 non-null  bool   \n",
            " 28  Give_Way                            1516064 non-null  bool   \n",
            " 29  Junction                            1516064 non-null  bool   \n",
            " 30  No_Exit                             1516064 non-null  bool   \n",
            " 31  Railway                             1516064 non-null  bool   \n",
            " 32  Roundabout                          1516064 non-null  bool   \n",
            " 33  Station                             1516064 non-null  bool   \n",
            " 34  Stop                                1516064 non-null  bool   \n",
            " 35  Traffic_Calming                     1516064 non-null  bool   \n",
            " 36  Traffic_Signal                      1516064 non-null  bool   \n",
            " 37  Turning_Loop                        1516064 non-null  bool   \n",
            " 38  Sunrise_Sunset                      1516064 non-null  object \n",
            " 39  Civil_Twilight                      1516064 non-null  object \n",
            " 40  Nautical_Twilight                   1516064 non-null  object \n",
            " 41  Astronomical_Twilight               1516064 non-null  object \n",
            " 42  datetime_start_parsed day           1516064 non-null  int64  \n",
            " 43  datetime_start_parsed month         1516064 non-null  int64  \n",
            " 44  datetime_start_parsed year          1516064 non-null  int64  \n",
            " 45  datetime_start_parsed hour          1516064 non-null  int64  \n",
            " 46  datetime_start_parsed minute        1516064 non-null  int64  \n",
            " 47  datetime_start_parsed second        1516064 non-null  int64  \n",
            " 48  datetime_end_parsed day             1516064 non-null  int64  \n",
            " 49  datetime_end_parsed month           1516064 non-null  int64  \n",
            " 50  datetime_end_parsed year            1516064 non-null  int64  \n",
            " 51  datetime_end_parsed hour            1516064 non-null  int64  \n",
            " 52  datetime_end_parsed minute          1516064 non-null  int64  \n",
            " 53  datetime_end_parsed second          1516064 non-null  int64  \n",
            " 54  datetime_weathertime_parsed day     1516064 non-null  int64  \n",
            " 55  datetime_weathertime_parsed month   1516064 non-null  int64  \n",
            " 56  datetime_weathertime_parsed year    1516064 non-null  int64  \n",
            " 57  datetime_weathertime_parsed hour    1516064 non-null  int64  \n",
            " 58  datetime_weathertime_parsed minute  1516064 non-null  int64  \n",
            " 59  datetime_weathertime_parsed second  1516064 non-null  int64  \n",
            "dtypes: bool(13), float64(12), int64(19), object(16)\n",
            "memory usage: 614.0+ MB\n"
          ]
        }
      ]
    },
    {
      "cell_type": "code",
      "metadata": {
        "id": "432db269"
      },
      "source": [
        "cat_col_selected=[]\n",
        "for i in categorical:\n",
        "    x=df[i].value_counts()\n",
        "    if(len(x)<=6):\n",
        "        cat_col_selected.append(i)"
      ],
      "id": "432db269",
      "execution_count": 32,
      "outputs": []
    },
    {
      "cell_type": "code",
      "metadata": {
        "id": "3ce05e41"
      },
      "source": [
        "cat_col_selected.remove('Country')"
      ],
      "id": "3ce05e41",
      "execution_count": 33,
      "outputs": []
    },
    {
      "cell_type": "code",
      "metadata": {
        "colab": {
          "base_uri": "https://localhost:8080/"
        },
        "id": "8346cd91",
        "outputId": "08ff1c15-0678-4148-f0c5-37340d939e25"
      },
      "source": [
        "cat_col_selected"
      ],
      "id": "8346cd91",
      "execution_count": null,
      "outputs": [
        {
          "data": {
            "text/plain": [
              "['Severity',\n",
              " 'Side',\n",
              " 'Amenity',\n",
              " 'Bump',\n",
              " 'Crossing',\n",
              " 'Give_Way',\n",
              " 'Junction',\n",
              " 'No_Exit',\n",
              " 'Railway',\n",
              " 'Roundabout',\n",
              " 'Station',\n",
              " 'Stop',\n",
              " 'Traffic_Calming',\n",
              " 'Traffic_Signal',\n",
              " 'Turning_Loop',\n",
              " 'Sunrise_Sunset',\n",
              " 'Civil_Twilight',\n",
              " 'Nautical_Twilight',\n",
              " 'Astronomical_Twilight']"
            ]
          },
          "execution_count": 43,
          "metadata": {},
          "output_type": "execute_result"
        }
      ]
    },
    {
      "cell_type": "code",
      "metadata": {
        "id": "9f0cae9b"
      },
      "source": [
        "cont_cols=list(df.select_dtypes(['int64','float64']).columns)"
      ],
      "id": "9f0cae9b",
      "execution_count": 34,
      "outputs": []
    },
    {
      "cell_type": "code",
      "metadata": {
        "id": "07cecef6"
      },
      "source": [
        "#nan_cols=df[cont_cols].isna().any()\n",
        "#cols_nan=df.columns[nan_cols].tolist()\n",
        "\n",
        "def fill_avg(x):\n",
        "    if(x.name in cont_cols):\n",
        "        return x.fillna(x.mean())\n",
        "    else:\n",
        "        return x"
      ],
      "id": "07cecef6",
      "execution_count": 35,
      "outputs": []
    },
    {
      "cell_type": "code",
      "metadata": {
        "id": "8262fe14"
      },
      "source": [
        "df1=df.apply(fill_avg)"
      ],
      "id": "8262fe14",
      "execution_count": 36,
      "outputs": []
    },
    {
      "cell_type": "code",
      "metadata": {
        "id": "a155f9b1"
      },
      "source": [
        "COLS=cont_cols+cat_col_selected\n",
        "df1=df1[COLS]"
      ],
      "id": "a155f9b1",
      "execution_count": 37,
      "outputs": []
    },
    {
      "cell_type": "code",
      "metadata": {
        "id": "94e434de"
      },
      "source": [
        "c_col=list(df1.select_dtypes(['bool','object']).columns)\n",
        "\n",
        "def most_occur(x):\n",
        "    if(x.name in c_col):\n",
        "        return x.fillna(x.value_counts().index[0])\n",
        "    else:\n",
        "        return x\n",
        "\n",
        "df1=df1.apply(most_occur)"
      ],
      "id": "94e434de",
      "execution_count": 38,
      "outputs": []
    },
    {
      "cell_type": "code",
      "metadata": {
        "colab": {
          "base_uri": "https://localhost:8080/"
        },
        "id": "f7c5965b",
        "outputId": "83285b96-628c-4dc6-e6a5-8cd3d78359d2"
      },
      "source": [
        "df1.shape"
      ],
      "id": "f7c5965b",
      "execution_count": null,
      "outputs": [
        {
          "data": {
            "text/plain": [
              "(1516064, 50)"
            ]
          },
          "execution_count": 49,
          "metadata": {},
          "output_type": "execute_result"
        }
      ]
    },
    {
      "cell_type": "code",
      "metadata": {
        "colab": {
          "base_uri": "https://localhost:8080/",
          "height": 244
        },
        "id": "c3a256dc",
        "outputId": "24f9a986-b5d8-4458-d00d-c2fe53da19c1"
      },
      "source": [
        "df1.head(5)"
      ],
      "id": "c3a256dc",
      "execution_count": null,
      "outputs": [
        {
          "data": {
            "text/html": [
              "<div>\n",
              "<style scoped>\n",
              "    .dataframe tbody tr th:only-of-type {\n",
              "        vertical-align: middle;\n",
              "    }\n",
              "\n",
              "    .dataframe tbody tr th {\n",
              "        vertical-align: top;\n",
              "    }\n",
              "\n",
              "    .dataframe thead th {\n",
              "        text-align: right;\n",
              "    }\n",
              "</style>\n",
              "<table border=\"1\" class=\"dataframe\">\n",
              "  <thead>\n",
              "    <tr style=\"text-align: right;\">\n",
              "      <th></th>\n",
              "      <th>Severity</th>\n",
              "      <th>Start_Lat</th>\n",
              "      <th>Start_Lng</th>\n",
              "      <th>End_Lat</th>\n",
              "      <th>End_Lng</th>\n",
              "      <th>Distance(mi)</th>\n",
              "      <th>Temperature(F)</th>\n",
              "      <th>Wind_Chill(F)</th>\n",
              "      <th>Humidity(%)</th>\n",
              "      <th>Pressure(in)</th>\n",
              "      <th>...</th>\n",
              "      <th>Roundabout</th>\n",
              "      <th>Station</th>\n",
              "      <th>Stop</th>\n",
              "      <th>Traffic_Calming</th>\n",
              "      <th>Traffic_Signal</th>\n",
              "      <th>Turning_Loop</th>\n",
              "      <th>Sunrise_Sunset</th>\n",
              "      <th>Civil_Twilight</th>\n",
              "      <th>Nautical_Twilight</th>\n",
              "      <th>Astronomical_Twilight</th>\n",
              "    </tr>\n",
              "  </thead>\n",
              "  <tbody>\n",
              "    <tr>\n",
              "      <th>0</th>\n",
              "      <td>3</td>\n",
              "      <td>40.10891</td>\n",
              "      <td>-83.09286</td>\n",
              "      <td>40.11206</td>\n",
              "      <td>-83.03187</td>\n",
              "      <td>3.230</td>\n",
              "      <td>42.1</td>\n",
              "      <td>36.1</td>\n",
              "      <td>58.0</td>\n",
              "      <td>29.76</td>\n",
              "      <td>...</td>\n",
              "      <td>False</td>\n",
              "      <td>False</td>\n",
              "      <td>False</td>\n",
              "      <td>False</td>\n",
              "      <td>False</td>\n",
              "      <td>False</td>\n",
              "      <td>Night</td>\n",
              "      <td>Night</td>\n",
              "      <td>Night</td>\n",
              "      <td>Night</td>\n",
              "    </tr>\n",
              "    <tr>\n",
              "      <th>1</th>\n",
              "      <td>2</td>\n",
              "      <td>39.86542</td>\n",
              "      <td>-84.06280</td>\n",
              "      <td>39.86501</td>\n",
              "      <td>-84.04873</td>\n",
              "      <td>0.747</td>\n",
              "      <td>57.0</td>\n",
              "      <td>57.0</td>\n",
              "      <td>91.0</td>\n",
              "      <td>29.68</td>\n",
              "      <td>...</td>\n",
              "      <td>False</td>\n",
              "      <td>False</td>\n",
              "      <td>False</td>\n",
              "      <td>False</td>\n",
              "      <td>False</td>\n",
              "      <td>False</td>\n",
              "      <td>Night</td>\n",
              "      <td>Night</td>\n",
              "      <td>Night</td>\n",
              "      <td>Night</td>\n",
              "    </tr>\n",
              "    <tr>\n",
              "      <th>2</th>\n",
              "      <td>2</td>\n",
              "      <td>39.10266</td>\n",
              "      <td>-84.52468</td>\n",
              "      <td>39.10209</td>\n",
              "      <td>-84.52396</td>\n",
              "      <td>0.055</td>\n",
              "      <td>57.0</td>\n",
              "      <td>57.0</td>\n",
              "      <td>97.0</td>\n",
              "      <td>29.70</td>\n",
              "      <td>...</td>\n",
              "      <td>False</td>\n",
              "      <td>False</td>\n",
              "      <td>False</td>\n",
              "      <td>False</td>\n",
              "      <td>False</td>\n",
              "      <td>False</td>\n",
              "      <td>Night</td>\n",
              "      <td>Night</td>\n",
              "      <td>Night</td>\n",
              "      <td>Day</td>\n",
              "    </tr>\n",
              "    <tr>\n",
              "      <th>3</th>\n",
              "      <td>2</td>\n",
              "      <td>39.10148</td>\n",
              "      <td>-84.52341</td>\n",
              "      <td>39.09841</td>\n",
              "      <td>-84.52241</td>\n",
              "      <td>0.219</td>\n",
              "      <td>57.0</td>\n",
              "      <td>57.0</td>\n",
              "      <td>97.0</td>\n",
              "      <td>29.70</td>\n",
              "      <td>...</td>\n",
              "      <td>False</td>\n",
              "      <td>False</td>\n",
              "      <td>False</td>\n",
              "      <td>False</td>\n",
              "      <td>False</td>\n",
              "      <td>False</td>\n",
              "      <td>Night</td>\n",
              "      <td>Night</td>\n",
              "      <td>Night</td>\n",
              "      <td>Day</td>\n",
              "    </tr>\n",
              "    <tr>\n",
              "      <th>4</th>\n",
              "      <td>2</td>\n",
              "      <td>41.06213</td>\n",
              "      <td>-81.53784</td>\n",
              "      <td>41.06217</td>\n",
              "      <td>-81.53547</td>\n",
              "      <td>0.123</td>\n",
              "      <td>57.0</td>\n",
              "      <td>57.0</td>\n",
              "      <td>55.0</td>\n",
              "      <td>29.65</td>\n",
              "      <td>...</td>\n",
              "      <td>False</td>\n",
              "      <td>False</td>\n",
              "      <td>False</td>\n",
              "      <td>False</td>\n",
              "      <td>False</td>\n",
              "      <td>False</td>\n",
              "      <td>Night</td>\n",
              "      <td>Night</td>\n",
              "      <td>Day</td>\n",
              "      <td>Day</td>\n",
              "    </tr>\n",
              "  </tbody>\n",
              "</table>\n",
              "<p>5 rows × 50 columns</p>\n",
              "</div>"
            ],
            "text/plain": [
              "   Severity  Start_Lat  Start_Lng   End_Lat   End_Lng  Distance(mi)  \\\n",
              "0         3   40.10891  -83.09286  40.11206 -83.03187         3.230   \n",
              "1         2   39.86542  -84.06280  39.86501 -84.04873         0.747   \n",
              "2         2   39.10266  -84.52468  39.10209 -84.52396         0.055   \n",
              "3         2   39.10148  -84.52341  39.09841 -84.52241         0.219   \n",
              "4         2   41.06213  -81.53784  41.06217 -81.53547         0.123   \n",
              "\n",
              "   Temperature(F)  Wind_Chill(F)  Humidity(%)  Pressure(in)  ...  Roundabout  \\\n",
              "0            42.1           36.1         58.0         29.76  ...       False   \n",
              "1            57.0           57.0         91.0         29.68  ...       False   \n",
              "2            57.0           57.0         97.0         29.70  ...       False   \n",
              "3            57.0           57.0         97.0         29.70  ...       False   \n",
              "4            57.0           57.0         55.0         29.65  ...       False   \n",
              "\n",
              "   Station   Stop  Traffic_Calming  Traffic_Signal  Turning_Loop  \\\n",
              "0    False  False            False           False         False   \n",
              "1    False  False            False           False         False   \n",
              "2    False  False            False           False         False   \n",
              "3    False  False            False           False         False   \n",
              "4    False  False            False           False         False   \n",
              "\n",
              "   Sunrise_Sunset  Civil_Twilight  Nautical_Twilight  Astronomical_Twilight  \n",
              "0           Night           Night              Night                  Night  \n",
              "1           Night           Night              Night                  Night  \n",
              "2           Night           Night              Night                    Day  \n",
              "3           Night           Night              Night                    Day  \n",
              "4           Night           Night                Day                    Day  \n",
              "\n",
              "[5 rows x 50 columns]"
            ]
          },
          "execution_count": 50,
          "metadata": {},
          "output_type": "execute_result"
        }
      ]
    },
    {
      "cell_type": "code",
      "metadata": {
        "id": "146d4338"
      },
      "source": [
        "df1[c_col]=df1[c_col].apply(lambda x: pd.factorize(x)[0])"
      ],
      "id": "146d4338",
      "execution_count": 39,
      "outputs": []
    },
    {
      "cell_type": "code",
      "metadata": {
        "colab": {
          "base_uri": "https://localhost:8080/"
        },
        "id": "25dbc9f2",
        "outputId": "86810248-e2f9-4286-f0b4-c37be3401ecf"
      },
      "source": [
        "df1.info()"
      ],
      "id": "25dbc9f2",
      "execution_count": null,
      "outputs": [
        {
          "name": "stdout",
          "output_type": "stream",
          "text": [
            "<class 'pandas.core.frame.DataFrame'>\n",
            "Int64Index: 1516064 entries, 0 to 1516063\n",
            "Data columns (total 50 columns):\n",
            " #   Column                              Non-Null Count    Dtype  \n",
            "---  ------                              --------------    -----  \n",
            " 0   Severity                            1516064 non-null  int64  \n",
            " 1   Start_Lat                           1516064 non-null  float64\n",
            " 2   Start_Lng                           1516064 non-null  float64\n",
            " 3   End_Lat                             1516064 non-null  float64\n",
            " 4   End_Lng                             1516064 non-null  float64\n",
            " 5   Distance(mi)                        1516064 non-null  float64\n",
            " 6   Temperature(F)                      1516064 non-null  float64\n",
            " 7   Wind_Chill(F)                       1516064 non-null  float64\n",
            " 8   Humidity(%)                         1516064 non-null  float64\n",
            " 9   Pressure(in)                        1516064 non-null  float64\n",
            " 10  Visibility(mi)                      1516064 non-null  float64\n",
            " 11  Wind_Speed(mph)                     1516064 non-null  float64\n",
            " 12  Precipitation(in)                   1516064 non-null  float64\n",
            " 13  datetime_start_parsed day           1516064 non-null  int64  \n",
            " 14  datetime_start_parsed month         1516064 non-null  int64  \n",
            " 15  datetime_start_parsed year          1516064 non-null  int64  \n",
            " 16  datetime_start_parsed hour          1516064 non-null  int64  \n",
            " 17  datetime_start_parsed minute        1516064 non-null  int64  \n",
            " 18  datetime_start_parsed second        1516064 non-null  int64  \n",
            " 19  datetime_end_parsed day             1516064 non-null  int64  \n",
            " 20  datetime_end_parsed month           1516064 non-null  int64  \n",
            " 21  datetime_end_parsed year            1516064 non-null  int64  \n",
            " 22  datetime_end_parsed hour            1516064 non-null  int64  \n",
            " 23  datetime_end_parsed minute          1516064 non-null  int64  \n",
            " 24  datetime_end_parsed second          1516064 non-null  int64  \n",
            " 25  datetime_weathertime_parsed day     1516064 non-null  int64  \n",
            " 26  datetime_weathertime_parsed month   1516064 non-null  int64  \n",
            " 27  datetime_weathertime_parsed year    1516064 non-null  int64  \n",
            " 28  datetime_weathertime_parsed hour    1516064 non-null  int64  \n",
            " 29  datetime_weathertime_parsed minute  1516064 non-null  int64  \n",
            " 30  datetime_weathertime_parsed second  1516064 non-null  int64  \n",
            " 31  Severity                            1516064 non-null  int64  \n",
            " 32  Side                                1516064 non-null  int64  \n",
            " 33  Amenity                             1516064 non-null  int64  \n",
            " 34  Bump                                1516064 non-null  int64  \n",
            " 35  Crossing                            1516064 non-null  int64  \n",
            " 36  Give_Way                            1516064 non-null  int64  \n",
            " 37  Junction                            1516064 non-null  int64  \n",
            " 38  No_Exit                             1516064 non-null  int64  \n",
            " 39  Railway                             1516064 non-null  int64  \n",
            " 40  Roundabout                          1516064 non-null  int64  \n",
            " 41  Station                             1516064 non-null  int64  \n",
            " 42  Stop                                1516064 non-null  int64  \n",
            " 43  Traffic_Calming                     1516064 non-null  int64  \n",
            " 44  Traffic_Signal                      1516064 non-null  int64  \n",
            " 45  Turning_Loop                        1516064 non-null  int64  \n",
            " 46  Sunrise_Sunset                      1516064 non-null  int64  \n",
            " 47  Civil_Twilight                      1516064 non-null  int64  \n",
            " 48  Nautical_Twilight                   1516064 non-null  int64  \n",
            " 49  Astronomical_Twilight               1516064 non-null  int64  \n",
            "dtypes: float64(12), int64(38)\n",
            "memory usage: 629.9 MB\n"
          ]
        }
      ]
    },
    {
      "cell_type": "code",
      "metadata": {
        "id": "29f6de93"
      },
      "source": [
        "from sklearn.model_selection import train_test_split\n",
        "X_train,X_test,y_train,y_test=train_test_split(df1.iloc[:,1:],df1.iloc[:,0],test_size=0.2,random_state=2)"
      ],
      "id": "29f6de93",
      "execution_count": 40,
      "outputs": []
    },
    {
      "cell_type": "code",
      "metadata": {
        "colab": {
          "base_uri": "https://localhost:8080/"
        },
        "id": "4763edae",
        "outputId": "fc08e80e-62b7-416f-ce41-99628986918e"
      },
      "source": [
        "X_train.shape,X_test.shape,y_train.shape,y_test.shape"
      ],
      "id": "4763edae",
      "execution_count": 41,
      "outputs": [
        {
          "output_type": "execute_result",
          "data": {
            "text/plain": [
              "((1212851, 49), (303213, 49), (1212851,), (303213,))"
            ]
          },
          "metadata": {},
          "execution_count": 41
        }
      ]
    },
    {
      "cell_type": "markdown",
      "metadata": {
        "id": "GaVri0qLiJO7"
      },
      "source": [
        "# Models for severity"
      ],
      "id": "GaVri0qLiJO7"
    },
    {
      "cell_type": "markdown",
      "metadata": {
        "id": "i50AvJk6iOZf"
      },
      "source": [
        "1.  Random Forest Regressor"
      ],
      "id": "i50AvJk6iOZf"
    },
    {
      "cell_type": "code",
      "metadata": {
        "id": "0393c182"
      },
      "source": [
        "# Random Forest Regressor"
      ],
      "id": "0393c182",
      "execution_count": null,
      "outputs": []
    },
    {
      "cell_type": "code",
      "metadata": {
        "id": "43b924ee"
      },
      "source": [
        "x = df1.loc[:,df1.columns!='Severity']\n",
        "y = df1.iloc[:,0]\n",
        "from sklearn.model_selection import train_test_split\n",
        "X_train,X_test,y_train,y_test=train_test_split(x,y,test_size=0.2,random_state=2)"
      ],
      "id": "43b924ee",
      "execution_count": 42,
      "outputs": []
    },
    {
      "cell_type": "code",
      "metadata": {
        "id": "25b5ac32",
        "colab": {
          "base_uri": "https://localhost:8080/"
        },
        "outputId": "73402e4d-8b59-401e-aee8-0a4428db9dec"
      },
      "source": [
        "X_train.shape,X_test.shape,y_train.shape,y_test.shape"
      ],
      "id": "25b5ac32",
      "execution_count": 43,
      "outputs": [
        {
          "output_type": "execute_result",
          "data": {
            "text/plain": [
              "((1212851, 48), (303213, 48), (1212851,), (303213,))"
            ]
          },
          "metadata": {},
          "execution_count": 43
        }
      ]
    },
    {
      "cell_type": "code",
      "metadata": {
        "id": "39a056c7",
        "colab": {
          "base_uri": "https://localhost:8080/"
        },
        "outputId": "2b13d884-aacb-44ce-fd4a-1bf7bbd1323e"
      },
      "source": [
        "from sklearn.ensemble import RandomForestRegressor\n",
        "regr = RandomForestRegressor(n_estimators=10, random_state=0)\n",
        "# regr.fit(X_train,y_train)\n",
        "# fit the regressor with x and y data\n",
        "regr.fit(X_train,y_train)\n",
        "# ypred = regr.predict(X_test)"
      ],
      "id": "39a056c7",
      "execution_count": 44,
      "outputs": [
        {
          "output_type": "execute_result",
          "data": {
            "text/plain": [
              "RandomForestRegressor(n_estimators=10, random_state=0)"
            ]
          },
          "metadata": {},
          "execution_count": 44
        }
      ]
    },
    {
      "cell_type": "code",
      "metadata": {
        "id": "f07bedba"
      },
      "source": [
        "Y_pred = regr.predict(X_test)  # test the output by changing values"
      ],
      "id": "f07bedba",
      "execution_count": 45,
      "outputs": []
    },
    {
      "cell_type": "code",
      "metadata": {
        "id": "79e1035f",
        "colab": {
          "base_uri": "https://localhost:8080/"
        },
        "outputId": "2873835f-fca2-414b-f3f2-24687ac5fe1f"
      },
      "source": [
        "print(\"r2 score for severity:\" , r2_score(y_test,Y_pred))"
      ],
      "id": "79e1035f",
      "execution_count": 46,
      "outputs": [
        {
          "output_type": "stream",
          "name": "stdout",
          "text": [
            "r2 score for severity: 0.47313846865373976\n"
          ]
        }
      ]
    },
    {
      "cell_type": "code",
      "metadata": {
        "id": "3fdbae00",
        "colab": {
          "base_uri": "https://localhost:8080/"
        },
        "outputId": "1f3b4c0b-6c2f-4622-e9b3-02ed3348b119"
      },
      "source": [
        "print(\"mean squared error for severity: \" , mean_squared_error(y_test,Y_pred))"
      ],
      "id": "3fdbae00",
      "execution_count": 47,
      "outputs": [
        {
          "output_type": "stream",
          "name": "stdout",
          "text": [
            "mean squared error for severity:  0.19598096439965837\n"
          ]
        }
      ]
    },
    {
      "cell_type": "code",
      "metadata": {
        "id": "zj_W_RdpUFjb"
      },
      "source": [
        "num_iter = [5, 10, 15, 20]\n",
        "x = [];\n",
        "y = [];\n",
        "for i in num_iter:\n",
        "    regr = RandomForestRegressor(n_estimators=i, random_state=0)\n",
        "    regr.fit(X_train,y_train)\n",
        "    Y_pred = regr.predict(X_test)\n",
        "    y.append(mean_squared_error(y_test,Y_pred))\n",
        "    x.append(i)"
      ],
      "id": "zj_W_RdpUFjb",
      "execution_count": 124,
      "outputs": []
    },
    {
      "cell_type": "code",
      "metadata": {
        "colab": {
          "base_uri": "https://localhost:8080/",
          "height": 355
        },
        "id": "yBIX1dcZUX29",
        "outputId": "6a6d3821-9ad0-49f5-d59e-71e1ebdb79c4"
      },
      "source": [
        "import matplotlib.pyplot as plt\n",
        "plt.plot(x,y)\n",
        "plt.ylabel('\\nMean Squared Error of Random Forest\\n', fontsize=15, color='grey')\n",
        "plt.xlabel('\\nn_estimators\\n', fontsize=15, color='grey')\n",
        "plt.show()"
      ],
      "id": "yBIX1dcZUX29",
      "execution_count": 125,
      "outputs": [
        {
          "output_type": "display_data",
          "data": {
            "image/png": "[encoded data removed]",
            "text/plain": [
              "<Figure size 432x288 with 1 Axes>"
            ]
          },
          "metadata": {
            "needs_background": "light"
          }
        }
      ]
    },
    {
      "cell_type": "code",
      "metadata": {
        "id": "XE0uopbPX_z8"
      },
      "source": [
        "num_iter = [5, 10, 15, 20]\n",
        "x = [];\n",
        "y = [];\n",
        "for i in num_iter:\n",
        "    regr = RandomForestRegressor(n_estimators=i, random_state=0)\n",
        "    regr.fit(X_train,y_train)\n",
        "    Y_pred = regr.predict(X_test)\n",
        "    y.append(r2_score(y_test,Y_pred))\n",
        "    x.append(i)"
      ],
      "id": "XE0uopbPX_z8",
      "execution_count": 56,
      "outputs": []
    },
    {
      "cell_type": "code",
      "metadata": {
        "colab": {
          "base_uri": "https://localhost:8080/",
          "height": 320
        },
        "id": "NThQhpwaYACG",
        "outputId": "5c53cbf8-69bd-47f5-a8e8-d532d9159894"
      },
      "source": [
        "import matplotlib.pyplot as plt\n",
        "plt.plot(x,y)\n",
        "plt.ylabel('\\nr2_socre of Random Forest\\n', fontsize=15, color='grey')\n",
        "plt.xlabel('\\nn_estimators\\n', fontsize=15, color='grey')\n",
        "plt.show()"
      ],
      "id": "NThQhpwaYACG",
      "execution_count": 57,
      "outputs": [
        {
          "output_type": "display_data",
          "data": {
            "image/png": "[encoded data removed]",
            "text/plain": [
              "<Figure size 432x288 with 1 Axes>"
            ]
          },
          "metadata": {
            "needs_background": "light"
          }
        }
      ]
    },
    {
      "cell_type": "markdown",
      "metadata": {
        "id": "_5Ueq1ZMRyFI"
      },
      "source": [
        "2. Decision Tree"
      ],
      "id": "_5Ueq1ZMRyFI"
    },
    {
      "cell_type": "code",
      "metadata": {
        "id": "73a0a758"
      },
      "source": [
        "from sklearn.metrics import r2_score,mean_squared_error\n",
        "tree_reg = tree.DecisionTreeRegressor(min_samples_split = 10)\n",
        "tree_reg = tree_reg.fit(X_train,y_train)\n",
        "ypred_tree   = tree_reg.predict(X_test)"
      ],
      "id": "73a0a758",
      "execution_count": 60,
      "outputs": []
    },
    {
      "cell_type": "code",
      "metadata": {
        "id": "cad494f7",
        "colab": {
          "base_uri": "https://localhost:8080/"
        },
        "outputId": "49c78eb4-1b10-448c-fd13-c70f73d79e30"
      },
      "source": [
        "print(\"r2 score for severity:\" , r2_score(y_test,ypred_tree))"
      ],
      "id": "cad494f7",
      "execution_count": 61,
      "outputs": [
        {
          "output_type": "stream",
          "name": "stdout",
          "text": [
            "r2 score for severity: 0.18803403992345213\n"
          ]
        }
      ]
    },
    {
      "cell_type": "code",
      "metadata": {
        "id": "6c22e8cf",
        "colab": {
          "base_uri": "https://localhost:8080/"
        },
        "outputId": "70eb58e6-7841-433a-e254-032cf68d8a11"
      },
      "source": [
        "print(\"mean squared error for severity: \" , mean_squared_error(y_test,ypred_tree))"
      ],
      "id": "6c22e8cf",
      "execution_count": 62,
      "outputs": [
        {
          "output_type": "stream",
          "name": "stdout",
          "text": [
            "mean squared error for severity:  0.30203357513857687\n"
          ]
        }
      ]
    },
    {
      "cell_type": "code",
      "metadata": {
        "id": "tn3VXs2dYjUd"
      },
      "source": [
        "num_iter = [5, 10, 15, 20]\n",
        "x = [];\n",
        "y = [];\n",
        "for i in num_iter:\n",
        "    tree_reg = tree.DecisionTreeRegressor(min_samples_split = i)\n",
        "    tree_reg = tree_reg.fit(X_train,y_train)\n",
        "    ypred_tree   = tree_reg.predict(X_test)\n",
        "    y.append(mean_squared_error(y_test,ypred_tree))\n",
        "    x.append(i)"
      ],
      "id": "tn3VXs2dYjUd",
      "execution_count": 122,
      "outputs": []
    },
    {
      "cell_type": "code",
      "metadata": {
        "colab": {
          "base_uri": "https://localhost:8080/",
          "height": 349
        },
        "id": "HFjP8eCZYp2E",
        "outputId": "aa23c035-aa54-43f6-9546-7798ec393438"
      },
      "source": [
        "import matplotlib.pyplot as plt\n",
        "plt.plot(x,y)\n",
        "plt.ylabel('\\nMean Squared Error of Decision Tree\\n', fontsize=15, color='grey')\n",
        "plt.xlabel('\\nn_estimators\\n', fontsize=15, color='grey')\n",
        "plt.show()"
      ],
      "id": "HFjP8eCZYp2E",
      "execution_count": 123,
      "outputs": [
        {
          "output_type": "display_data",
          "data": {
            "image/png": "[encoded data removed]",
            "text/plain": [
              "<Figure size 432x288 with 1 Axes>"
            ]
          },
          "metadata": {
            "needs_background": "light"
          }
        }
      ]
    },
    {
      "cell_type": "code",
      "metadata": {
        "id": "eXx_IPx_op6z"
      },
      "source": [
        "num_iter = [5, 10, 15, 20]\n",
        "x = [];\n",
        "y = [];\n",
        "for i in num_iter:\n",
        "    tree_reg = tree.DecisionTreeRegressor(min_samples_split = i)\n",
        "    tree_reg = tree_reg.fit(X_train,y_train)\n",
        "    ypred_tree   = tree_reg.predict(X_test)\n",
        "    y.append(r2_score(y_test,ypred_tree))\n",
        "    x.append(i)"
      ],
      "id": "eXx_IPx_op6z",
      "execution_count": 117,
      "outputs": []
    },
    {
      "cell_type": "code",
      "metadata": {
        "colab": {
          "base_uri": "https://localhost:8080/",
          "height": 320
        },
        "id": "F_7pkr3ioxhf",
        "outputId": "4abcb9f8-d6dd-4930-a6f6-0e4f7db30f6c"
      },
      "source": [
        "import matplotlib.pyplot as plt\n",
        "plt.plot(x,y)\n",
        "plt.ylabel('\\nr2 of Decision Tree\\n', fontsize=15, color='grey')\n",
        "plt.xlabel('\\nn_estimators\\n', fontsize=15, color='grey')\n",
        "plt.show()"
      ],
      "id": "F_7pkr3ioxhf",
      "execution_count": 120,
      "outputs": [
        {
          "output_type": "display_data",
          "data": {
            "image/png": "[encoded data removed]",
            "text/plain": [
              "<Figure size 432x288 with 1 Axes>"
            ]
          },
          "metadata": {
            "needs_background": "light"
          }
        }
      ]
    },
    {
      "cell_type": "code",
      "metadata": {
        "id": "eb028982",
        "colab": {
          "base_uri": "https://localhost:8080/"
        },
        "outputId": "bd791fb9-1e87-4cb7-d475-a940e5e2c074"
      },
      "source": [
        "ypred_tree"
      ],
      "id": "eb028982",
      "execution_count": 65,
      "outputs": [
        {
          "output_type": "execute_result",
          "data": {
            "text/plain": [
              "array([2., 2., 2., ..., 2., 2., 2.])"
            ]
          },
          "metadata": {},
          "execution_count": 65
        }
      ]
    },
    {
      "cell_type": "code",
      "metadata": {
        "id": "dc5fdb4a",
        "outputId": "e6894026-e746-4ad2-e19f-cd437e0a2d43"
      },
      "source": [
        "df1.iloc[:,0]"
      ],
      "id": "dc5fdb4a",
      "execution_count": null,
      "outputs": [
        {
          "data": {
            "text/plain": [
              "0          3\n",
              "1          2\n",
              "2          2\n",
              "3          2\n",
              "4          2\n",
              "          ..\n",
              "1516059    2\n",
              "1516060    2\n",
              "1516061    2\n",
              "1516062    2\n",
              "1516063    2\n",
              "Name: Severity, Length: 1516064, dtype: int64"
            ]
          },
          "execution_count": 73,
          "metadata": {},
          "output_type": "execute_result"
        }
      ]
    },
    {
      "cell_type": "code",
      "metadata": {
        "id": "b8479bc3"
      },
      "source": [
        "df2=df1.iloc[:,1:]"
      ],
      "id": "b8479bc3",
      "execution_count": null,
      "outputs": []
    },
    {
      "cell_type": "code",
      "metadata": {
        "id": "bcf2c2b0",
        "outputId": "76333a3d-17d5-46f6-9aa3-67138336a6c4"
      },
      "source": [
        "df2.info()"
      ],
      "id": "bcf2c2b0",
      "execution_count": null,
      "outputs": [
        {
          "name": "stdout",
          "output_type": "stream",
          "text": [
            "<class 'pandas.core.frame.DataFrame'>\n",
            "Int64Index: 1516064 entries, 0 to 1516063\n",
            "Data columns (total 49 columns):\n",
            " #   Column                              Non-Null Count    Dtype  \n",
            "---  ------                              --------------    -----  \n",
            " 0   Start_Lat                           1516064 non-null  float64\n",
            " 1   Start_Lng                           1516064 non-null  float64\n",
            " 2   End_Lat                             1516064 non-null  float64\n",
            " 3   End_Lng                             1516064 non-null  float64\n",
            " 4   Distance(mi)                        1516064 non-null  float64\n",
            " 5   Temperature(F)                      1516064 non-null  float64\n",
            " 6   Wind_Chill(F)                       1516064 non-null  float64\n",
            " 7   Humidity(%)                         1516064 non-null  float64\n",
            " 8   Pressure(in)                        1516064 non-null  float64\n",
            " 9   Visibility(mi)                      1516064 non-null  float64\n",
            " 10  Wind_Speed(mph)                     1516064 non-null  float64\n",
            " 11  Precipitation(in)                   1516064 non-null  float64\n",
            " 12  datetime_start_parsed day           1516064 non-null  int64  \n",
            " 13  datetime_start_parsed month         1516064 non-null  int64  \n",
            " 14  datetime_start_parsed year          1516064 non-null  int64  \n",
            " 15  datetime_start_parsed hour          1516064 non-null  int64  \n",
            " 16  datetime_start_parsed minute        1516064 non-null  int64  \n",
            " 17  datetime_start_parsed second        1516064 non-null  int64  \n",
            " 18  datetime_end_parsed day             1516064 non-null  int64  \n",
            " 19  datetime_end_parsed month           1516064 non-null  int64  \n",
            " 20  datetime_end_parsed year            1516064 non-null  int64  \n",
            " 21  datetime_end_parsed hour            1516064 non-null  int64  \n",
            " 22  datetime_end_parsed minute          1516064 non-null  int64  \n",
            " 23  datetime_end_parsed second          1516064 non-null  int64  \n",
            " 24  datetime_weathertime_parsed day     1516064 non-null  int64  \n",
            " 25  datetime_weathertime_parsed month   1516064 non-null  int64  \n",
            " 26  datetime_weathertime_parsed year    1516064 non-null  int64  \n",
            " 27  datetime_weathertime_parsed hour    1516064 non-null  int64  \n",
            " 28  datetime_weathertime_parsed minute  1516064 non-null  int64  \n",
            " 29  datetime_weathertime_parsed second  1516064 non-null  int64  \n",
            " 30  Severity                            1516064 non-null  int64  \n",
            " 31  Side                                1516064 non-null  int64  \n",
            " 32  Amenity                             1516064 non-null  int64  \n",
            " 33  Bump                                1516064 non-null  int64  \n",
            " 34  Crossing                            1516064 non-null  int64  \n",
            " 35  Give_Way                            1516064 non-null  int64  \n",
            " 36  Junction                            1516064 non-null  int64  \n",
            " 37  No_Exit                             1516064 non-null  int64  \n",
            " 38  Railway                             1516064 non-null  int64  \n",
            " 39  Roundabout                          1516064 non-null  int64  \n",
            " 40  Station                             1516064 non-null  int64  \n",
            " 41  Stop                                1516064 non-null  int64  \n",
            " 42  Traffic_Calming                     1516064 non-null  int64  \n",
            " 43  Traffic_Signal                      1516064 non-null  int64  \n",
            " 44  Turning_Loop                        1516064 non-null  int64  \n",
            " 45  Sunrise_Sunset                      1516064 non-null  int64  \n",
            " 46  Civil_Twilight                      1516064 non-null  int64  \n",
            " 47  Nautical_Twilight                   1516064 non-null  int64  \n",
            " 48  Astronomical_Twilight               1516064 non-null  int64  \n",
            "dtypes: float64(12), int64(37)\n",
            "memory usage: 618.3 MB\n"
          ]
        }
      ]
    },
    {
      "cell_type": "markdown",
      "metadata": {
        "id": "i4Gzkbjwi0E1"
      },
      "source": [
        "4. Neural netork"
      ],
      "id": "i4Gzkbjwi0E1"
    },
    {
      "cell_type": "code",
      "metadata": {
        "id": "3hMhAI4GigQR"
      },
      "source": [
        "y_nn = df1.iloc[:,0]\n",
        "from tensorflow.keras.utils import to_categorical\n",
        "from sklearn.preprocessing import LabelEncoder"
      ],
      "id": "3hMhAI4GigQR",
      "execution_count": 66,
      "outputs": []
    },
    {
      "cell_type": "code",
      "metadata": {
        "id": "TlpFyBn5ip6-"
      },
      "source": [
        "encoder = LabelEncoder()\n",
        "encoder.fit(y_nn)\n",
        "y_nn = encoder.transform(y_nn)\n",
        "y_nn = to_categorical(y_nn)"
      ],
      "id": "TlpFyBn5ip6-",
      "execution_count": 67,
      "outputs": []
    },
    {
      "cell_type": "code",
      "metadata": {
        "id": "GEIHM2wiip9E"
      },
      "source": [
        "X_train, X_test, y_train, y_test = train_test_split(df1.iloc[:,1:],y_nn, test_size = 0.3, random_state = 101)"
      ],
      "id": "GEIHM2wiip9E",
      "execution_count": 68,
      "outputs": []
    },
    {
      "cell_type": "code",
      "metadata": {
        "id": "Kdns2tbIjBgb"
      },
      "source": [
        "from tensorflow.keras.models import Sequential\n",
        "from tensorflow.keras.layers import Dense, Dropout\n",
        "from tensorflow.keras.callbacks import EarlyStopping\n",
        "\n",
        "early_stop = EarlyStopping(monitor = 'val_loss', mode = 'min', verbose = 1, patience = 5)"
      ],
      "id": "Kdns2tbIjBgb",
      "execution_count": 69,
      "outputs": []
    },
    {
      "cell_type": "code",
      "metadata": {
        "id": "BKr7bukWjBi9"
      },
      "source": [
        "model = Sequential()\n",
        "\n",
        "model.add(Dense(39, activation = 'relu', input_dim = len(df1.columns) - 1))\n",
        "model.add(Dropout(rate = 0.4))\n",
        "model.add(Dense(20 , activation = 'relu'))\n",
        "model.add(Dropout(rate = 0.4))\n",
        "model.add(Dense(10 , activation = 'relu'))\n",
        "model.add(Dropout(rate = 0.4))\n",
        "model.add(Dense(4, activation = 'softmax'))\n",
        "model.compile(loss = 'categorical_crossentropy', optimizer = 'adam', metrics = ['accuracy'])"
      ],
      "id": "BKr7bukWjBi9",
      "execution_count": 70,
      "outputs": []
    },
    {
      "cell_type": "code",
      "metadata": {
        "id": "DzX9KEA6etCQ"
      },
      "source": [
        "def baseline_model():\n",
        "  model = Sequential()\n",
        "  model.add(Dense(13, input_dim=49, kernel_initializer='normal', activation='relu'))\n",
        "  model.add(Dense(1, kernel_initializer='normal'))\n",
        "  # Compile model\n",
        "  model.compile(loss='mean_squared_error', optimizer='adam')"
      ],
      "id": "DzX9KEA6etCQ",
      "execution_count": 84,
      "outputs": []
    },
    {
      "cell_type": "code",
      "metadata": {
        "colab": {
          "base_uri": "https://localhost:8080/"
        },
        "id": "D1Q6WJoSe1zU",
        "outputId": "b068148d-10ab-4c3d-e1ff-91e9a7c9bd91"
      },
      "source": [
        "model.fit(X_train, y_train, epochs = 2, callbacks = [early_stop],batch_size = 32, validation_data = (X_test, y_test))"
      ],
      "id": "D1Q6WJoSe1zU",
      "execution_count": 82,
      "outputs": [
        {
          "output_type": "stream",
          "name": "stdout",
          "text": [
            "Epoch 1/2\n",
            "33164/33164 [==============================] - 57s 2ms/step - loss: 0.2037 - val_loss: 0.1875\n",
            "Epoch 2/2\n",
            "33164/33164 [==============================] - 65s 2ms/step - loss: 0.1875 - val_loss: 0.1875\n"
          ]
        },
        {
          "output_type": "execute_result",
          "data": {
            "text/plain": [
              "<keras.callbacks.History at 0x7f0cf5a81d90>"
            ]
          },
          "metadata": {},
          "execution_count": 82
        }
      ]
    },
    {
      "cell_type": "code",
      "metadata": {
        "colab": {
          "base_uri": "https://localhost:8080/"
        },
        "id": "4PCPaKPOjBl-",
        "outputId": "3b8f3449-5d57-4051-9833-eab3a7682f19"
      },
      "source": [
        "model.fit(X_train, y_train, epochs = 2, callbacks = [early_stop],batch_size = 32, validation_data = (X_test, y_test))"
      ],
      "id": "4PCPaKPOjBl-",
      "execution_count": 71,
      "outputs": [
        {
          "output_type": "stream",
          "name": "stdout",
          "text": [
            "Epoch 1/2\n",
            "33164/33164 [==============================] - 68s 2ms/step - loss: 1.3897 - accuracy: 0.7932 - val_loss: 0.6876 - val_accuracy: 0.7991\n",
            "Epoch 2/2\n",
            "33164/33164 [==============================] - 68s 2ms/step - loss: 0.6855 - accuracy: 0.7999 - val_loss: 0.6876 - val_accuracy: 0.7991\n"
          ]
        },
        {
          "output_type": "execute_result",
          "data": {
            "text/plain": [
              "<keras.callbacks.History at 0x7f0cf4b4b850>"
            ]
          },
          "metadata": {},
          "execution_count": 71
        }
      ]
    },
    {
      "cell_type": "code",
      "metadata": {
        "colab": {
          "base_uri": "https://localhost:8080/"
        },
        "id": "opsENQoIjJpL",
        "outputId": "b9ec9cde-f64c-43f8-9f6e-361a86c5f051"
      },
      "source": [
        "scores = model.evaluate(X_test, y_test)\n",
        "print(\"\\n%s: %.2f%%\" % (model.metrics_names[1], scores[1]*100))"
      ],
      "id": "opsENQoIjJpL",
      "execution_count": 72,
      "outputs": [
        {
          "output_type": "stream",
          "name": "stdout",
          "text": [
            "14214/14214 [==============================] - 17s 1ms/step - loss: 0.6876 - accuracy: 0.7991\n",
            "\n",
            "accuracy: 79.91%\n"
          ]
        }
      ]
    },
    {
      "cell_type": "code",
      "metadata": {
        "id": "Abvok9ELgoBW"
      },
      "source": [
        "y_pred = model.predict(X_test)"
      ],
      "id": "Abvok9ELgoBW",
      "execution_count": 88,
      "outputs": []
    },
    {
      "cell_type": "markdown",
      "metadata": {
        "id": "bYOoBlxiihCm"
      },
      "source": [
        "# Models for Distance"
      ],
      "id": "bYOoBlxiihCm"
    },
    {
      "cell_type": "code",
      "metadata": {
        "id": "TH5QvUvngnTn"
      },
      "source": [
        ""
      ],
      "id": "TH5QvUvngnTn",
      "execution_count": null,
      "outputs": []
    },
    {
      "cell_type": "markdown",
      "metadata": {
        "id": "FwRXyA0iSXtj"
      },
      "source": [
        "1.Random Forest"
      ],
      "id": "FwRXyA0iSXtj"
    },
    {
      "cell_type": "code",
      "metadata": {
        "id": "arOO4LK8jdvY"
      },
      "source": [
        "df2=df1.iloc[:,1:]"
      ],
      "id": "arOO4LK8jdvY",
      "execution_count": 90,
      "outputs": []
    },
    {
      "cell_type": "code",
      "metadata": {
        "id": "68549850"
      },
      "source": [
        "x1 = df2.loc[:,df2.columns!='Distance(mi)']\n",
        "y1 = df2.iloc[:,4] "
      ],
      "id": "68549850",
      "execution_count": 91,
      "outputs": []
    },
    {
      "cell_type": "code",
      "metadata": {
        "id": "9c92d426"
      },
      "source": [
        "X_train,X_test,y_train,y_test=train_test_split(x1,y1,test_size=0.2,random_state=2)"
      ],
      "id": "9c92d426",
      "execution_count": 92,
      "outputs": []
    },
    {
      "cell_type": "code",
      "metadata": {
        "id": "652411e0",
        "colab": {
          "base_uri": "https://localhost:8080/"
        },
        "outputId": "1f4fc716-0011-4466-eddf-c741bb0c0cab"
      },
      "source": [
        "regr = RandomForestRegressor(n_estimators=10, random_state=0)\n",
        "regr.fit(X_train,y_train)"
      ],
      "id": "652411e0",
      "execution_count": 93,
      "outputs": [
        {
          "output_type": "execute_result",
          "data": {
            "text/plain": [
              "RandomForestRegressor(n_estimators=10, random_state=0)"
            ]
          },
          "metadata": {},
          "execution_count": 93
        }
      ]
    },
    {
      "cell_type": "code",
      "metadata": {
        "id": "6bbdfc16"
      },
      "source": [
        "Distance_Random = regr.predict(X_test)  # test the output by changing values"
      ],
      "id": "6bbdfc16",
      "execution_count": 94,
      "outputs": []
    },
    {
      "cell_type": "code",
      "metadata": {
        "id": "60019910",
        "colab": {
          "base_uri": "https://localhost:8080/"
        },
        "outputId": "d9524c57-4cb4-49c5-87a0-7b4334a2b2a6"
      },
      "source": [
        "print(\"r2 score for severity:\" , r2_score(y_test,Distance_Random))"
      ],
      "id": "60019910",
      "execution_count": 95,
      "outputs": [
        {
          "output_type": "stream",
          "name": "stdout",
          "text": [
            "r2 score for severity: 0.4171495765197536\n"
          ]
        }
      ]
    },
    {
      "cell_type": "code",
      "metadata": {
        "id": "c438dbbc",
        "colab": {
          "base_uri": "https://localhost:8080/"
        },
        "outputId": "b32e1775-a838-4b88-a016-f7e9eaa25f41"
      },
      "source": [
        "print(\"mean squared error for severity: \" , mean_squared_error(y_test,Distance_Random))"
      ],
      "id": "c438dbbc",
      "execution_count": 96,
      "outputs": [
        {
          "output_type": "stream",
          "name": "stdout",
          "text": [
            "mean squared error for severity:  1.6361829799104997\n"
          ]
        }
      ]
    },
    {
      "cell_type": "code",
      "metadata": {
        "id": "8pvVgEqpGA2D"
      },
      "source": [
        "num_iter = [5, 10, 15, 20]\n",
        "x = [];\n",
        "y = [];\n",
        "for i in num_iter:\n",
        "    regr = RandomForestRegressor(n_estimators=i, random_state=0)\n",
        "    regr.fit(X_train,y_train)\n",
        "    Y_pred = regr.predict(X_test)\n",
        "    y.append(mean_squared_error(y_test,Distance_Random))\n",
        "    x.append(i)"
      ],
      "id": "8pvVgEqpGA2D",
      "execution_count": 97,
      "outputs": []
    },
    {
      "cell_type": "code",
      "metadata": {
        "id": "fK9BjLA7GA2D",
        "outputId": "14699bff-f312-4b9b-a07e-55aea71f06cb"
      },
      "source": [
        "import matplotlib.pyplot as plt\n",
        "plt.plot(x,y)\n",
        "plt.ylabel('\\nMean Squared Error\\n', fontsize=15, color='grey')\n",
        "plt.xlabel('\\nn_estimators\\n', fontsize=15, color='grey')\n",
        "plt.show()"
      ],
      "id": "fK9BjLA7GA2D",
      "execution_count": null,
      "outputs": [
        {
          "data": {
            "image/png": "[encoded data removed]",
            "text/plain": [
              "<Figure size 432x288 with 1 Axes>"
            ]
          },
          "metadata": {},
          "output_type": "display_data"
        }
      ]
    },
    {
      "cell_type": "code",
      "metadata": {
        "id": "ZaOqPYOuGA2D"
      },
      "source": [
        "num_iter = [5, 10, 15, 20]\n",
        "x = [];\n",
        "y = [];\n",
        "for i in num_iter:\n",
        "    \n",
        "    y.append(r2_score(y_test,Distance_Random))\n",
        "    x.append(i)"
      ],
      "id": "ZaOqPYOuGA2D",
      "execution_count": 99,
      "outputs": []
    },
    {
      "cell_type": "code",
      "metadata": {
        "id": "kMmiZY7uGA2D",
        "outputId": "3a73f7b1-ba7d-4839-92ea-a9270391f338"
      },
      "source": [
        "import matplotlib.pyplot as plt\n",
        "plt.plot(x,y)\n",
        "plt.ylabel('\\nr2_socre\\n', fontsize=15, color='grey')\n",
        "plt.xlabel('\\nn_estimators\\n', fontsize=15, color='grey')\n",
        "plt.show()"
      ],
      "id": "kMmiZY7uGA2D",
      "execution_count": null,
      "outputs": [
        {
          "data": {
            "image/png": "[encoded data removed]",
            "text/plain": [
              "<Figure size 432x288 with 1 Axes>"
            ]
          },
          "metadata": {},
          "output_type": "display_data"
        }
      ]
    },
    {
      "cell_type": "markdown",
      "metadata": {
        "id": "kHBt04e-SPHk"
      },
      "source": [
        "2. Decision Tree"
      ],
      "id": "kHBt04e-SPHk"
    },
    {
      "cell_type": "code",
      "metadata": {
        "id": "6121206d"
      },
      "source": [
        "# Decision Tree Regressor"
      ],
      "id": "6121206d",
      "execution_count": null,
      "outputs": []
    },
    {
      "cell_type": "code",
      "metadata": {
        "id": "170c85ef"
      },
      "source": [
        "from sklearn.metrics import r2_score,mean_squared_error\n",
        "tree_reg = tree.DecisionTreeRegressor(min_samples_split = 10)\n",
        "tree_reg = tree_reg.fit(X_train,y_train)\n",
        "ypred   = tree_reg.predict(X_test)"
      ],
      "id": "170c85ef",
      "execution_count": 102,
      "outputs": []
    },
    {
      "cell_type": "code",
      "metadata": {
        "id": "7cfa8de8",
        "colab": {
          "base_uri": "https://localhost:8080/"
        },
        "outputId": "37f162fb-4ba8-4af8-8794-9a32498baedb"
      },
      "source": [
        "print(\"r2 score for distance:\" , r2_score(y_test,ypred))"
      ],
      "id": "7cfa8de8",
      "execution_count": 103,
      "outputs": [
        {
          "output_type": "stream",
          "name": "stdout",
          "text": [
            "r2 score for distance: 0.15600915208938182\n"
          ]
        }
      ]
    },
    {
      "cell_type": "code",
      "metadata": {
        "id": "82067117",
        "colab": {
          "base_uri": "https://localhost:8080/"
        },
        "outputId": "399dcaef-f492-4ebe-dd1d-94905a388781"
      },
      "source": [
        "print(\"mean squared error for distance: \" , mean_squared_error(y_test,ypred))"
      ],
      "id": "82067117",
      "execution_count": 104,
      "outputs": [
        {
          "output_type": "stream",
          "name": "stdout",
          "text": [
            "mean squared error for distance:  2.3692587410436805\n"
          ]
        }
      ]
    },
    {
      "cell_type": "code",
      "metadata": {
        "id": "694b3a76"
      },
      "source": [
        "from sklearn.metrics import r2_score,mean_squared_error\n",
        "num_iter = [5, 10, 15, 20]\n",
        "x = [];\n",
        "y = [];\n",
        "for i in num_iter:\n",
        "    tree_reg = tree.DecisionTreeRegressor(min_samples_split = i)\n",
        "    tree_reg = tree_reg.fit(X_train,y_train)\n",
        "    ypred   = tree_reg.predict(X_test)\n",
        "    y.append(r2_score(y_test,ypred))\n",
        "    x.append(i)"
      ],
      "id": "694b3a76",
      "execution_count": 111,
      "outputs": []
    },
    {
      "cell_type": "code",
      "metadata": {
        "colab": {
          "base_uri": "https://localhost:8080/",
          "height": 320
        },
        "id": "wvM6z1SLiKd8",
        "outputId": "450d43bc-c053-4e73-c7a5-2b6d5e9ccd91"
      },
      "source": [
        "plt.plot(x,y)\n",
        "plt.ylabel('\\nr2_score\\n', fontsize=15, color='grey')\n",
        "plt.xlabel('\\nmin_samples_split\\n', fontsize=15, color='grey')\n",
        "plt.show()"
      ],
      "id": "wvM6z1SLiKd8",
      "execution_count": 112,
      "outputs": [
        {
          "output_type": "display_data",
          "data": {
            "image/png": "[encoded data removed]",
            "text/plain": [
              "<Figure size 432x288 with 1 Axes>"
            ]
          },
          "metadata": {
            "needs_background": "light"
          }
        }
      ]
    },
    {
      "cell_type": "code",
      "metadata": {
        "id": "izrji8y1GA2E"
      },
      "source": [
        "from sklearn.metrics import r2_score,mean_squared_error\n",
        "num_iter = [5, 10, 15, 20]\n",
        "x = [];\n",
        "y = [];\n",
        "for i in num_iter:\n",
        "    tree_reg = tree.DecisionTreeRegressor(min_samples_split = i)\n",
        "    tree_reg = tree_reg.fit(X_train,y_train)\n",
        "    ypred   = tree_reg.predict(X_test)\n",
        "    y.append(mean_squared_error(y_test,ypred))\n",
        "    x.append(i)"
      ],
      "id": "izrji8y1GA2E",
      "execution_count": 109,
      "outputs": []
    },
    {
      "cell_type": "code",
      "metadata": {
        "colab": {
          "base_uri": "https://localhost:8080/",
          "height": 320
        },
        "id": "RQs2xWHeiMLw",
        "outputId": "842f4c87-b236-4728-da5d-3f573c670f00"
      },
      "source": [
        "plt.plot(x,y)\n",
        "plt.ylabel('\\nMean Squared Error\\n', fontsize=15, color='grey')\n",
        "plt.xlabel('\\nmin_samples_split\\n', fontsize=15, color='grey')\n",
        "plt.show()"
      ],
      "id": "RQs2xWHeiMLw",
      "execution_count": 110,
      "outputs": [
        {
          "output_type": "display_data",
          "data": {
            "image/png": "[encoded data removed]",
            "text/plain": [
              "<Figure size 432x288 with 1 Axes>"
            ]
          },
          "metadata": {
            "needs_background": "light"
          }
        }
      ]
    }
  ]
}